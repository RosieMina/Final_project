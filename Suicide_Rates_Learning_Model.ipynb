{
 "cells": [
  {
   "cell_type": "code",
   "execution_count": 1,
   "id": "ad984d54",
   "metadata": {},
   "outputs": [],
   "source": [
    "import warnings\n",
    "warnings.filterwarnings('ignore')"
   ]
  },
  {
   "cell_type": "code",
   "execution_count": 2,
   "id": "b5b31ac7",
   "metadata": {},
   "outputs": [],
   "source": [
    "# Import dependencies \n",
    "import numpy as np\n",
    "import pandas as pd\n",
    "from collections import Counter\n",
    "from sklearn.metrics import balanced_accuracy_score\n",
    "from sklearn.metrics import confusion_matrix\n",
    "from imblearn.metrics import classification_report_imbalanced"
   ]
  },
  {
   "cell_type": "markdown",
   "id": "963ba0bd",
   "metadata": {},
   "source": [
    "# Week 1: Read in CSV File"
   ]
  },
  {
   "cell_type": "code",
   "execution_count": 3,
   "id": "26a54039",
   "metadata": {},
   "outputs": [],
   "source": [
    "# Source: https://www.kaggle.com/datasets/russellyates88/suicide-rates-overview-1985-to-2016?resource=download\n",
    "# For our project, we agreed that a supervised learning model wold be the best first simply because\n",
    "# we already have the data provided to us and our answer. In addition, we can look at comparisons \n",
    "# when it comes to suicide since we believe there are many factors we can look at in order to find a relationship.\n",
    "columns = [\n",
    "    \"country\",\"year\",\"sex\",\"age\",\"suicides_no\",\"population\",\"suicides/100k_pop\",\"country_year\",\n",
    "    \"HDI_four_year\",\"gdp_per_capita ($)\",\"generation\"\n",
    "]\n",
    "\n",
    "target = [\"sex\"]"
   ]
  },
  {
   "cell_type": "code",
   "execution_count": 4,
   "id": "03f0fc72",
   "metadata": {},
   "outputs": [
    {
     "data": {
      "text/html": [
       "<div>\n",
       "<style scoped>\n",
       "    .dataframe tbody tr th:only-of-type {\n",
       "        vertical-align: middle;\n",
       "    }\n",
       "\n",
       "    .dataframe tbody tr th {\n",
       "        vertical-align: top;\n",
       "    }\n",
       "\n",
       "    .dataframe thead th {\n",
       "        text-align: right;\n",
       "    }\n",
       "</style>\n",
       "<table border=\"1\" class=\"dataframe\">\n",
       "  <thead>\n",
       "    <tr style=\"text-align: right;\">\n",
       "      <th></th>\n",
       "      <th>country</th>\n",
       "      <th>year</th>\n",
       "      <th>sex</th>\n",
       "      <th>age</th>\n",
       "      <th>suicides_no</th>\n",
       "      <th>population</th>\n",
       "      <th>suicides/100k pop</th>\n",
       "      <th>country-year</th>\n",
       "      <th>HDI for year</th>\n",
       "      <th>gdp_for_year ($)</th>\n",
       "      <th>gdp_per_capita ($)</th>\n",
       "      <th>generation</th>\n",
       "    </tr>\n",
       "  </thead>\n",
       "  <tbody>\n",
       "    <tr>\n",
       "      <th>0</th>\n",
       "      <td>Albania</td>\n",
       "      <td>1995</td>\n",
       "      <td>male</td>\n",
       "      <td>25-34 years</td>\n",
       "      <td>13</td>\n",
       "      <td>232900</td>\n",
       "      <td>5.58</td>\n",
       "      <td>Albania1995</td>\n",
       "      <td>0.619</td>\n",
       "      <td>2,424,499,009</td>\n",
       "      <td>835</td>\n",
       "      <td>Generation X</td>\n",
       "    </tr>\n",
       "    <tr>\n",
       "      <th>1</th>\n",
       "      <td>Albania</td>\n",
       "      <td>1995</td>\n",
       "      <td>male</td>\n",
       "      <td>55-74 years</td>\n",
       "      <td>9</td>\n",
       "      <td>178000</td>\n",
       "      <td>5.06</td>\n",
       "      <td>Albania1995</td>\n",
       "      <td>0.619</td>\n",
       "      <td>2,424,499,009</td>\n",
       "      <td>835</td>\n",
       "      <td>Silent</td>\n",
       "    </tr>\n",
       "    <tr>\n",
       "      <th>2</th>\n",
       "      <td>Albania</td>\n",
       "      <td>1995</td>\n",
       "      <td>female</td>\n",
       "      <td>75+ years</td>\n",
       "      <td>2</td>\n",
       "      <td>40800</td>\n",
       "      <td>4.90</td>\n",
       "      <td>Albania1995</td>\n",
       "      <td>0.619</td>\n",
       "      <td>2,424,499,009</td>\n",
       "      <td>835</td>\n",
       "      <td>G.I. Generation</td>\n",
       "    </tr>\n",
       "    <tr>\n",
       "      <th>3</th>\n",
       "      <td>Albania</td>\n",
       "      <td>1995</td>\n",
       "      <td>female</td>\n",
       "      <td>15-24 years</td>\n",
       "      <td>13</td>\n",
       "      <td>283500</td>\n",
       "      <td>4.59</td>\n",
       "      <td>Albania1995</td>\n",
       "      <td>0.619</td>\n",
       "      <td>2,424,499,009</td>\n",
       "      <td>835</td>\n",
       "      <td>Generation X</td>\n",
       "    </tr>\n",
       "    <tr>\n",
       "      <th>4</th>\n",
       "      <td>Albania</td>\n",
       "      <td>1995</td>\n",
       "      <td>male</td>\n",
       "      <td>15-24 years</td>\n",
       "      <td>11</td>\n",
       "      <td>241200</td>\n",
       "      <td>4.56</td>\n",
       "      <td>Albania1995</td>\n",
       "      <td>0.619</td>\n",
       "      <td>2,424,499,009</td>\n",
       "      <td>835</td>\n",
       "      <td>Generation X</td>\n",
       "    </tr>\n",
       "    <tr>\n",
       "      <th>...</th>\n",
       "      <td>...</td>\n",
       "      <td>...</td>\n",
       "      <td>...</td>\n",
       "      <td>...</td>\n",
       "      <td>...</td>\n",
       "      <td>...</td>\n",
       "      <td>...</td>\n",
       "      <td>...</td>\n",
       "      <td>...</td>\n",
       "      <td>...</td>\n",
       "      <td>...</td>\n",
       "      <td>...</td>\n",
       "    </tr>\n",
       "    <tr>\n",
       "      <th>8359</th>\n",
       "      <td>Uzbekistan</td>\n",
       "      <td>2014</td>\n",
       "      <td>female</td>\n",
       "      <td>35-54 years</td>\n",
       "      <td>107</td>\n",
       "      <td>3620833</td>\n",
       "      <td>2.96</td>\n",
       "      <td>Uzbekistan2014</td>\n",
       "      <td>0.675</td>\n",
       "      <td>63,067,077,179</td>\n",
       "      <td>2309</td>\n",
       "      <td>Generation X</td>\n",
       "    </tr>\n",
       "    <tr>\n",
       "      <th>8360</th>\n",
       "      <td>Uzbekistan</td>\n",
       "      <td>2014</td>\n",
       "      <td>female</td>\n",
       "      <td>75+ years</td>\n",
       "      <td>9</td>\n",
       "      <td>348465</td>\n",
       "      <td>2.58</td>\n",
       "      <td>Uzbekistan2014</td>\n",
       "      <td>0.675</td>\n",
       "      <td>63,067,077,179</td>\n",
       "      <td>2309</td>\n",
       "      <td>Silent</td>\n",
       "    </tr>\n",
       "    <tr>\n",
       "      <th>8361</th>\n",
       "      <td>Uzbekistan</td>\n",
       "      <td>2014</td>\n",
       "      <td>male</td>\n",
       "      <td>5-14 years</td>\n",
       "      <td>60</td>\n",
       "      <td>2762158</td>\n",
       "      <td>2.17</td>\n",
       "      <td>Uzbekistan2014</td>\n",
       "      <td>0.675</td>\n",
       "      <td>63,067,077,179</td>\n",
       "      <td>2309</td>\n",
       "      <td>Generation Z</td>\n",
       "    </tr>\n",
       "    <tr>\n",
       "      <th>8362</th>\n",
       "      <td>Uzbekistan</td>\n",
       "      <td>2014</td>\n",
       "      <td>female</td>\n",
       "      <td>5-14 years</td>\n",
       "      <td>44</td>\n",
       "      <td>2631600</td>\n",
       "      <td>1.67</td>\n",
       "      <td>Uzbekistan2014</td>\n",
       "      <td>0.675</td>\n",
       "      <td>63,067,077,179</td>\n",
       "      <td>2309</td>\n",
       "      <td>Generation Z</td>\n",
       "    </tr>\n",
       "    <tr>\n",
       "      <th>8363</th>\n",
       "      <td>Uzbekistan</td>\n",
       "      <td>2014</td>\n",
       "      <td>female</td>\n",
       "      <td>55-74 years</td>\n",
       "      <td>21</td>\n",
       "      <td>1438935</td>\n",
       "      <td>1.46</td>\n",
       "      <td>Uzbekistan2014</td>\n",
       "      <td>0.675</td>\n",
       "      <td>63,067,077,179</td>\n",
       "      <td>2309</td>\n",
       "      <td>Boomers</td>\n",
       "    </tr>\n",
       "  </tbody>\n",
       "</table>\n",
       "<p>8364 rows × 12 columns</p>\n",
       "</div>"
      ],
      "text/plain": [
       "         country  year     sex          age  suicides_no  population  \\\n",
       "0        Albania  1995    male  25-34 years           13      232900   \n",
       "1        Albania  1995    male  55-74 years            9      178000   \n",
       "2        Albania  1995  female    75+ years            2       40800   \n",
       "3        Albania  1995  female  15-24 years           13      283500   \n",
       "4        Albania  1995    male  15-24 years           11      241200   \n",
       "...          ...   ...     ...          ...          ...         ...   \n",
       "8359  Uzbekistan  2014  female  35-54 years          107     3620833   \n",
       "8360  Uzbekistan  2014  female    75+ years            9      348465   \n",
       "8361  Uzbekistan  2014    male   5-14 years           60     2762158   \n",
       "8362  Uzbekistan  2014  female   5-14 years           44     2631600   \n",
       "8363  Uzbekistan  2014  female  55-74 years           21     1438935   \n",
       "\n",
       "      suicides/100k pop    country-year  HDI for year  gdp_for_year ($)   \\\n",
       "0                  5.58     Albania1995         0.619      2,424,499,009   \n",
       "1                  5.06     Albania1995         0.619      2,424,499,009   \n",
       "2                  4.90     Albania1995         0.619      2,424,499,009   \n",
       "3                  4.59     Albania1995         0.619      2,424,499,009   \n",
       "4                  4.56     Albania1995         0.619      2,424,499,009   \n",
       "...                 ...             ...           ...                ...   \n",
       "8359               2.96  Uzbekistan2014         0.675     63,067,077,179   \n",
       "8360               2.58  Uzbekistan2014         0.675     63,067,077,179   \n",
       "8361               2.17  Uzbekistan2014         0.675     63,067,077,179   \n",
       "8362               1.67  Uzbekistan2014         0.675     63,067,077,179   \n",
       "8363               1.46  Uzbekistan2014         0.675     63,067,077,179   \n",
       "\n",
       "      gdp_per_capita ($)       generation  \n",
       "0                    835     Generation X  \n",
       "1                    835           Silent  \n",
       "2                    835  G.I. Generation  \n",
       "3                    835     Generation X  \n",
       "4                    835     Generation X  \n",
       "...                  ...              ...  \n",
       "8359                2309     Generation X  \n",
       "8360                2309           Silent  \n",
       "8361                2309     Generation Z  \n",
       "8362                2309     Generation Z  \n",
       "8363                2309          Boomers  \n",
       "\n",
       "[8364 rows x 12 columns]"
      ]
     },
     "execution_count": 4,
     "metadata": {},
     "output_type": "execute_result"
    }
   ],
   "source": [
    "# Load the data\n",
    "file_path = ('master.csv')\n",
    "df = pd.read_csv(file_path)\n",
    "\n",
    "# Drop the null columns where all values are null\n",
    "df = df.dropna(axis='columns', how='all')\n",
    "\n",
    "# Drop the null rows\n",
    "df = df.dropna()\n",
    "\n",
    "df.reset_index(inplace=True, drop=True)\n",
    "\n",
    "df"
   ]
  },
  {
   "cell_type": "code",
   "execution_count": 5,
   "id": "4c4b22bd",
   "metadata": {},
   "outputs": [
    {
     "name": "stdout",
     "output_type": "stream",
     "text": [
      "Columns country has 0 null values\n",
      "Columns year has 0 null values\n",
      "Columns sex has 0 null values\n",
      "Columns age has 0 null values\n",
      "Columns suicides_no has 0 null values\n",
      "Columns population has 0 null values\n",
      "Columns suicides/100k pop has 0 null values\n",
      "Columns country-year has 0 null values\n",
      "Columns HDI for year has 0 null values\n",
      "Columns  gdp_for_year ($)  has 0 null values\n",
      "Columns gdp_per_capita ($) has 0 null values\n",
      "Columns generation has 0 null values\n"
     ]
    }
   ],
   "source": [
    "# Week 2: Preprocessing Data by first finding null values \n",
    "for column in df.columns:\n",
    "    print(f\"Columns {column} has {df[column].isnull().sum()} null values\")"
   ]
  },
  {
   "cell_type": "code",
   "execution_count": 6,
   "id": "a7d44245",
   "metadata": {},
   "outputs": [
    {
     "name": "stdout",
     "output_type": "stream",
     "text": [
      "Duplicate entries: 0\n"
     ]
    }
   ],
   "source": [
    "# Week 2: Preprocessing by find duplicate entries \n",
    "print(f\"Duplicate entries: {df.duplicated().sum()}\")"
   ]
  },
  {
   "cell_type": "markdown",
   "id": "ed0fe291",
   "metadata": {},
   "source": [
    "# Week 2 Changes: Filtering DataFrame to get Specific Countries"
   ]
  },
  {
   "cell_type": "code",
   "execution_count": 8,
   "id": "e8c6544f",
   "metadata": {},
   "outputs": [
    {
     "data": {
      "text/html": [
       "<div>\n",
       "<style scoped>\n",
       "    .dataframe tbody tr th:only-of-type {\n",
       "        vertical-align: middle;\n",
       "    }\n",
       "\n",
       "    .dataframe tbody tr th {\n",
       "        vertical-align: top;\n",
       "    }\n",
       "\n",
       "    .dataframe thead th {\n",
       "        text-align: right;\n",
       "    }\n",
       "</style>\n",
       "<table border=\"1\" class=\"dataframe\">\n",
       "  <thead>\n",
       "    <tr style=\"text-align: right;\">\n",
       "      <th></th>\n",
       "      <th>country</th>\n",
       "      <th>year</th>\n",
       "      <th>sex</th>\n",
       "      <th>age</th>\n",
       "      <th>suicides_no</th>\n",
       "      <th>population</th>\n",
       "      <th>suicides/100k pop</th>\n",
       "      <th>country-year</th>\n",
       "      <th>HDI for year</th>\n",
       "      <th>gdp_for_year ($)</th>\n",
       "      <th>gdp_per_capita ($)</th>\n",
       "      <th>generation</th>\n",
       "    </tr>\n",
       "  </thead>\n",
       "  <tbody>\n",
       "    <tr>\n",
       "      <th>7932</th>\n",
       "      <td>United Kingdom</td>\n",
       "      <td>1985</td>\n",
       "      <td>male</td>\n",
       "      <td>75+ years</td>\n",
       "      <td>264</td>\n",
       "      <td>1202838</td>\n",
       "      <td>21.95</td>\n",
       "      <td>United Kingdom1985</td>\n",
       "      <td>0.753</td>\n",
       "      <td>489,285,164,271</td>\n",
       "      <td>9231</td>\n",
       "      <td>G.I. Generation</td>\n",
       "    </tr>\n",
       "    <tr>\n",
       "      <th>7933</th>\n",
       "      <td>United Kingdom</td>\n",
       "      <td>1985</td>\n",
       "      <td>male</td>\n",
       "      <td>55-74 years</td>\n",
       "      <td>915</td>\n",
       "      <td>5170113</td>\n",
       "      <td>17.70</td>\n",
       "      <td>United Kingdom1985</td>\n",
       "      <td>0.753</td>\n",
       "      <td>489,285,164,271</td>\n",
       "      <td>9231</td>\n",
       "      <td>G.I. Generation</td>\n",
       "    </tr>\n",
       "    <tr>\n",
       "      <th>7934</th>\n",
       "      <td>United Kingdom</td>\n",
       "      <td>1985</td>\n",
       "      <td>male</td>\n",
       "      <td>35-54 years</td>\n",
       "      <td>1208</td>\n",
       "      <td>6899879</td>\n",
       "      <td>17.51</td>\n",
       "      <td>United Kingdom1985</td>\n",
       "      <td>0.753</td>\n",
       "      <td>489,285,164,271</td>\n",
       "      <td>9231</td>\n",
       "      <td>Silent</td>\n",
       "    </tr>\n",
       "    <tr>\n",
       "      <th>7935</th>\n",
       "      <td>United Kingdom</td>\n",
       "      <td>1985</td>\n",
       "      <td>male</td>\n",
       "      <td>25-34 years</td>\n",
       "      <td>620</td>\n",
       "      <td>3969689</td>\n",
       "      <td>15.62</td>\n",
       "      <td>United Kingdom1985</td>\n",
       "      <td>0.753</td>\n",
       "      <td>489,285,164,271</td>\n",
       "      <td>9231</td>\n",
       "      <td>Boomers</td>\n",
       "    </tr>\n",
       "    <tr>\n",
       "      <th>7936</th>\n",
       "      <td>United Kingdom</td>\n",
       "      <td>1985</td>\n",
       "      <td>female</td>\n",
       "      <td>55-74 years</td>\n",
       "      <td>678</td>\n",
       "      <td>6002096</td>\n",
       "      <td>11.30</td>\n",
       "      <td>United Kingdom1985</td>\n",
       "      <td>0.753</td>\n",
       "      <td>489,285,164,271</td>\n",
       "      <td>9231</td>\n",
       "      <td>G.I. Generation</td>\n",
       "    </tr>\n",
       "    <tr>\n",
       "      <th>...</th>\n",
       "      <td>...</td>\n",
       "      <td>...</td>\n",
       "      <td>...</td>\n",
       "      <td>...</td>\n",
       "      <td>...</td>\n",
       "      <td>...</td>\n",
       "      <td>...</td>\n",
       "      <td>...</td>\n",
       "      <td>...</td>\n",
       "      <td>...</td>\n",
       "      <td>...</td>\n",
       "      <td>...</td>\n",
       "    </tr>\n",
       "    <tr>\n",
       "      <th>8167</th>\n",
       "      <td>United States</td>\n",
       "      <td>2014</td>\n",
       "      <td>female</td>\n",
       "      <td>25-34 years</td>\n",
       "      <td>1347</td>\n",
       "      <td>21250636</td>\n",
       "      <td>6.34</td>\n",
       "      <td>United States2014</td>\n",
       "      <td>0.915</td>\n",
       "      <td>17,427,609,000,000</td>\n",
       "      <td>58531</td>\n",
       "      <td>Millenials</td>\n",
       "    </tr>\n",
       "    <tr>\n",
       "      <th>8168</th>\n",
       "      <td>United States</td>\n",
       "      <td>2014</td>\n",
       "      <td>female</td>\n",
       "      <td>15-24 years</td>\n",
       "      <td>990</td>\n",
       "      <td>21691057</td>\n",
       "      <td>4.56</td>\n",
       "      <td>United States2014</td>\n",
       "      <td>0.915</td>\n",
       "      <td>17,427,609,000,000</td>\n",
       "      <td>58531</td>\n",
       "      <td>Millenials</td>\n",
       "    </tr>\n",
       "    <tr>\n",
       "      <th>8169</th>\n",
       "      <td>United States</td>\n",
       "      <td>2014</td>\n",
       "      <td>female</td>\n",
       "      <td>75+ years</td>\n",
       "      <td>477</td>\n",
       "      <td>11616299</td>\n",
       "      <td>4.11</td>\n",
       "      <td>United States2014</td>\n",
       "      <td>0.915</td>\n",
       "      <td>17,427,609,000,000</td>\n",
       "      <td>58531</td>\n",
       "      <td>Silent</td>\n",
       "    </tr>\n",
       "    <tr>\n",
       "      <th>8170</th>\n",
       "      <td>United States</td>\n",
       "      <td>2014</td>\n",
       "      <td>male</td>\n",
       "      <td>5-14 years</td>\n",
       "      <td>277</td>\n",
       "      <td>21264881</td>\n",
       "      <td>1.30</td>\n",
       "      <td>United States2014</td>\n",
       "      <td>0.915</td>\n",
       "      <td>17,427,609,000,000</td>\n",
       "      <td>58531</td>\n",
       "      <td>Generation Z</td>\n",
       "    </tr>\n",
       "    <tr>\n",
       "      <th>8171</th>\n",
       "      <td>United States</td>\n",
       "      <td>2014</td>\n",
       "      <td>female</td>\n",
       "      <td>5-14 years</td>\n",
       "      <td>151</td>\n",
       "      <td>20336916</td>\n",
       "      <td>0.74</td>\n",
       "      <td>United States2014</td>\n",
       "      <td>0.915</td>\n",
       "      <td>17,427,609,000,000</td>\n",
       "      <td>58531</td>\n",
       "      <td>Generation Z</td>\n",
       "    </tr>\n",
       "  </tbody>\n",
       "</table>\n",
       "<p>240 rows × 12 columns</p>\n",
       "</div>"
      ],
      "text/plain": [
       "             country  year     sex          age  suicides_no  population  \\\n",
       "7932  United Kingdom  1985    male    75+ years          264     1202838   \n",
       "7933  United Kingdom  1985    male  55-74 years          915     5170113   \n",
       "7934  United Kingdom  1985    male  35-54 years         1208     6899879   \n",
       "7935  United Kingdom  1985    male  25-34 years          620     3969689   \n",
       "7936  United Kingdom  1985  female  55-74 years          678     6002096   \n",
       "...              ...   ...     ...          ...          ...         ...   \n",
       "8167   United States  2014  female  25-34 years         1347    21250636   \n",
       "8168   United States  2014  female  15-24 years          990    21691057   \n",
       "8169   United States  2014  female    75+ years          477    11616299   \n",
       "8170   United States  2014    male   5-14 years          277    21264881   \n",
       "8171   United States  2014  female   5-14 years          151    20336916   \n",
       "\n",
       "      suicides/100k pop        country-year  HDI for year   gdp_for_year ($)   \\\n",
       "7932              21.95  United Kingdom1985         0.753     489,285,164,271   \n",
       "7933              17.70  United Kingdom1985         0.753     489,285,164,271   \n",
       "7934              17.51  United Kingdom1985         0.753     489,285,164,271   \n",
       "7935              15.62  United Kingdom1985         0.753     489,285,164,271   \n",
       "7936              11.30  United Kingdom1985         0.753     489,285,164,271   \n",
       "...                 ...                 ...           ...                 ...   \n",
       "8167               6.34   United States2014         0.915  17,427,609,000,000   \n",
       "8168               4.56   United States2014         0.915  17,427,609,000,000   \n",
       "8169               4.11   United States2014         0.915  17,427,609,000,000   \n",
       "8170               1.30   United States2014         0.915  17,427,609,000,000   \n",
       "8171               0.74   United States2014         0.915  17,427,609,000,000   \n",
       "\n",
       "      gdp_per_capita ($)       generation  \n",
       "7932                9231  G.I. Generation  \n",
       "7933                9231  G.I. Generation  \n",
       "7934                9231           Silent  \n",
       "7935                9231          Boomers  \n",
       "7936                9231  G.I. Generation  \n",
       "...                  ...              ...  \n",
       "8167               58531       Millenials  \n",
       "8168               58531       Millenials  \n",
       "8169               58531           Silent  \n",
       "8170               58531     Generation Z  \n",
       "8171               58531     Generation Z  \n",
       "\n",
       "[240 rows x 12 columns]"
      ]
     },
     "execution_count": 8,
     "metadata": {},
     "output_type": "execute_result"
    }
   ],
   "source": [
    "# Week 2: Selecting and filtering the DataFrame to create a new DataFrame \n",
    "# showing the a pair of first world countries (United States & United Kingdom)\n",
    "first_world_df = df.loc[7932:8171]\n",
    "first_world_df"
   ]
  },
  {
   "cell_type": "markdown",
   "id": "4411aea3",
   "metadata": {},
   "source": [
    "# Split the Data into Training and Testing"
   ]
  },
  {
   "cell_type": "code",
   "execution_count": 9,
   "id": "ed37cceb",
   "metadata": {},
   "outputs": [
    {
     "data": {
      "text/plain": [
       "country                object\n",
       "year                    int64\n",
       "sex                    object\n",
       "age                    object\n",
       "suicides_no             int64\n",
       "population              int64\n",
       "suicides/100k pop     float64\n",
       "country-year           object\n",
       "HDI for year          float64\n",
       " gdp_for_year ($)      object\n",
       "gdp_per_capita ($)      int64\n",
       "generation             object\n",
       "dtype: object"
      ]
     },
     "execution_count": 9,
     "metadata": {},
     "output_type": "execute_result"
    }
   ],
   "source": [
    "# Week 2: Preprocessing by checking data types before starting\n",
    "df.dtypes"
   ]
  },
  {
   "cell_type": "code",
   "execution_count": 10,
   "id": "48d1fec1",
   "metadata": {},
   "outputs": [
    {
     "name": "stdout",
     "output_type": "stream",
     "text": [
      "['country', 'year', 'sex', 'age', 'suicides_no', 'population', 'suicides/100k pop', 'country-year', 'HDI for year', ' gdp_for_year ($) ', 'gdp_per_capita ($)', 'generation']\n"
     ]
    }
   ],
   "source": [
    "# Listing columns that are a part of our selection\n",
    "print(df.columns.tolist())"
   ]
  },
  {
   "cell_type": "code",
   "execution_count": 11,
   "id": "8aa5caa0",
   "metadata": {},
   "outputs": [],
   "source": [
    "# Week 2: Create X and y variables from the filtered df (first world countries)\n",
    "# Here we are checking for a correlation between suicide rates and gender.\n",
    "X = first_world_df[[\"suicides_no\"]]\n",
    "\n",
    "# Create our target\n",
    "y = first_world_df[\"sex\"]"
   ]
  },
  {
   "cell_type": "code",
   "execution_count": 12,
   "id": "599b557d",
   "metadata": {},
   "outputs": [
    {
     "data": {
      "text/plain": [
       "(180, 1)"
      ]
     },
     "execution_count": 12,
     "metadata": {},
     "output_type": "execute_result"
    }
   ],
   "source": [
    "# Import train test split for Preprocess\n",
    "# We train, test, and split the function before looking for trends by first\n",
    "# having our devices split the data into two sections (train and test). \n",
    "# Train: We train teh data so our device learns from the data itself.\n",
    "# Test: Our device assess the performance in order to uncover trends.\n",
    "# We do this for the 'X' and 'y' variables.\n",
    "from sklearn.model_selection import train_test_split\n",
    "\n",
    "# Having a random state of 1 ensures that the same rows are assigned sets of training and testing.\n",
    "# If we had different numbers for random_state, then different rows would be distrubuted.\n",
    "# When we use stratify, we divide the data equally.\n",
    "X_train, X_test, y_train, y_test = train_test_split(X, y, random_state=1, stratify=y)\n",
    "X_train.shape"
   ]
  },
  {
   "cell_type": "markdown",
   "id": "562e8e46",
   "metadata": {},
   "source": [
    "# Week 2: Refining the Code using Easy Ensemble AdaBoost Classifier"
   ]
  },
  {
   "cell_type": "code",
   "execution_count": 13,
   "id": "8f2dd83d",
   "metadata": {},
   "outputs": [
    {
     "data": {
      "text/plain": [
       "EasyEnsembleClassifier(n_estimators=100, random_state=1)"
      ]
     },
     "execution_count": 13,
     "metadata": {},
     "output_type": "execute_result"
    }
   ],
   "source": [
    "# Resample the training data with the EasyEnsembleClassifier (US & UK)\n",
    "# EasyEnsemble can help the overall performance of the model by improving the accuracy and robustness\n",
    "# and decreasing the variance of the model.\n",
    "from imblearn.ensemble import EasyEnsembleClassifier\n",
    "suicides_model = EasyEnsembleClassifier(n_estimators = 100, random_state=1)\n",
    "suicides_model"
   ]
  },
  {
   "cell_type": "code",
   "execution_count": 14,
   "id": "b49e7d04",
   "metadata": {},
   "outputs": [],
   "source": [
    "# First, we fit the model using the X and y training sets.\n",
    "# Here we create predictions and assemble the results into a Pandas DataFrame\n",
    "# The 'predict' method is used to create predictions based on the X_test.\n",
    "suicides_model = suicides_model.fit(X_train, y_train)\n",
    "y_pred = suicides_model.predict(X_test)"
   ]
  },
  {
   "cell_type": "code",
   "execution_count": 15,
   "id": "c00a6d3e",
   "metadata": {},
   "outputs": [
    {
     "data": {
      "text/plain": [
       "0.6666666666666666"
      ]
     },
     "execution_count": 15,
     "metadata": {},
     "output_type": "execute_result"
    }
   ],
   "source": [
    "# Then the model is evaluated on its performance by checking the accuracy score.\n",
    "balanced_accuracy_score(y_test, y_pred)"
   ]
  },
  {
   "cell_type": "code",
   "execution_count": 16,
   "id": "43362da9",
   "metadata": {},
   "outputs": [
    {
     "data": {
      "text/plain": [
       "array([[19, 11],\n",
       "       [ 9, 21]])"
      ]
     },
     "execution_count": 16,
     "metadata": {},
     "output_type": "execute_result"
    }
   ],
   "source": [
    "# The confusion_matrix here displayed the table of \n",
    "# true positives, false positives, true negatives & false negatives\n",
    "confusion_matrix(y_test, y_pred)"
   ]
  },
  {
   "cell_type": "code",
   "execution_count": 17,
   "id": "3dfb5970",
   "metadata": {},
   "outputs": [
    {
     "name": "stdout",
     "output_type": "stream",
     "text": [
      "                   pre       rec       spe        f1       geo       iba       sup\n",
      "\n",
      "     female       0.68      0.63      0.70      0.66      0.67      0.44        30\n",
      "       male       0.66      0.70      0.63      0.68      0.67      0.45        30\n",
      "\n",
      "avg / total       0.67      0.67      0.67      0.67      0.67      0.44        60\n",
      "\n"
     ]
    }
   ],
   "source": [
    "# The classification report from sklearn's module's performs the task of getting metrics such as \n",
    "# precision, f1 score, and recall score.\n",
    "print(classification_report_imbalanced(y_test, y_pred))"
   ]
  },
  {
   "cell_type": "markdown",
   "id": "e0fb5b54",
   "metadata": {},
   "source": [
    "# Week 2: Refining the code using BalancedRandomForestClassifier"
   ]
  },
  {
   "cell_type": "code",
   "execution_count": 18,
   "id": "335d7eb6",
   "metadata": {},
   "outputs": [
    {
     "data": {
      "text/plain": [
       "BalancedRandomForestClassifier(random_state=1)"
      ]
     },
     "execution_count": 18,
     "metadata": {},
     "output_type": "execute_result"
    }
   ],
   "source": [
    "# Resample the training data with the BalancedRandomForestClassifier (US & UK)\n",
    "# Using BalancedRandomForest, multiple trees can be used in order to provide \n",
    "# a stronger model with the help of weaker models \n",
    "from imblearn.ensemble import BalancedRandomForestClassifier\n",
    "suicides_model = BalancedRandomForestClassifier(n_estimators = 100, random_state=1)\n",
    "suicides_model"
   ]
  },
  {
   "cell_type": "code",
   "execution_count": 19,
   "id": "37130a87",
   "metadata": {},
   "outputs": [],
   "source": [
    "# Fit the model for the X and y training sets\n",
    "suicides_model = suicides_model.fit(X_train, y_train)"
   ]
  },
  {
   "cell_type": "code",
   "execution_count": 20,
   "id": "c1b33824",
   "metadata": {},
   "outputs": [
    {
     "data": {
      "text/plain": [
       "0.7166666666666666"
      ]
     },
     "execution_count": 20,
     "metadata": {},
     "output_type": "execute_result"
    }
   ],
   "source": [
    "# Here we create predictions and assemble the results into a Pandas DataFrame\n",
    "# The 'predict' method is used to create predictions based on the X_test.\n",
    "# Then the model is evaluated  on its performance by checking the accuracy score.\n",
    "y_pred = suicides_model.predict(X_test)\n",
    "balanced_accuracy_score(y_test, y_pred)"
   ]
  },
  {
   "cell_type": "code",
   "execution_count": 21,
   "id": "7d1d3c9d",
   "metadata": {},
   "outputs": [
    {
     "data": {
      "text/plain": [
       "array([[21,  9],\n",
       "       [ 8, 22]])"
      ]
     },
     "execution_count": 21,
     "metadata": {},
     "output_type": "execute_result"
    }
   ],
   "source": [
    "# The confusion_matrix here displayed the table of \n",
    "# true positives, false positives, true negatives & false negatives\n",
    "confusion_matrix(y_test, y_pred)"
   ]
  },
  {
   "cell_type": "code",
   "execution_count": 22,
   "id": "d3bd8df9",
   "metadata": {},
   "outputs": [
    {
     "name": "stdout",
     "output_type": "stream",
     "text": [
      "                   pre       rec       spe        f1       geo       iba       sup\n",
      "\n",
      "     female       0.72      0.70      0.73      0.71      0.72      0.51        30\n",
      "       male       0.71      0.73      0.70      0.72      0.72      0.52        30\n",
      "\n",
      "avg / total       0.72      0.72      0.72      0.72      0.72      0.51        60\n",
      "\n"
     ]
    }
   ],
   "source": [
    "# The classification report from sklearn's module's performs the task of getting metrics such as \n",
    "# precision, f1 score, and recall score.\n",
    "print(classification_report_imbalanced(y_test, y_pred))"
   ]
  },
  {
   "cell_type": "markdown",
   "id": "bee45654",
   "metadata": {},
   "source": [
    "# Week 2: Refining code using SMOTEEN"
   ]
  },
  {
   "cell_type": "code",
   "execution_count": 23,
   "id": "4be1bbd0",
   "metadata": {},
   "outputs": [],
   "source": [
    "# Using SMOTEEN (US & UK)\n",
    "# Using SMOTEEN, we can do two functions. We can oversample the minority class using SMOTE\n",
    "# and we can seperate the classes if they overlap.\n",
    "from imblearn.combine import SMOTEENN\n",
    "from sklearn.linear_model import LogisticRegression\n",
    "smote_eenn = SMOTEENN(random_state=0)\n",
    "X_resampled, y_resampled = smote_eenn.fit_resample(X, y)"
   ]
  },
  {
   "cell_type": "code",
   "execution_count": 24,
   "id": "b55591e2",
   "metadata": {},
   "outputs": [
    {
     "data": {
      "text/plain": [
       "LogisticRegression(random_state=1)"
      ]
     },
     "execution_count": 24,
     "metadata": {},
     "output_type": "execute_result"
    }
   ],
   "source": [
    "# Here we use LogisticRegression from the sklearn.library to represent the model\n",
    "# The solver of 'lbfgs' is the default model. \n",
    "suicides_model = LogisticRegression(solver='lbfgs', random_state=1)\n",
    "suicides_model.fit(X_resampled, y_resampled)"
   ]
  },
  {
   "cell_type": "code",
   "execution_count": 25,
   "id": "e89951d5",
   "metadata": {},
   "outputs": [
    {
     "data": {
      "text/plain": [
       "0.7833333333333333"
      ]
     },
     "execution_count": 25,
     "metadata": {},
     "output_type": "execute_result"
    }
   ],
   "source": [
    "# Here we create predictions and assemble the results into a Pandas DataFrame\n",
    "# The 'predict' method is used to create predictions based on the X_test.\n",
    "# Then the model is evaluated  on its performance by checking the accuracy score.\n",
    "y_pred = suicides_model.predict(X_test)\n",
    "balanced_accuracy_score(y_test, y_pred)"
   ]
  },
  {
   "cell_type": "code",
   "execution_count": 26,
   "id": "8ce91262",
   "metadata": {},
   "outputs": [
    {
     "data": {
      "text/plain": [
       "array([[27,  3],\n",
       "       [10, 20]])"
      ]
     },
     "execution_count": 26,
     "metadata": {},
     "output_type": "execute_result"
    }
   ],
   "source": [
    "# The confusion_matrix here displayed the table of \n",
    "# true positives, false positives, true negatives & false negatives\n",
    "confusion_matrix(y_test, y_pred)"
   ]
  },
  {
   "cell_type": "code",
   "execution_count": 27,
   "id": "4f1d3dcf",
   "metadata": {},
   "outputs": [
    {
     "name": "stdout",
     "output_type": "stream",
     "text": [
      "                   pre       rec       spe        f1       geo       iba       sup\n",
      "\n",
      "     female       0.73      0.90      0.67      0.81      0.77      0.61        30\n",
      "       male       0.87      0.67      0.90      0.75      0.77      0.59        30\n",
      "\n",
      "avg / total       0.80      0.78      0.78      0.78      0.77      0.60        60\n",
      "\n"
     ]
    }
   ],
   "source": [
    "# The classification report from sklearn's module's performs the task of getting metrics such as \n",
    "# precision, f1 score, and recall score.\n",
    "print(classification_report_imbalanced(y_test, y_pred))"
   ]
  },
  {
   "cell_type": "markdown",
   "id": "2453cf5b",
   "metadata": {},
   "source": [
    "# Week 2: Refining code using RandomOverSampler"
   ]
  },
  {
   "cell_type": "code",
   "execution_count": 28,
   "id": "bccb17f4",
   "metadata": {},
   "outputs": [
    {
     "data": {
      "text/plain": [
       "Counter({'female': 90, 'male': 90})"
      ]
     },
     "execution_count": 28,
     "metadata": {},
     "output_type": "execute_result"
    }
   ],
   "source": [
    "# Using RandomOverSampler (US & UK)\n",
    "# With RandomOverSampler, the instances of the minority classes are randomly selected and \n",
    "# added to the training set until both classes are balanced \n",
    "from imblearn.over_sampling import RandomOverSampler\n",
    "ros_suicides = RandomOverSampler(random_state=1)\n",
    "X_resampled, y_resampled = ros_suicides.fit_resample(X_train, y_train)\n",
    "Counter(y_resampled)"
   ]
  },
  {
   "cell_type": "code",
   "execution_count": 29,
   "id": "9f0618a9",
   "metadata": {},
   "outputs": [
    {
     "data": {
      "text/plain": [
       "LogisticRegression(random_state=1)"
      ]
     },
     "execution_count": 29,
     "metadata": {},
     "output_type": "execute_result"
    }
   ],
   "source": [
    "# Use LogisticRegression and fit the model\n",
    "suicides_model = LogisticRegression(solver='lbfgs', random_state=1)\n",
    "suicides_model.fit(X_resampled, y_resampled)"
   ]
  },
  {
   "cell_type": "code",
   "execution_count": 30,
   "id": "91118d52",
   "metadata": {},
   "outputs": [
    {
     "data": {
      "text/plain": [
       "0.7333333333333334"
      ]
     },
     "execution_count": 30,
     "metadata": {},
     "output_type": "execute_result"
    }
   ],
   "source": [
    "# Predict the model using the X_test\n",
    "# Calculated the balanced accuracy score\n",
    "y_pred = suicides_model.predict(X_test)\n",
    "balanced_accuracy_score(y_test, y_pred)"
   ]
  },
  {
   "cell_type": "code",
   "execution_count": 31,
   "id": "848bc68b",
   "metadata": {},
   "outputs": [
    {
     "data": {
      "text/plain": [
       "array([[28,  2],\n",
       "       [14, 16]])"
      ]
     },
     "execution_count": 31,
     "metadata": {},
     "output_type": "execute_result"
    }
   ],
   "source": [
    "# Display the confusion matrix\n",
    "confusion_matrix(y_test, y_pred)"
   ]
  },
  {
   "cell_type": "code",
   "execution_count": 32,
   "id": "23333ab9",
   "metadata": {},
   "outputs": [
    {
     "name": "stdout",
     "output_type": "stream",
     "text": [
      "                   pre       rec       spe        f1       geo       iba       sup\n",
      "\n",
      "     female       0.67      0.93      0.53      0.78      0.71      0.52        30\n",
      "       male       0.89      0.53      0.93      0.67      0.71      0.48        30\n",
      "\n",
      "avg / total       0.78      0.73      0.73      0.72      0.71      0.50        60\n",
      "\n"
     ]
    }
   ],
   "source": [
    "# Print the imbalanced classification report\n",
    "print(classification_report_imbalanced(y_test, y_pred))"
   ]
  },
  {
   "cell_type": "markdown",
   "id": "a3e26524",
   "metadata": {},
   "source": [
    "# Week 2: Comparison of rates between 1st and 3rd world countries"
   ]
  },
  {
   "cell_type": "code",
   "execution_count": 33,
   "id": "26a073fb",
   "metadata": {},
   "outputs": [
    {
     "data": {
      "text/html": [
       "<div>\n",
       "<style scoped>\n",
       "    .dataframe tbody tr th:only-of-type {\n",
       "        vertical-align: middle;\n",
       "    }\n",
       "\n",
       "    .dataframe tbody tr th {\n",
       "        vertical-align: top;\n",
       "    }\n",
       "\n",
       "    .dataframe thead th {\n",
       "        text-align: right;\n",
       "    }\n",
       "</style>\n",
       "<table border=\"1\" class=\"dataframe\">\n",
       "  <thead>\n",
       "    <tr style=\"text-align: right;\">\n",
       "      <th></th>\n",
       "      <th>country</th>\n",
       "      <th>year</th>\n",
       "      <th>sex</th>\n",
       "      <th>age</th>\n",
       "      <th>suicides_no</th>\n",
       "      <th>population</th>\n",
       "      <th>suicides/100k pop</th>\n",
       "      <th>country-year</th>\n",
       "      <th>HDI for year</th>\n",
       "      <th>gdp_for_year ($)</th>\n",
       "      <th>gdp_per_capita ($)</th>\n",
       "      <th>generation</th>\n",
       "    </tr>\n",
       "  </thead>\n",
       "  <tbody>\n",
       "    <tr>\n",
       "      <th>4044</th>\n",
       "      <td>Jamaica</td>\n",
       "      <td>1985</td>\n",
       "      <td>male</td>\n",
       "      <td>75+ years</td>\n",
       "      <td>1</td>\n",
       "      <td>29000</td>\n",
       "      <td>3.45</td>\n",
       "      <td>Jamaica1985</td>\n",
       "      <td>0.650</td>\n",
       "      <td>2,100,223,150</td>\n",
       "      <td>1032</td>\n",
       "      <td>G.I. Generation</td>\n",
       "    </tr>\n",
       "    <tr>\n",
       "      <th>4045</th>\n",
       "      <td>Jamaica</td>\n",
       "      <td>1985</td>\n",
       "      <td>female</td>\n",
       "      <td>75+ years</td>\n",
       "      <td>1</td>\n",
       "      <td>38000</td>\n",
       "      <td>2.63</td>\n",
       "      <td>Jamaica1985</td>\n",
       "      <td>0.650</td>\n",
       "      <td>2,100,223,150</td>\n",
       "      <td>1032</td>\n",
       "      <td>G.I. Generation</td>\n",
       "    </tr>\n",
       "    <tr>\n",
       "      <th>4046</th>\n",
       "      <td>Jamaica</td>\n",
       "      <td>1985</td>\n",
       "      <td>male</td>\n",
       "      <td>15-24 years</td>\n",
       "      <td>3</td>\n",
       "      <td>259000</td>\n",
       "      <td>1.16</td>\n",
       "      <td>Jamaica1985</td>\n",
       "      <td>0.650</td>\n",
       "      <td>2,100,223,150</td>\n",
       "      <td>1032</td>\n",
       "      <td>Generation X</td>\n",
       "    </tr>\n",
       "    <tr>\n",
       "      <th>4047</th>\n",
       "      <td>Jamaica</td>\n",
       "      <td>1985</td>\n",
       "      <td>male</td>\n",
       "      <td>25-34 years</td>\n",
       "      <td>1</td>\n",
       "      <td>156000</td>\n",
       "      <td>0.64</td>\n",
       "      <td>Jamaica1985</td>\n",
       "      <td>0.650</td>\n",
       "      <td>2,100,223,150</td>\n",
       "      <td>1032</td>\n",
       "      <td>Boomers</td>\n",
       "    </tr>\n",
       "    <tr>\n",
       "      <th>4048</th>\n",
       "      <td>Jamaica</td>\n",
       "      <td>1985</td>\n",
       "      <td>male</td>\n",
       "      <td>35-54 years</td>\n",
       "      <td>1</td>\n",
       "      <td>169000</td>\n",
       "      <td>0.59</td>\n",
       "      <td>Jamaica1985</td>\n",
       "      <td>0.650</td>\n",
       "      <td>2,100,223,150</td>\n",
       "      <td>1032</td>\n",
       "      <td>Silent</td>\n",
       "    </tr>\n",
       "    <tr>\n",
       "      <th>...</th>\n",
       "      <td>...</td>\n",
       "      <td>...</td>\n",
       "      <td>...</td>\n",
       "      <td>...</td>\n",
       "      <td>...</td>\n",
       "      <td>...</td>\n",
       "      <td>...</td>\n",
       "      <td>...</td>\n",
       "      <td>...</td>\n",
       "      <td>...</td>\n",
       "      <td>...</td>\n",
       "      <td>...</td>\n",
       "    </tr>\n",
       "    <tr>\n",
       "      <th>8167</th>\n",
       "      <td>United States</td>\n",
       "      <td>2014</td>\n",
       "      <td>female</td>\n",
       "      <td>25-34 years</td>\n",
       "      <td>1347</td>\n",
       "      <td>21250636</td>\n",
       "      <td>6.34</td>\n",
       "      <td>United States2014</td>\n",
       "      <td>0.915</td>\n",
       "      <td>17,427,609,000,000</td>\n",
       "      <td>58531</td>\n",
       "      <td>Millenials</td>\n",
       "    </tr>\n",
       "    <tr>\n",
       "      <th>8168</th>\n",
       "      <td>United States</td>\n",
       "      <td>2014</td>\n",
       "      <td>female</td>\n",
       "      <td>15-24 years</td>\n",
       "      <td>990</td>\n",
       "      <td>21691057</td>\n",
       "      <td>4.56</td>\n",
       "      <td>United States2014</td>\n",
       "      <td>0.915</td>\n",
       "      <td>17,427,609,000,000</td>\n",
       "      <td>58531</td>\n",
       "      <td>Millenials</td>\n",
       "    </tr>\n",
       "    <tr>\n",
       "      <th>8169</th>\n",
       "      <td>United States</td>\n",
       "      <td>2014</td>\n",
       "      <td>female</td>\n",
       "      <td>75+ years</td>\n",
       "      <td>477</td>\n",
       "      <td>11616299</td>\n",
       "      <td>4.11</td>\n",
       "      <td>United States2014</td>\n",
       "      <td>0.915</td>\n",
       "      <td>17,427,609,000,000</td>\n",
       "      <td>58531</td>\n",
       "      <td>Silent</td>\n",
       "    </tr>\n",
       "    <tr>\n",
       "      <th>8170</th>\n",
       "      <td>United States</td>\n",
       "      <td>2014</td>\n",
       "      <td>male</td>\n",
       "      <td>5-14 years</td>\n",
       "      <td>277</td>\n",
       "      <td>21264881</td>\n",
       "      <td>1.30</td>\n",
       "      <td>United States2014</td>\n",
       "      <td>0.915</td>\n",
       "      <td>17,427,609,000,000</td>\n",
       "      <td>58531</td>\n",
       "      <td>Generation Z</td>\n",
       "    </tr>\n",
       "    <tr>\n",
       "      <th>8171</th>\n",
       "      <td>United States</td>\n",
       "      <td>2014</td>\n",
       "      <td>female</td>\n",
       "      <td>5-14 years</td>\n",
       "      <td>151</td>\n",
       "      <td>20336916</td>\n",
       "      <td>0.74</td>\n",
       "      <td>United States2014</td>\n",
       "      <td>0.915</td>\n",
       "      <td>17,427,609,000,000</td>\n",
       "      <td>58531</td>\n",
       "      <td>Generation Z</td>\n",
       "    </tr>\n",
       "  </tbody>\n",
       "</table>\n",
       "<p>192 rows × 12 columns</p>\n",
       "</div>"
      ],
      "text/plain": [
       "            country  year     sex          age  suicides_no  population  \\\n",
       "4044        Jamaica  1985    male    75+ years            1       29000   \n",
       "4045        Jamaica  1985  female    75+ years            1       38000   \n",
       "4046        Jamaica  1985    male  15-24 years            3      259000   \n",
       "4047        Jamaica  1985    male  25-34 years            1      156000   \n",
       "4048        Jamaica  1985    male  35-54 years            1      169000   \n",
       "...             ...   ...     ...          ...          ...         ...   \n",
       "8167  United States  2014  female  25-34 years         1347    21250636   \n",
       "8168  United States  2014  female  15-24 years          990    21691057   \n",
       "8169  United States  2014  female    75+ years          477    11616299   \n",
       "8170  United States  2014    male   5-14 years          277    21264881   \n",
       "8171  United States  2014  female   5-14 years          151    20336916   \n",
       "\n",
       "      suicides/100k pop       country-year  HDI for year   gdp_for_year ($)   \\\n",
       "4044               3.45        Jamaica1985         0.650       2,100,223,150   \n",
       "4045               2.63        Jamaica1985         0.650       2,100,223,150   \n",
       "4046               1.16        Jamaica1985         0.650       2,100,223,150   \n",
       "4047               0.64        Jamaica1985         0.650       2,100,223,150   \n",
       "4048               0.59        Jamaica1985         0.650       2,100,223,150   \n",
       "...                 ...                ...           ...                 ...   \n",
       "8167               6.34  United States2014         0.915  17,427,609,000,000   \n",
       "8168               4.56  United States2014         0.915  17,427,609,000,000   \n",
       "8169               4.11  United States2014         0.915  17,427,609,000,000   \n",
       "8170               1.30  United States2014         0.915  17,427,609,000,000   \n",
       "8171               0.74  United States2014         0.915  17,427,609,000,000   \n",
       "\n",
       "      gdp_per_capita ($)       generation  \n",
       "4044                1032  G.I. Generation  \n",
       "4045                1032  G.I. Generation  \n",
       "4046                1032     Generation X  \n",
       "4047                1032          Boomers  \n",
       "4048                1032           Silent  \n",
       "...                  ...              ...  \n",
       "8167               58531       Millenials  \n",
       "8168               58531       Millenials  \n",
       "8169               58531           Silent  \n",
       "8170               58531     Generation Z  \n",
       "8171               58531     Generation Z  \n",
       "\n",
       "[192 rows x 12 columns]"
      ]
     },
     "execution_count": 33,
     "metadata": {},
     "output_type": "execute_result"
    }
   ],
   "source": [
    "# Week 2: Selecting and filtering the original DataFrame to create a new DataFrame \n",
    "# showing the a pair of third world countries (United States & Jamaica)\n",
    "# This time we are looking for a trend between first and third world countries\n",
    "third_world_df = df[(df['country'] =='United States') | (df['country'] == 'Jamaica')]\n",
    "third_world_df"
   ]
  },
  {
   "cell_type": "code",
   "execution_count": 34,
   "id": "f7dedba6",
   "metadata": {},
   "outputs": [],
   "source": [
    "# Week 2: Create X and y from the filtered df (US & Jamaica)\n",
    "# We are checking for a similar comparison but with a first world and a third world country\n",
    "X = third_world_df[[\"suicides_no\"]]\n",
    "\n",
    "# Create our target\n",
    "y = third_world_df[\"sex\"]"
   ]
  },
  {
   "cell_type": "code",
   "execution_count": 35,
   "id": "c1dc6cb4",
   "metadata": {},
   "outputs": [
    {
     "data": {
      "text/plain": [
       "(144, 1)"
      ]
     },
     "execution_count": 35,
     "metadata": {},
     "output_type": "execute_result"
    }
   ],
   "source": [
    "# Week 2: We import train, test, split\n",
    "# random_state ad stritify are kepy the same to ensure equal rows are set to be trained and tested. \n",
    "X_train, X_test, y_train, y_test = train_test_split(X, y, random_state=1, stratify=y)\n",
    "X_train.shape"
   ]
  },
  {
   "cell_type": "markdown",
   "id": "0237aa49",
   "metadata": {},
   "source": [
    "# Week 2: Refined code using Easy Ensemble Classifier"
   ]
  },
  {
   "cell_type": "code",
   "execution_count": 36,
   "id": "2dc7944d",
   "metadata": {},
   "outputs": [
    {
     "data": {
      "text/plain": [
       "EasyEnsembleClassifier(n_estimators=100, random_state=1)"
      ]
     },
     "execution_count": 36,
     "metadata": {},
     "output_type": "execute_result"
    }
   ],
   "source": [
    "# Week 2: Starting with EasyEnsembleClassifier for the new DataFrame (US & Jamaica)\n",
    "suicide_model = EasyEnsembleClassifier(n_estimators = 100, random_state=1)\n",
    "suicide_model"
   ]
  },
  {
   "cell_type": "code",
   "execution_count": 37,
   "id": "564e375b",
   "metadata": {},
   "outputs": [],
   "source": [
    "# We fit the model and then predict\n",
    "suicide_model = suicide_model.fit(X_train, y_train)\n",
    "y_pred = suicide_model.predict(X_test)"
   ]
  },
  {
   "cell_type": "code",
   "execution_count": 38,
   "id": "e713d982",
   "metadata": {},
   "outputs": [
    {
     "data": {
      "text/plain": [
       "0.8333333333333334"
      ]
     },
     "execution_count": 38,
     "metadata": {},
     "output_type": "execute_result"
    }
   ],
   "source": [
    "# Checking the balanced accuracy score\n",
    "balanced_accuracy_score(y_test, y_pred)"
   ]
  },
  {
   "cell_type": "code",
   "execution_count": 39,
   "id": "c744aad1",
   "metadata": {},
   "outputs": [
    {
     "data": {
      "text/plain": [
       "array([[23,  1],\n",
       "       [ 7, 17]])"
      ]
     },
     "execution_count": 39,
     "metadata": {},
     "output_type": "execute_result"
    }
   ],
   "source": [
    "# Print Confusion matrix\n",
    "confusion_matrix(y_test, y_pred)"
   ]
  },
  {
   "cell_type": "code",
   "execution_count": 40,
   "id": "2bc4eeb6",
   "metadata": {},
   "outputs": [
    {
     "name": "stdout",
     "output_type": "stream",
     "text": [
      "                   pre       rec       spe        f1       geo       iba       sup\n",
      "\n",
      "     female       0.77      0.96      0.71      0.85      0.82      0.70        24\n",
      "       male       0.94      0.71      0.96      0.81      0.82      0.66        24\n",
      "\n",
      "avg / total       0.86      0.83      0.83      0.83      0.82      0.68        48\n",
      "\n"
     ]
    }
   ],
   "source": [
    "# Print classification report \n",
    "print(classification_report_imbalanced(y_test, y_pred))"
   ]
  },
  {
   "cell_type": "markdown",
   "id": "79a03feb",
   "metadata": {},
   "source": [
    "# Week 2: Refined code using RandomOverSampler"
   ]
  },
  {
   "cell_type": "code",
   "execution_count": 41,
   "id": "6e1c43e5",
   "metadata": {},
   "outputs": [
    {
     "data": {
      "text/plain": [
       "Counter({'male': 72, 'female': 72})"
      ]
     },
     "execution_count": 41,
     "metadata": {},
     "output_type": "execute_result"
    }
   ],
   "source": [
    "# Using RandomOverSampler for updated DataFrame (US & Jamaica)\n",
    "from imblearn.over_sampling import RandomOverSampler\n",
    "ros_suicides = RandomOverSampler(random_state=1)\n",
    "X_resampled, y_resampled = ros_suicides.fit_resample(X_train, y_train)\n",
    "Counter(y_resampled)"
   ]
  },
  {
   "cell_type": "code",
   "execution_count": 42,
   "id": "889d69b7",
   "metadata": {},
   "outputs": [
    {
     "data": {
      "text/plain": [
       "LogisticRegression(random_state=1)"
      ]
     },
     "execution_count": 42,
     "metadata": {},
     "output_type": "execute_result"
    }
   ],
   "source": [
    "# Using the LogisticRegression method and fitting the data\n",
    "suicides_model = LogisticRegression(solver='lbfgs', random_state=1)\n",
    "suicides_model.fit(X_resampled, y_resampled)"
   ]
  },
  {
   "cell_type": "code",
   "execution_count": 43,
   "id": "ee36cac7",
   "metadata": {},
   "outputs": [
    {
     "data": {
      "text/plain": [
       "0.7291666666666666"
      ]
     },
     "execution_count": 43,
     "metadata": {},
     "output_type": "execute_result"
    }
   ],
   "source": [
    "# Use the predict function and calculated the balanced accuracy score\n",
    "y_pred = suicides_model.predict(X_test)\n",
    "balanced_accuracy_score(y_test, y_pred)"
   ]
  },
  {
   "cell_type": "code",
   "execution_count": 44,
   "id": "b638ddd6",
   "metadata": {},
   "outputs": [
    {
     "data": {
      "text/plain": [
       "array([[22,  2],\n",
       "       [11, 13]])"
      ]
     },
     "execution_count": 44,
     "metadata": {},
     "output_type": "execute_result"
    }
   ],
   "source": [
    "# Display the confusion matrix\n",
    "confusion_matrix(y_test, y_pred)"
   ]
  },
  {
   "cell_type": "code",
   "execution_count": 45,
   "id": "0c76e78d",
   "metadata": {},
   "outputs": [
    {
     "name": "stdout",
     "output_type": "stream",
     "text": [
      "                   pre       rec       spe        f1       geo       iba       sup\n",
      "\n",
      "     female       0.67      0.92      0.54      0.77      0.70      0.52        24\n",
      "       male       0.87      0.54      0.92      0.67      0.70      0.48        24\n",
      "\n",
      "avg / total       0.77      0.73      0.73      0.72      0.70      0.50        48\n",
      "\n"
     ]
    }
   ],
   "source": [
    "# Print the imbalanced classification report\n",
    "print(classification_report_imbalanced(y_test, y_pred))"
   ]
  },
  {
   "cell_type": "markdown",
   "id": "bd456555",
   "metadata": {},
   "source": [
    "# Week 2: Refined code using Balanced RandomForestClassifier"
   ]
  },
  {
   "cell_type": "code",
   "execution_count": 46,
   "id": "5768ef37",
   "metadata": {},
   "outputs": [
    {
     "data": {
      "text/plain": [
       "BalancedRandomForestClassifier(random_state=1)"
      ]
     },
     "execution_count": 46,
     "metadata": {},
     "output_type": "execute_result"
    }
   ],
   "source": [
    "# Resample the training data with the BalancedRandomForestClassifier (US & Jamaica)\n",
    "from imblearn.ensemble import BalancedRandomForestClassifier\n",
    "suicides_model = BalancedRandomForestClassifier(n_estimators = 100, random_state=1)\n",
    "suicides_model"
   ]
  },
  {
   "cell_type": "code",
   "execution_count": 47,
   "id": "a2c69c39",
   "metadata": {},
   "outputs": [],
   "source": [
    "# Fit the model\n",
    "suicides_model = suicides_model.fit(X_train, y_train)"
   ]
  },
  {
   "cell_type": "code",
   "execution_count": 48,
   "id": "be9dcb15",
   "metadata": {},
   "outputs": [
    {
     "data": {
      "text/plain": [
       "0.8541666666666667"
      ]
     },
     "execution_count": 48,
     "metadata": {},
     "output_type": "execute_result"
    }
   ],
   "source": [
    "# We predict based on X_test and then calculate the balanced accuracy score\n",
    "y_pred = suicides_model.predict(X_test)\n",
    "balanced_accuracy_score(y_test, y_pred)"
   ]
  },
  {
   "cell_type": "code",
   "execution_count": 49,
   "id": "e3dfa2fd",
   "metadata": {},
   "outputs": [
    {
     "data": {
      "text/plain": [
       "array([[21,  3],\n",
       "       [ 4, 20]])"
      ]
     },
     "execution_count": 49,
     "metadata": {},
     "output_type": "execute_result"
    }
   ],
   "source": [
    "# Displayed the confusion matrix\n",
    "confusion_matrix(y_test, y_pred)"
   ]
  },
  {
   "cell_type": "code",
   "execution_count": 50,
   "id": "d31cd15b",
   "metadata": {},
   "outputs": [
    {
     "name": "stdout",
     "output_type": "stream",
     "text": [
      "                   pre       rec       spe        f1       geo       iba       sup\n",
      "\n",
      "     female       0.84      0.88      0.83      0.86      0.85      0.73        24\n",
      "       male       0.87      0.83      0.88      0.85      0.85      0.73        24\n",
      "\n",
      "avg / total       0.85      0.85      0.85      0.85      0.85      0.73        48\n",
      "\n"
     ]
    }
   ],
   "source": [
    "# Printed the imbalanced classification report\n",
    "print(classification_report_imbalanced(y_test, y_pred))"
   ]
  },
  {
   "cell_type": "markdown",
   "id": "b2d081b6",
   "metadata": {},
   "source": [
    "# Week 2: Refined code using SMOTEEN"
   ]
  },
  {
   "cell_type": "code",
   "execution_count": 51,
   "id": "e686b308",
   "metadata": {},
   "outputs": [],
   "source": [
    "# Using SMOTEEN for the new DataFrame (US & Jamaica)\n",
    "smote_eenn = SMOTEENN(random_state=0)\n",
    "X_resampled, y_resampled = smote_eenn.fit_resample(X, y)"
   ]
  },
  {
   "cell_type": "code",
   "execution_count": 52,
   "id": "0db710d6",
   "metadata": {},
   "outputs": [
    {
     "data": {
      "text/plain": [
       "LogisticRegression(random_state=1)"
      ]
     },
     "execution_count": 52,
     "metadata": {},
     "output_type": "execute_result"
    }
   ],
   "source": [
    "# Like before, we use LogisticRegression and then fit the model\n",
    "suicides_model = LogisticRegression(solver='lbfgs', random_state=1)\n",
    "suicides_model.fit(X_resampled, y_resampled)"
   ]
  },
  {
   "cell_type": "code",
   "execution_count": 53,
   "id": "dd7475ea",
   "metadata": {},
   "outputs": [
    {
     "data": {
      "text/plain": [
       "0.7291666666666666"
      ]
     },
     "execution_count": 53,
     "metadata": {},
     "output_type": "execute_result"
    }
   ],
   "source": [
    "# We make predictions and then check the accuracy score\n",
    "y_pred = suicides_model.predict(X_test)\n",
    "balanced_accuracy_score(y_test, y_pred)"
   ]
  },
  {
   "cell_type": "code",
   "execution_count": 54,
   "id": "20a941a5",
   "metadata": {},
   "outputs": [
    {
     "data": {
      "text/plain": [
       "array([[22,  2],\n",
       "       [11, 13]])"
      ]
     },
     "execution_count": 54,
     "metadata": {},
     "output_type": "execute_result"
    }
   ],
   "source": [
    "# Display the confusion matrix\n",
    "confusion_matrix(y_test, y_pred)"
   ]
  },
  {
   "cell_type": "code",
   "execution_count": 55,
   "id": "43797af3",
   "metadata": {},
   "outputs": [
    {
     "name": "stdout",
     "output_type": "stream",
     "text": [
      "                   pre       rec       spe        f1       geo       iba       sup\n",
      "\n",
      "     female       0.67      0.92      0.54      0.77      0.70      0.52        24\n",
      "       male       0.87      0.54      0.92      0.67      0.70      0.48        24\n",
      "\n",
      "avg / total       0.77      0.73      0.73      0.72      0.70      0.50        48\n",
      "\n"
     ]
    }
   ],
   "source": [
    "# Print the imbalanced classification report\n",
    "print(classification_report_imbalanced(y_test, y_pred))"
   ]
  },
  {
   "cell_type": "code",
   "execution_count": 56,
   "id": "c0798989",
   "metadata": {},
   "outputs": [],
   "source": [
    "# Benefits: When using a supervsed learning model, the process of using the algorithms was pretty strightforward. We\n",
    "# can see how the machine works in order to get the data and asnwers we need when it comes to classifying relationships \n",
    "# found in the dataset. Also, a lot of the algorithms used had they same type of flow when it comes to typing out the code which \n",
    "# makes it simple to get things such as the accuracy score as well as an imblaanced classification report.\n",
    "\n",
    "\n",
    "\n",
    "# Limitations: When working with thise code, there were some limitations to the model we used. One of the limitations\n",
    "# is that we are unable to make any sort of predicts for future algorithms. This limiation is also made very obvious when\n",
    "# we know the dataset we are using does not go into the future and even stops around 2016. Another limitation is that with\n",
    "# supervised learning, we need to use good examples that can provide a good enough relationship or else the accuracy\n",
    "# we get can be very low. This is made especially difficult when the amount of data being used is very large and \n",
    "# there are a lot of unique identifiers that can lower the score on its own. "
   ]
  },
  {
   "cell_type": "code",
   "execution_count": null,
   "id": "2a93d693",
   "metadata": {},
   "outputs": [],
   "source": []
  }
 ],
 "metadata": {
  "kernelspec": {
   "display_name": "mlenv",
   "language": "python",
   "name": "mlenv"
  },
  "language_info": {
   "codemirror_mode": {
    "name": "ipython",
    "version": 3
   },
   "file_extension": ".py",
   "mimetype": "text/x-python",
   "name": "python",
   "nbconvert_exporter": "python",
   "pygments_lexer": "ipython3",
   "version": "3.7.13"
  }
 },
 "nbformat": 4,
 "nbformat_minor": 5
}
