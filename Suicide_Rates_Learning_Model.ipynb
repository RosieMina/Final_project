{
 "cells": [
  {
   "cell_type": "code",
   "execution_count": 1,
   "id": "447b926c",
   "metadata": {},
   "outputs": [],
   "source": [
    "import warnings\n",
    "warnings.filterwarnings('ignore')"
   ]
  },
  {
   "cell_type": "code",
   "execution_count": 2,
   "id": "8c81dbec",
   "metadata": {},
   "outputs": [],
   "source": [
    "# Import dependencies \n",
    "import numpy as np\n",
    "import pandas as pd\n",
    "from collections import Counter\n",
    "from sklearn.metrics import balanced_accuracy_score\n",
    "from sklearn.metrics import confusion_matrix\n",
    "from imblearn.metrics import classification_report_imbalanced"
   ]
  },
  {
   "cell_type": "markdown",
   "id": "8fe2155b",
   "metadata": {},
   "source": [
    "# Week 1: Read in CSV File"
   ]
  },
  {
   "cell_type": "code",
   "execution_count": 3,
   "id": "695a9d3f",
   "metadata": {},
   "outputs": [],
   "source": [
    "# Source: https://www.kaggle.com/datasets/russellyates88/suicide-rates-overview-1985-to-2016?resource=download\n",
    "# For our project, we agreed that a supervised learning model wold be the best first simply because\n",
    "# we already have the data provided to us and our answer. In addition, we can look at comparisons \n",
    "# when it comes to suicide since we believe there are many factors we can look at in order to find a relationship.\n",
    "columns = [\n",
    "    \"country\",\"year\",\"sex\",\"age\",\"suicides_no\",\"population\",\"suicides/100k_pop\",\"country_year\",\n",
    "    \"HDI_four_year\",\"gdp_per_capita ($)\",\"generation\"\n",
    "]\n",
    "\n",
    "target = [\"sex\"]"
   ]
  },
  {
   "cell_type": "code",
   "execution_count": 4,
   "id": "f2cad147",
   "metadata": {},
   "outputs": [
    {
     "data": {
      "text/html": [
       "<div>\n",
       "<style scoped>\n",
       "    .dataframe tbody tr th:only-of-type {\n",
       "        vertical-align: middle;\n",
       "    }\n",
       "\n",
       "    .dataframe tbody tr th {\n",
       "        vertical-align: top;\n",
       "    }\n",
       "\n",
       "    .dataframe thead th {\n",
       "        text-align: right;\n",
       "    }\n",
       "</style>\n",
       "<table border=\"1\" class=\"dataframe\">\n",
       "  <thead>\n",
       "    <tr style=\"text-align: right;\">\n",
       "      <th></th>\n",
       "      <th>country</th>\n",
       "      <th>year</th>\n",
       "      <th>sex</th>\n",
       "      <th>age</th>\n",
       "      <th>suicides_no</th>\n",
       "      <th>population</th>\n",
       "      <th>suicides/100k pop</th>\n",
       "      <th>country-year</th>\n",
       "      <th>HDI for year</th>\n",
       "      <th>gdp_for_year ($)</th>\n",
       "      <th>gdp_per_capita ($)</th>\n",
       "      <th>generation</th>\n",
       "    </tr>\n",
       "  </thead>\n",
       "  <tbody>\n",
       "    <tr>\n",
       "      <th>0</th>\n",
       "      <td>Albania</td>\n",
       "      <td>1995</td>\n",
       "      <td>male</td>\n",
       "      <td>25-34 years</td>\n",
       "      <td>13</td>\n",
       "      <td>232900</td>\n",
       "      <td>5.58</td>\n",
       "      <td>Albania1995</td>\n",
       "      <td>0.619</td>\n",
       "      <td>2,424,499,009</td>\n",
       "      <td>835</td>\n",
       "      <td>Generation X</td>\n",
       "    </tr>\n",
       "    <tr>\n",
       "      <th>1</th>\n",
       "      <td>Albania</td>\n",
       "      <td>1995</td>\n",
       "      <td>male</td>\n",
       "      <td>55-74 years</td>\n",
       "      <td>9</td>\n",
       "      <td>178000</td>\n",
       "      <td>5.06</td>\n",
       "      <td>Albania1995</td>\n",
       "      <td>0.619</td>\n",
       "      <td>2,424,499,009</td>\n",
       "      <td>835</td>\n",
       "      <td>Silent</td>\n",
       "    </tr>\n",
       "    <tr>\n",
       "      <th>2</th>\n",
       "      <td>Albania</td>\n",
       "      <td>1995</td>\n",
       "      <td>female</td>\n",
       "      <td>75+ years</td>\n",
       "      <td>2</td>\n",
       "      <td>40800</td>\n",
       "      <td>4.90</td>\n",
       "      <td>Albania1995</td>\n",
       "      <td>0.619</td>\n",
       "      <td>2,424,499,009</td>\n",
       "      <td>835</td>\n",
       "      <td>G.I. Generation</td>\n",
       "    </tr>\n",
       "    <tr>\n",
       "      <th>3</th>\n",
       "      <td>Albania</td>\n",
       "      <td>1995</td>\n",
       "      <td>female</td>\n",
       "      <td>15-24 years</td>\n",
       "      <td>13</td>\n",
       "      <td>283500</td>\n",
       "      <td>4.59</td>\n",
       "      <td>Albania1995</td>\n",
       "      <td>0.619</td>\n",
       "      <td>2,424,499,009</td>\n",
       "      <td>835</td>\n",
       "      <td>Generation X</td>\n",
       "    </tr>\n",
       "    <tr>\n",
       "      <th>4</th>\n",
       "      <td>Albania</td>\n",
       "      <td>1995</td>\n",
       "      <td>male</td>\n",
       "      <td>15-24 years</td>\n",
       "      <td>11</td>\n",
       "      <td>241200</td>\n",
       "      <td>4.56</td>\n",
       "      <td>Albania1995</td>\n",
       "      <td>0.619</td>\n",
       "      <td>2,424,499,009</td>\n",
       "      <td>835</td>\n",
       "      <td>Generation X</td>\n",
       "    </tr>\n",
       "    <tr>\n",
       "      <th>...</th>\n",
       "      <td>...</td>\n",
       "      <td>...</td>\n",
       "      <td>...</td>\n",
       "      <td>...</td>\n",
       "      <td>...</td>\n",
       "      <td>...</td>\n",
       "      <td>...</td>\n",
       "      <td>...</td>\n",
       "      <td>...</td>\n",
       "      <td>...</td>\n",
       "      <td>...</td>\n",
       "      <td>...</td>\n",
       "    </tr>\n",
       "    <tr>\n",
       "      <th>8359</th>\n",
       "      <td>Uzbekistan</td>\n",
       "      <td>2014</td>\n",
       "      <td>female</td>\n",
       "      <td>35-54 years</td>\n",
       "      <td>107</td>\n",
       "      <td>3620833</td>\n",
       "      <td>2.96</td>\n",
       "      <td>Uzbekistan2014</td>\n",
       "      <td>0.675</td>\n",
       "      <td>63,067,077,179</td>\n",
       "      <td>2309</td>\n",
       "      <td>Generation X</td>\n",
       "    </tr>\n",
       "    <tr>\n",
       "      <th>8360</th>\n",
       "      <td>Uzbekistan</td>\n",
       "      <td>2014</td>\n",
       "      <td>female</td>\n",
       "      <td>75+ years</td>\n",
       "      <td>9</td>\n",
       "      <td>348465</td>\n",
       "      <td>2.58</td>\n",
       "      <td>Uzbekistan2014</td>\n",
       "      <td>0.675</td>\n",
       "      <td>63,067,077,179</td>\n",
       "      <td>2309</td>\n",
       "      <td>Silent</td>\n",
       "    </tr>\n",
       "    <tr>\n",
       "      <th>8361</th>\n",
       "      <td>Uzbekistan</td>\n",
       "      <td>2014</td>\n",
       "      <td>male</td>\n",
       "      <td>5-14 years</td>\n",
       "      <td>60</td>\n",
       "      <td>2762158</td>\n",
       "      <td>2.17</td>\n",
       "      <td>Uzbekistan2014</td>\n",
       "      <td>0.675</td>\n",
       "      <td>63,067,077,179</td>\n",
       "      <td>2309</td>\n",
       "      <td>Generation Z</td>\n",
       "    </tr>\n",
       "    <tr>\n",
       "      <th>8362</th>\n",
       "      <td>Uzbekistan</td>\n",
       "      <td>2014</td>\n",
       "      <td>female</td>\n",
       "      <td>5-14 years</td>\n",
       "      <td>44</td>\n",
       "      <td>2631600</td>\n",
       "      <td>1.67</td>\n",
       "      <td>Uzbekistan2014</td>\n",
       "      <td>0.675</td>\n",
       "      <td>63,067,077,179</td>\n",
       "      <td>2309</td>\n",
       "      <td>Generation Z</td>\n",
       "    </tr>\n",
       "    <tr>\n",
       "      <th>8363</th>\n",
       "      <td>Uzbekistan</td>\n",
       "      <td>2014</td>\n",
       "      <td>female</td>\n",
       "      <td>55-74 years</td>\n",
       "      <td>21</td>\n",
       "      <td>1438935</td>\n",
       "      <td>1.46</td>\n",
       "      <td>Uzbekistan2014</td>\n",
       "      <td>0.675</td>\n",
       "      <td>63,067,077,179</td>\n",
       "      <td>2309</td>\n",
       "      <td>Boomers</td>\n",
       "    </tr>\n",
       "  </tbody>\n",
       "</table>\n",
       "<p>8364 rows × 12 columns</p>\n",
       "</div>"
      ],
      "text/plain": [
       "         country  year     sex          age  suicides_no  population  \\\n",
       "0        Albania  1995    male  25-34 years           13      232900   \n",
       "1        Albania  1995    male  55-74 years            9      178000   \n",
       "2        Albania  1995  female    75+ years            2       40800   \n",
       "3        Albania  1995  female  15-24 years           13      283500   \n",
       "4        Albania  1995    male  15-24 years           11      241200   \n",
       "...          ...   ...     ...          ...          ...         ...   \n",
       "8359  Uzbekistan  2014  female  35-54 years          107     3620833   \n",
       "8360  Uzbekistan  2014  female    75+ years            9      348465   \n",
       "8361  Uzbekistan  2014    male   5-14 years           60     2762158   \n",
       "8362  Uzbekistan  2014  female   5-14 years           44     2631600   \n",
       "8363  Uzbekistan  2014  female  55-74 years           21     1438935   \n",
       "\n",
       "      suicides/100k pop    country-year  HDI for year  gdp_for_year ($)   \\\n",
       "0                  5.58     Albania1995         0.619      2,424,499,009   \n",
       "1                  5.06     Albania1995         0.619      2,424,499,009   \n",
       "2                  4.90     Albania1995         0.619      2,424,499,009   \n",
       "3                  4.59     Albania1995         0.619      2,424,499,009   \n",
       "4                  4.56     Albania1995         0.619      2,424,499,009   \n",
       "...                 ...             ...           ...                ...   \n",
       "8359               2.96  Uzbekistan2014         0.675     63,067,077,179   \n",
       "8360               2.58  Uzbekistan2014         0.675     63,067,077,179   \n",
       "8361               2.17  Uzbekistan2014         0.675     63,067,077,179   \n",
       "8362               1.67  Uzbekistan2014         0.675     63,067,077,179   \n",
       "8363               1.46  Uzbekistan2014         0.675     63,067,077,179   \n",
       "\n",
       "      gdp_per_capita ($)       generation  \n",
       "0                    835     Generation X  \n",
       "1                    835           Silent  \n",
       "2                    835  G.I. Generation  \n",
       "3                    835     Generation X  \n",
       "4                    835     Generation X  \n",
       "...                  ...              ...  \n",
       "8359                2309     Generation X  \n",
       "8360                2309           Silent  \n",
       "8361                2309     Generation Z  \n",
       "8362                2309     Generation Z  \n",
       "8363                2309          Boomers  \n",
       "\n",
       "[8364 rows x 12 columns]"
      ]
     },
     "execution_count": 4,
     "metadata": {},
     "output_type": "execute_result"
    }
   ],
   "source": [
    "# Load the data\n",
    "file_path = ('master.csv')\n",
    "df = pd.read_csv(file_path)\n",
    "\n",
    "# Drop the null columns where all values are null\n",
    "df = df.dropna(axis='columns', how='all')\n",
    "\n",
    "# Drop the null rows\n",
    "df = df.dropna()\n",
    "\n",
    "df.reset_index(inplace=True, drop=True)\n",
    "\n",
    "df"
   ]
  },
  {
   "cell_type": "code",
   "execution_count": 5,
   "id": "5f51d0bf",
   "metadata": {},
   "outputs": [
    {
     "name": "stdout",
     "output_type": "stream",
     "text": [
      "Columns country has 0 null values\n",
      "Columns year has 0 null values\n",
      "Columns sex has 0 null values\n",
      "Columns age has 0 null values\n",
      "Columns suicides_no has 0 null values\n",
      "Columns population has 0 null values\n",
      "Columns suicides/100k pop has 0 null values\n",
      "Columns country-year has 0 null values\n",
      "Columns HDI for year has 0 null values\n",
      "Columns  gdp_for_year ($)  has 0 null values\n",
      "Columns gdp_per_capita ($) has 0 null values\n",
      "Columns generation has 0 null values\n"
     ]
    }
   ],
   "source": [
    "# Week 2: Preprocessing Data by first finding null values \n",
    "for column in df.columns:\n",
    "    print(f\"Columns {column} has {df[column].isnull().sum()} null values\")"
   ]
  },
  {
   "cell_type": "code",
   "execution_count": 6,
   "id": "957c8bb1",
   "metadata": {},
   "outputs": [
    {
     "name": "stdout",
     "output_type": "stream",
     "text": [
      "Duplicate entries: 0\n"
     ]
    }
   ],
   "source": [
    "# Week 2: Preprocessing by find duplicate entries \n",
    "print(f\"Duplicate entries: {df.duplicated().sum()}\")"
   ]
  },
  {
   "cell_type": "markdown",
   "id": "e533b773",
   "metadata": {},
   "source": [
    "# Week 2 Changes: Filtering DataFrame to get Specific Countries"
   ]
  },
  {
   "cell_type": "code",
   "execution_count": 7,
   "id": "1247a02f",
   "metadata": {},
   "outputs": [
    {
     "data": {
      "text/html": [
       "<div>\n",
       "<style scoped>\n",
       "    .dataframe tbody tr th:only-of-type {\n",
       "        vertical-align: middle;\n",
       "    }\n",
       "\n",
       "    .dataframe tbody tr th {\n",
       "        vertical-align: top;\n",
       "    }\n",
       "\n",
       "    .dataframe thead th {\n",
       "        text-align: right;\n",
       "    }\n",
       "</style>\n",
       "<table border=\"1\" class=\"dataframe\">\n",
       "  <thead>\n",
       "    <tr style=\"text-align: right;\">\n",
       "      <th></th>\n",
       "      <th>country</th>\n",
       "      <th>year</th>\n",
       "      <th>sex</th>\n",
       "      <th>age</th>\n",
       "      <th>suicides_no</th>\n",
       "      <th>population</th>\n",
       "      <th>suicides/100k pop</th>\n",
       "      <th>country-year</th>\n",
       "      <th>HDI for year</th>\n",
       "      <th>gdp_for_year ($)</th>\n",
       "      <th>gdp_per_capita ($)</th>\n",
       "      <th>generation</th>\n",
       "    </tr>\n",
       "  </thead>\n",
       "  <tbody>\n",
       "    <tr>\n",
       "      <th>7932</th>\n",
       "      <td>United Kingdom</td>\n",
       "      <td>1985</td>\n",
       "      <td>male</td>\n",
       "      <td>75+ years</td>\n",
       "      <td>264</td>\n",
       "      <td>1202838</td>\n",
       "      <td>21.95</td>\n",
       "      <td>United Kingdom1985</td>\n",
       "      <td>0.753</td>\n",
       "      <td>489,285,164,271</td>\n",
       "      <td>9231</td>\n",
       "      <td>G.I. Generation</td>\n",
       "    </tr>\n",
       "    <tr>\n",
       "      <th>7933</th>\n",
       "      <td>United Kingdom</td>\n",
       "      <td>1985</td>\n",
       "      <td>male</td>\n",
       "      <td>55-74 years</td>\n",
       "      <td>915</td>\n",
       "      <td>5170113</td>\n",
       "      <td>17.70</td>\n",
       "      <td>United Kingdom1985</td>\n",
       "      <td>0.753</td>\n",
       "      <td>489,285,164,271</td>\n",
       "      <td>9231</td>\n",
       "      <td>G.I. Generation</td>\n",
       "    </tr>\n",
       "    <tr>\n",
       "      <th>7934</th>\n",
       "      <td>United Kingdom</td>\n",
       "      <td>1985</td>\n",
       "      <td>male</td>\n",
       "      <td>35-54 years</td>\n",
       "      <td>1208</td>\n",
       "      <td>6899879</td>\n",
       "      <td>17.51</td>\n",
       "      <td>United Kingdom1985</td>\n",
       "      <td>0.753</td>\n",
       "      <td>489,285,164,271</td>\n",
       "      <td>9231</td>\n",
       "      <td>Silent</td>\n",
       "    </tr>\n",
       "    <tr>\n",
       "      <th>7935</th>\n",
       "      <td>United Kingdom</td>\n",
       "      <td>1985</td>\n",
       "      <td>male</td>\n",
       "      <td>25-34 years</td>\n",
       "      <td>620</td>\n",
       "      <td>3969689</td>\n",
       "      <td>15.62</td>\n",
       "      <td>United Kingdom1985</td>\n",
       "      <td>0.753</td>\n",
       "      <td>489,285,164,271</td>\n",
       "      <td>9231</td>\n",
       "      <td>Boomers</td>\n",
       "    </tr>\n",
       "    <tr>\n",
       "      <th>7936</th>\n",
       "      <td>United Kingdom</td>\n",
       "      <td>1985</td>\n",
       "      <td>female</td>\n",
       "      <td>55-74 years</td>\n",
       "      <td>678</td>\n",
       "      <td>6002096</td>\n",
       "      <td>11.30</td>\n",
       "      <td>United Kingdom1985</td>\n",
       "      <td>0.753</td>\n",
       "      <td>489,285,164,271</td>\n",
       "      <td>9231</td>\n",
       "      <td>G.I. Generation</td>\n",
       "    </tr>\n",
       "    <tr>\n",
       "      <th>...</th>\n",
       "      <td>...</td>\n",
       "      <td>...</td>\n",
       "      <td>...</td>\n",
       "      <td>...</td>\n",
       "      <td>...</td>\n",
       "      <td>...</td>\n",
       "      <td>...</td>\n",
       "      <td>...</td>\n",
       "      <td>...</td>\n",
       "      <td>...</td>\n",
       "      <td>...</td>\n",
       "      <td>...</td>\n",
       "    </tr>\n",
       "    <tr>\n",
       "      <th>8167</th>\n",
       "      <td>United States</td>\n",
       "      <td>2014</td>\n",
       "      <td>female</td>\n",
       "      <td>25-34 years</td>\n",
       "      <td>1347</td>\n",
       "      <td>21250636</td>\n",
       "      <td>6.34</td>\n",
       "      <td>United States2014</td>\n",
       "      <td>0.915</td>\n",
       "      <td>17,427,609,000,000</td>\n",
       "      <td>58531</td>\n",
       "      <td>Millenials</td>\n",
       "    </tr>\n",
       "    <tr>\n",
       "      <th>8168</th>\n",
       "      <td>United States</td>\n",
       "      <td>2014</td>\n",
       "      <td>female</td>\n",
       "      <td>15-24 years</td>\n",
       "      <td>990</td>\n",
       "      <td>21691057</td>\n",
       "      <td>4.56</td>\n",
       "      <td>United States2014</td>\n",
       "      <td>0.915</td>\n",
       "      <td>17,427,609,000,000</td>\n",
       "      <td>58531</td>\n",
       "      <td>Millenials</td>\n",
       "    </tr>\n",
       "    <tr>\n",
       "      <th>8169</th>\n",
       "      <td>United States</td>\n",
       "      <td>2014</td>\n",
       "      <td>female</td>\n",
       "      <td>75+ years</td>\n",
       "      <td>477</td>\n",
       "      <td>11616299</td>\n",
       "      <td>4.11</td>\n",
       "      <td>United States2014</td>\n",
       "      <td>0.915</td>\n",
       "      <td>17,427,609,000,000</td>\n",
       "      <td>58531</td>\n",
       "      <td>Silent</td>\n",
       "    </tr>\n",
       "    <tr>\n",
       "      <th>8170</th>\n",
       "      <td>United States</td>\n",
       "      <td>2014</td>\n",
       "      <td>male</td>\n",
       "      <td>5-14 years</td>\n",
       "      <td>277</td>\n",
       "      <td>21264881</td>\n",
       "      <td>1.30</td>\n",
       "      <td>United States2014</td>\n",
       "      <td>0.915</td>\n",
       "      <td>17,427,609,000,000</td>\n",
       "      <td>58531</td>\n",
       "      <td>Generation Z</td>\n",
       "    </tr>\n",
       "    <tr>\n",
       "      <th>8171</th>\n",
       "      <td>United States</td>\n",
       "      <td>2014</td>\n",
       "      <td>female</td>\n",
       "      <td>5-14 years</td>\n",
       "      <td>151</td>\n",
       "      <td>20336916</td>\n",
       "      <td>0.74</td>\n",
       "      <td>United States2014</td>\n",
       "      <td>0.915</td>\n",
       "      <td>17,427,609,000,000</td>\n",
       "      <td>58531</td>\n",
       "      <td>Generation Z</td>\n",
       "    </tr>\n",
       "  </tbody>\n",
       "</table>\n",
       "<p>240 rows × 12 columns</p>\n",
       "</div>"
      ],
      "text/plain": [
       "             country  year     sex          age  suicides_no  population  \\\n",
       "7932  United Kingdom  1985    male    75+ years          264     1202838   \n",
       "7933  United Kingdom  1985    male  55-74 years          915     5170113   \n",
       "7934  United Kingdom  1985    male  35-54 years         1208     6899879   \n",
       "7935  United Kingdom  1985    male  25-34 years          620     3969689   \n",
       "7936  United Kingdom  1985  female  55-74 years          678     6002096   \n",
       "...              ...   ...     ...          ...          ...         ...   \n",
       "8167   United States  2014  female  25-34 years         1347    21250636   \n",
       "8168   United States  2014  female  15-24 years          990    21691057   \n",
       "8169   United States  2014  female    75+ years          477    11616299   \n",
       "8170   United States  2014    male   5-14 years          277    21264881   \n",
       "8171   United States  2014  female   5-14 years          151    20336916   \n",
       "\n",
       "      suicides/100k pop        country-year  HDI for year   gdp_for_year ($)   \\\n",
       "7932              21.95  United Kingdom1985         0.753     489,285,164,271   \n",
       "7933              17.70  United Kingdom1985         0.753     489,285,164,271   \n",
       "7934              17.51  United Kingdom1985         0.753     489,285,164,271   \n",
       "7935              15.62  United Kingdom1985         0.753     489,285,164,271   \n",
       "7936              11.30  United Kingdom1985         0.753     489,285,164,271   \n",
       "...                 ...                 ...           ...                 ...   \n",
       "8167               6.34   United States2014         0.915  17,427,609,000,000   \n",
       "8168               4.56   United States2014         0.915  17,427,609,000,000   \n",
       "8169               4.11   United States2014         0.915  17,427,609,000,000   \n",
       "8170               1.30   United States2014         0.915  17,427,609,000,000   \n",
       "8171               0.74   United States2014         0.915  17,427,609,000,000   \n",
       "\n",
       "      gdp_per_capita ($)       generation  \n",
       "7932                9231  G.I. Generation  \n",
       "7933                9231  G.I. Generation  \n",
       "7934                9231           Silent  \n",
       "7935                9231          Boomers  \n",
       "7936                9231  G.I. Generation  \n",
       "...                  ...              ...  \n",
       "8167               58531       Millenials  \n",
       "8168               58531       Millenials  \n",
       "8169               58531           Silent  \n",
       "8170               58531     Generation Z  \n",
       "8171               58531     Generation Z  \n",
       "\n",
       "[240 rows x 12 columns]"
      ]
     },
     "execution_count": 7,
     "metadata": {},
     "output_type": "execute_result"
    }
   ],
   "source": [
    "# Week 2: Selecting and filtering the DataFrame to create a new DataFrame \n",
    "# showing the a pair of first world countries (United States & United Kingdom)\n",
    "first_world_df = df.loc[7932:8171]\n",
    "first_world_df"
   ]
  },
  {
   "cell_type": "markdown",
   "id": "4a952898",
   "metadata": {},
   "source": [
    "# Split the Data into Training and Testing"
   ]
  },
  {
   "cell_type": "code",
   "execution_count": 8,
   "id": "de58a873",
   "metadata": {},
   "outputs": [
    {
     "data": {
      "text/plain": [
       "country                object\n",
       "year                    int64\n",
       "sex                    object\n",
       "age                    object\n",
       "suicides_no             int64\n",
       "population              int64\n",
       "suicides/100k pop     float64\n",
       "country-year           object\n",
       "HDI for year          float64\n",
       " gdp_for_year ($)      object\n",
       "gdp_per_capita ($)      int64\n",
       "generation             object\n",
       "dtype: object"
      ]
     },
     "execution_count": 8,
     "metadata": {},
     "output_type": "execute_result"
    }
   ],
   "source": [
    "# Week 2: Preprocessing by checking data types before starting\n",
    "df.dtypes"
   ]
  },
  {
   "cell_type": "code",
   "execution_count": 9,
   "id": "43d74d64",
   "metadata": {},
   "outputs": [
    {
     "name": "stdout",
     "output_type": "stream",
     "text": [
      "['country', 'year', 'sex', 'age', 'suicides_no', 'population', 'suicides/100k pop', 'country-year', 'HDI for year', ' gdp_for_year ($) ', 'gdp_per_capita ($)', 'generation']\n"
     ]
    }
   ],
   "source": [
    "# Listing columns that are a part of our selection\n",
    "print(df.columns.tolist())"
   ]
  },
  {
   "cell_type": "code",
   "execution_count": 10,
   "id": "9b9c8fc0",
   "metadata": {},
   "outputs": [],
   "source": [
    "# Week 2: Create X and y variables from the filtered df (first world countries)\n",
    "# This comparison is made between two first world countries for better accuracy and consistency.\n",
    "# Here we are checking for a correlation between suicide rates and gender.\n",
    "X = first_world_df[[\"suicides_no\"]]\n",
    "\n",
    "# Create the target\n",
    "y = first_world_df[\"sex\"]"
   ]
  },
  {
   "cell_type": "code",
   "execution_count": 11,
   "id": "b0896584",
   "metadata": {},
   "outputs": [
    {
     "data": {
      "text/plain": [
       "(180, 1)"
      ]
     },
     "execution_count": 11,
     "metadata": {},
     "output_type": "execute_result"
    }
   ],
   "source": [
    "# Import train test split for Preprocess\n",
    "# We train, test, and split the function before looking for relationships by first\n",
    "# having our devices split the data into two sections (train and test). \n",
    "# Train: We train teh data so our device learns from the data itself.\n",
    "# Test: Our device assess the performance in order to uncover trends.\n",
    "# We do this for the 'X' and 'y' variables.\n",
    "from sklearn.model_selection import train_test_split\n",
    "\n",
    "# Having a random state of 1 ensures that the same rows are assigned sets of training and testing.\n",
    "# If we had different numbers for random_state, then different rows would be distrubuted.\n",
    "# When we use stratify, we divide the data equally.\n",
    "X_train, X_test, y_train, y_test = train_test_split(X, y, random_state=1, stratify=y)\n",
    "X_train.shape"
   ]
  },
  {
   "cell_type": "markdown",
   "id": "cfc8d77f",
   "metadata": {},
   "source": [
    "# Using BalancedRandomForestClassifier (First World Countries)"
   ]
  },
  {
   "cell_type": "code",
   "execution_count": 12,
   "id": "68f215b0",
   "metadata": {},
   "outputs": [
    {
     "data": {
      "text/plain": [
       "BalancedRandomForestClassifier(random_state=1)"
      ]
     },
     "execution_count": 12,
     "metadata": {},
     "output_type": "execute_result"
    }
   ],
   "source": [
    "# Resample the training data with the BalancedRandomForestClassifier\n",
    "# Using BalancedRandomForest, multiple trees can be used in order to provide \n",
    "# a stronger model with the help of weaker models \n",
    "from imblearn.ensemble import BalancedRandomForestClassifier\n",
    "suicides_model = BalancedRandomForestClassifier(n_estimators = 100, random_state=1)\n",
    "suicides_model"
   ]
  },
  {
   "cell_type": "code",
   "execution_count": 13,
   "id": "d6b74474",
   "metadata": {},
   "outputs": [],
   "source": [
    "# Fit the model for the X and y training sets\n",
    "suicides_model = suicides_model.fit(X_train, y_train)"
   ]
  },
  {
   "cell_type": "code",
   "execution_count": 14,
   "id": "5ef07363",
   "metadata": {},
   "outputs": [
    {
     "data": {
      "text/plain": [
       "0.7166666666666666"
      ]
     },
     "execution_count": 14,
     "metadata": {},
     "output_type": "execute_result"
    }
   ],
   "source": [
    "# Here we create predictions and assemble the results into a Pandas DataFrame\n",
    "# The 'predict' method is used to create predictions based on the X_test.\n",
    "# Then the model is evaluated  on its performance by checking the accuracy score.\n",
    "y_pred = suicides_model.predict(X_test)\n",
    "balanced_accuracy_score(y_test, y_pred)"
   ]
  },
  {
   "cell_type": "code",
   "execution_count": 15,
   "id": "99ed4fe2",
   "metadata": {},
   "outputs": [
    {
     "data": {
      "text/plain": [
       "array([[21,  9],\n",
       "       [ 8, 22]])"
      ]
     },
     "execution_count": 15,
     "metadata": {},
     "output_type": "execute_result"
    }
   ],
   "source": [
    "# The confusion_matrix here displayed the table of \n",
    "# true positives, false positives, true negatives & false negatives\n",
    "confusion_matrix(y_test, y_pred)"
   ]
  },
  {
   "cell_type": "code",
   "execution_count": 16,
   "id": "b7f1d2c0",
   "metadata": {},
   "outputs": [
    {
     "name": "stdout",
     "output_type": "stream",
     "text": [
      "                   pre       rec       spe        f1       geo       iba       sup\n",
      "\n",
      "     female       0.72      0.70      0.73      0.71      0.72      0.51        30\n",
      "       male       0.71      0.73      0.70      0.72      0.72      0.52        30\n",
      "\n",
      "avg / total       0.72      0.72      0.72      0.72      0.72      0.51        60\n",
      "\n"
     ]
    }
   ],
   "source": [
    "# The classification report from sklearn's module's performs the task of getting metrics such as \n",
    "# precision, f1 score, and recall score.\n",
    "print(classification_report_imbalanced(y_test, y_pred))"
   ]
  },
  {
   "cell_type": "markdown",
   "id": "70a17e7f",
   "metadata": {},
   "source": [
    "# Using SMOTEEN (First World Countries)"
   ]
  },
  {
   "cell_type": "code",
   "execution_count": 17,
   "id": "c4fc7019",
   "metadata": {},
   "outputs": [],
   "source": [
    "# Using SMOTEEN, we can perform both over and undersampling. \n",
    "# We can first oversample the minority class with SMOTE,\n",
    "# and then we can use undersampling to clean the resulting data. This is done by\n",
    "# dropping the two nearest neighbors of data points belonging to two different classes.\n",
    "#(US & UK)\n",
    "from imblearn.combine import SMOTEENN\n",
    "from sklearn.linear_model import LogisticRegression\n",
    "smote_eenn = SMOTEENN(random_state=0)\n",
    "X_resampled, y_resampled = smote_eenn.fit_resample(X, y)"
   ]
  },
  {
   "cell_type": "code",
   "execution_count": 18,
   "id": "37158429",
   "metadata": {},
   "outputs": [
    {
     "data": {
      "text/plain": [
       "LogisticRegression(random_state=1)"
      ]
     },
     "execution_count": 18,
     "metadata": {},
     "output_type": "execute_result"
    }
   ],
   "source": [
    "# Here we use LogisticRegression from the sklearn.library to represent the model\n",
    "# The solver of 'lbfgs' is the default model. \n",
    "suicides_model = LogisticRegression(solver='lbfgs', random_state=1)\n",
    "suicides_model.fit(X_resampled, y_resampled)"
   ]
  },
  {
   "cell_type": "code",
   "execution_count": 19,
   "id": "5bbef25e",
   "metadata": {},
   "outputs": [
    {
     "data": {
      "text/plain": [
       "0.7833333333333333"
      ]
     },
     "execution_count": 19,
     "metadata": {},
     "output_type": "execute_result"
    }
   ],
   "source": [
    "# Here we create predictions and assemble the results into a Pandas DataFrame\n",
    "# The 'predict' method is used to create predictions based on the X_test.\n",
    "# Then the model is evaluated  on its performance by checking the accuracy score.\n",
    "y_pred = suicides_model.predict(X_test)\n",
    "balanced_accuracy_score(y_test, y_pred)"
   ]
  },
  {
   "cell_type": "code",
   "execution_count": 20,
   "id": "febb5d86",
   "metadata": {},
   "outputs": [
    {
     "data": {
      "text/plain": [
       "array([[27,  3],\n",
       "       [10, 20]])"
      ]
     },
     "execution_count": 20,
     "metadata": {},
     "output_type": "execute_result"
    }
   ],
   "source": [
    "# The confusion_matrix here displayed the table of \n",
    "# true positives, false positives, true negatives & false negatives\n",
    "confusion_matrix(y_test, y_pred)"
   ]
  },
  {
   "cell_type": "code",
   "execution_count": 21,
   "id": "db529d03",
   "metadata": {},
   "outputs": [
    {
     "name": "stdout",
     "output_type": "stream",
     "text": [
      "                   pre       rec       spe        f1       geo       iba       sup\n",
      "\n",
      "     female       0.73      0.90      0.67      0.81      0.77      0.61        30\n",
      "       male       0.87      0.67      0.90      0.75      0.77      0.59        30\n",
      "\n",
      "avg / total       0.80      0.78      0.78      0.78      0.77      0.60        60\n",
      "\n"
     ]
    }
   ],
   "source": [
    "# The classification report from sklearn's module's performs the task of getting metrics such as \n",
    "# precision, f1 score, and recall score.\n",
    "print(classification_report_imbalanced(y_test, y_pred))"
   ]
  },
  {
   "cell_type": "markdown",
   "id": "a36ed673",
   "metadata": {},
   "source": [
    "# Using RandomOverSampler (First World Countries)"
   ]
  },
  {
   "cell_type": "code",
   "execution_count": 22,
   "id": "f2d403f7",
   "metadata": {},
   "outputs": [
    {
     "data": {
      "text/plain": [
       "Counter({'female': 90, 'male': 90})"
      ]
     },
     "execution_count": 22,
     "metadata": {},
     "output_type": "execute_result"
    }
   ],
   "source": [
    "# Using RandomOverSampler (US & UK)\n",
    "# With RandomOverSampler, the instances of the minority classes are randomly selected and \n",
    "# added to the training set until both classes are balanced \n",
    "from imblearn.over_sampling import RandomOverSampler\n",
    "ros_suicides = RandomOverSampler(random_state=1)\n",
    "X_resampled, y_resampled = ros_suicides.fit_resample(X_train, y_train)\n",
    "Counter(y_resampled)"
   ]
  },
  {
   "cell_type": "code",
   "execution_count": 23,
   "id": "298e7c1a",
   "metadata": {},
   "outputs": [
    {
     "data": {
      "text/plain": [
       "LogisticRegression(random_state=1)"
      ]
     },
     "execution_count": 23,
     "metadata": {},
     "output_type": "execute_result"
    }
   ],
   "source": [
    "# Use LogisticRegression and fit the model so the the performance can be evaluated \n",
    "suicides_model = LogisticRegression(solver='lbfgs', random_state=1)\n",
    "suicides_model.fit(X_resampled, y_resampled)"
   ]
  },
  {
   "cell_type": "code",
   "execution_count": 24,
   "id": "690e1f74",
   "metadata": {},
   "outputs": [
    {
     "data": {
      "text/plain": [
       "0.7333333333333334"
      ]
     },
     "execution_count": 24,
     "metadata": {},
     "output_type": "execute_result"
    }
   ],
   "source": [
    "# Predict the model using the X_test\n",
    "# Calculated the balanced accuracy score\n",
    "y_pred = suicides_model.predict(X_test)\n",
    "balanced_accuracy_score(y_test, y_pred)"
   ]
  },
  {
   "cell_type": "code",
   "execution_count": 25,
   "id": "b5667bc5",
   "metadata": {},
   "outputs": [
    {
     "data": {
      "text/plain": [
       "array([[28,  2],\n",
       "       [14, 16]])"
      ]
     },
     "execution_count": 25,
     "metadata": {},
     "output_type": "execute_result"
    }
   ],
   "source": [
    "# Display the confusion matrix\n",
    "confusion_matrix(y_test, y_pred)"
   ]
  },
  {
   "cell_type": "code",
   "execution_count": 26,
   "id": "4db0daeb",
   "metadata": {},
   "outputs": [
    {
     "name": "stdout",
     "output_type": "stream",
     "text": [
      "                   pre       rec       spe        f1       geo       iba       sup\n",
      "\n",
      "     female       0.67      0.93      0.53      0.78      0.71      0.52        30\n",
      "       male       0.89      0.53      0.93      0.67      0.71      0.48        30\n",
      "\n",
      "avg / total       0.78      0.73      0.73      0.72      0.71      0.50        60\n",
      "\n"
     ]
    }
   ],
   "source": [
    "# Print the imbalanced classification report\n",
    "print(classification_report_imbalanced(y_test, y_pred))"
   ]
  },
  {
   "cell_type": "markdown",
   "id": "19701fa4",
   "metadata": {},
   "source": [
    "# First World Countries and Suicide Rates (Comparison between US and UK)"
   ]
  },
  {
   "cell_type": "code",
   "execution_count": 27,
   "id": "632c628d",
   "metadata": {},
   "outputs": [],
   "source": [
    "# Checking for a relationship betwwen rates and two first world countries (US & UK)\n",
    "# Create features\n",
    "X = first_world_df[[\"suicides_no\"]]\n",
    "\n",
    "# Create our target\n",
    "y = first_world_df[\"country\"]"
   ]
  },
  {
   "cell_type": "code",
   "execution_count": 28,
   "id": "1f197442",
   "metadata": {},
   "outputs": [
    {
     "data": {
      "text/plain": [
       "(180, 1)"
      ]
     },
     "execution_count": 28,
     "metadata": {},
     "output_type": "execute_result"
    }
   ],
   "source": [
    "# Import train, test, split\n",
    "from sklearn.model_selection import train_test_split\n",
    "X_train, X_test, y_train, y_test = train_test_split(X, y, random_state=1, stratify=y)\n",
    "X_train.shape"
   ]
  },
  {
   "cell_type": "markdown",
   "id": "0ae8711a",
   "metadata": {},
   "source": [
    "# Using BalancedRandomForestClassifier"
   ]
  },
  {
   "cell_type": "code",
   "execution_count": 29,
   "id": "ad7e8feb",
   "metadata": {},
   "outputs": [
    {
     "data": {
      "text/plain": [
       "BalancedRandomForestClassifier(random_state=1)"
      ]
     },
     "execution_count": 29,
     "metadata": {},
     "output_type": "execute_result"
    }
   ],
   "source": [
    "# Resample the training data with the BalancedRandomForestClassifier \n",
    "from imblearn.ensemble import BalancedRandomForestClassifier\n",
    "suicides_model = BalancedRandomForestClassifier(n_estimators = 100, random_state=1)\n",
    "suicides_model"
   ]
  },
  {
   "cell_type": "code",
   "execution_count": 30,
   "id": "1524abef",
   "metadata": {},
   "outputs": [],
   "source": [
    "# Fit the model for the X and y training sets\n",
    "suicides_model = suicides_model.fit(X_train, y_train)"
   ]
  },
  {
   "cell_type": "code",
   "execution_count": 31,
   "id": "f2696bcb",
   "metadata": {},
   "outputs": [
    {
     "data": {
      "text/plain": [
       "0.7166666666666666"
      ]
     },
     "execution_count": 31,
     "metadata": {},
     "output_type": "execute_result"
    }
   ],
   "source": [
    "# Here we create predictions and assemble the results into a Pandas DataFrame\n",
    "# The 'predict' method is used to create predictions based on the X_test.\n",
    "# Then the model is evaluated  on its performance by checking the accuracy score.\n",
    "y_pred = suicides_model.predict(X_test)\n",
    "balanced_accuracy_score(y_test, y_pred)"
   ]
  },
  {
   "cell_type": "code",
   "execution_count": 32,
   "id": "92ee5edc",
   "metadata": {},
   "outputs": [
    {
     "data": {
      "text/plain": [
       "array([[22,  8],\n",
       "       [ 9, 21]])"
      ]
     },
     "execution_count": 32,
     "metadata": {},
     "output_type": "execute_result"
    }
   ],
   "source": [
    "# The confusion_matrix here displayed the table of \n",
    "# true positives, false positives, true negatives & false negatives\n",
    "confusion_matrix(y_test, y_pred)"
   ]
  },
  {
   "cell_type": "code",
   "execution_count": 33,
   "id": "c369d1f7",
   "metadata": {},
   "outputs": [
    {
     "name": "stdout",
     "output_type": "stream",
     "text": [
      "                      pre       rec       spe        f1       geo       iba       sup\n",
      "\n",
      "United Kingdom       0.71      0.73      0.70      0.72      0.72      0.52        30\n",
      " United States       0.72      0.70      0.73      0.71      0.72      0.51        30\n",
      "\n",
      "   avg / total       0.72      0.72      0.72      0.72      0.72      0.51        60\n",
      "\n"
     ]
    }
   ],
   "source": [
    "# The classification report from sklearn's module's performs the task of getting metrics such as \n",
    "# precision, f1 score, and recall score.\n",
    "print(classification_report_imbalanced(y_test, y_pred))"
   ]
  },
  {
   "cell_type": "markdown",
   "id": "924c35c1",
   "metadata": {},
   "source": [
    "# Using SMOTEEN (1st World Countries)"
   ]
  },
  {
   "cell_type": "code",
   "execution_count": 34,
   "id": "fa0f443d",
   "metadata": {},
   "outputs": [],
   "source": [
    "# Using SMOTEEN, we can perform both over and undersampling. \n",
    "# We can first oversample the minority class with SMOTE,\n",
    "# and then we can use undersampling to clean the resulting data. This is done by\n",
    "# dropping the two nearest neighbors of data points belonging to two different classes.\n",
    "#(US & UK)\n",
    "from imblearn.combine import SMOTEENN\n",
    "from sklearn.linear_model import LogisticRegression\n",
    "smote_eenn = SMOTEENN(random_state=0)\n",
    "X_resampled, y_resampled = smote_eenn.fit_resample(X, y)"
   ]
  },
  {
   "cell_type": "code",
   "execution_count": 35,
   "id": "8888c4de",
   "metadata": {},
   "outputs": [
    {
     "data": {
      "text/plain": [
       "LogisticRegression(random_state=1)"
      ]
     },
     "execution_count": 35,
     "metadata": {},
     "output_type": "execute_result"
    }
   ],
   "source": [
    "# Here we use LogisticRegression from the sklearn.library to represent the model\n",
    "# The solver of 'lbfgs' is the default model. \n",
    "suicides_model = LogisticRegression(solver='lbfgs', random_state=1)\n",
    "suicides_model.fit(X_resampled, y_resampled)"
   ]
  },
  {
   "cell_type": "code",
   "execution_count": 36,
   "id": "ffa709be",
   "metadata": {},
   "outputs": [
    {
     "data": {
      "text/plain": [
       "0.6833333333333333"
      ]
     },
     "execution_count": 36,
     "metadata": {},
     "output_type": "execute_result"
    }
   ],
   "source": [
    "# Here we create predictions and assemble the results into a Pandas DataFrame\n",
    "# The 'predict' method is used to create predictions based on the X_test.\n",
    "# Then the model is evaluated  on its performance by checking the accuracy score.\n",
    "y_pred = suicides_model.predict(X_test)\n",
    "balanced_accuracy_score(y_test, y_pred)"
   ]
  },
  {
   "cell_type": "code",
   "execution_count": 37,
   "id": "24f4f7ea",
   "metadata": {},
   "outputs": [
    {
     "data": {
      "text/plain": [
       "array([[25,  5],\n",
       "       [14, 16]])"
      ]
     },
     "execution_count": 37,
     "metadata": {},
     "output_type": "execute_result"
    }
   ],
   "source": [
    "# The confusion_matrix here displayed the table of \n",
    "# true positives, false positives, true negatives & false negatives\n",
    "confusion_matrix(y_test, y_pred)"
   ]
  },
  {
   "cell_type": "code",
   "execution_count": 38,
   "id": "55139685",
   "metadata": {},
   "outputs": [
    {
     "name": "stdout",
     "output_type": "stream",
     "text": [
      "                      pre       rec       spe        f1       geo       iba       sup\n",
      "\n",
      "United Kingdom       0.64      0.83      0.53      0.72      0.67      0.46        30\n",
      " United States       0.76      0.53      0.83      0.63      0.67      0.43        30\n",
      "\n",
      "   avg / total       0.70      0.68      0.68      0.68      0.67      0.44        60\n",
      "\n"
     ]
    }
   ],
   "source": [
    "# The classification report from sklearn's module's performs the task of getting metrics such as \n",
    "# precision, f1 score, and recall score.\n",
    "print(classification_report_imbalanced(y_test, y_pred))"
   ]
  },
  {
   "cell_type": "markdown",
   "id": "eaf9629c",
   "metadata": {},
   "source": [
    "# Using RandomOverSampler (1st World Countries)"
   ]
  },
  {
   "cell_type": "code",
   "execution_count": 39,
   "id": "5292daa9",
   "metadata": {},
   "outputs": [
    {
     "data": {
      "text/plain": [
       "Counter({'United Kingdom': 90, 'United States': 90})"
      ]
     },
     "execution_count": 39,
     "metadata": {},
     "output_type": "execute_result"
    }
   ],
   "source": [
    "# Using RandomOverSampler (US & UK)\n",
    "# With RandomOverSampler, the instances of the minority classes are randomly selected and \n",
    "# added to the training set until both classes are balanced \n",
    "from imblearn.over_sampling import RandomOverSampler\n",
    "from sklearn.linear_model import LogisticRegression\n",
    "ros_suicides = RandomOverSampler(random_state=1)\n",
    "X_resampled, y_resampled = ros_suicides.fit_resample(X_train, y_train)\n",
    "Counter(y_resampled)"
   ]
  },
  {
   "cell_type": "code",
   "execution_count": 40,
   "id": "a14c0ded",
   "metadata": {},
   "outputs": [
    {
     "data": {
      "text/plain": [
       "LogisticRegression(random_state=1)"
      ]
     },
     "execution_count": 40,
     "metadata": {},
     "output_type": "execute_result"
    }
   ],
   "source": [
    "# Use LogisticRegression and fit the model\n",
    "suicides_model = LogisticRegression(solver='lbfgs', random_state=1)\n",
    "suicides_model.fit(X_resampled, y_resampled)"
   ]
  },
  {
   "cell_type": "code",
   "execution_count": 41,
   "id": "dc654f58",
   "metadata": {},
   "outputs": [
    {
     "data": {
      "text/plain": [
       "0.6833333333333333"
      ]
     },
     "execution_count": 41,
     "metadata": {},
     "output_type": "execute_result"
    }
   ],
   "source": [
    "# Predict the model using the X_test\n",
    "# Calculated the balanced accuracy score\n",
    "y_pred = suicides_model.predict(X_test)\n",
    "balanced_accuracy_score(y_test, y_pred)"
   ]
  },
  {
   "cell_type": "code",
   "execution_count": 42,
   "id": "70336ebd",
   "metadata": {},
   "outputs": [
    {
     "data": {
      "text/plain": [
       "array([[24,  6],\n",
       "       [13, 17]])"
      ]
     },
     "execution_count": 42,
     "metadata": {},
     "output_type": "execute_result"
    }
   ],
   "source": [
    "# Display the confusion matrix\n",
    "confusion_matrix(y_test, y_pred)"
   ]
  },
  {
   "cell_type": "code",
   "execution_count": 43,
   "id": "b1b2eab2",
   "metadata": {},
   "outputs": [
    {
     "name": "stdout",
     "output_type": "stream",
     "text": [
      "                      pre       rec       spe        f1       geo       iba       sup\n",
      "\n",
      "United Kingdom       0.65      0.80      0.57      0.72      0.67      0.46        30\n",
      " United States       0.74      0.57      0.80      0.64      0.67      0.44        30\n",
      "\n",
      "   avg / total       0.69      0.68      0.68      0.68      0.67      0.45        60\n",
      "\n"
     ]
    }
   ],
   "source": [
    "# Print the imbalanced classification report\n",
    "print(classification_report_imbalanced(y_test, y_pred))"
   ]
  },
  {
   "cell_type": "markdown",
   "id": "01b16195",
   "metadata": {},
   "source": [
    "# Comparison of Suicide Rates between 1st and 3rd world countries"
   ]
  },
  {
   "cell_type": "code",
   "execution_count": 44,
   "id": "22cb4fda",
   "metadata": {},
   "outputs": [
    {
     "data": {
      "text/html": [
       "<div>\n",
       "<style scoped>\n",
       "    .dataframe tbody tr th:only-of-type {\n",
       "        vertical-align: middle;\n",
       "    }\n",
       "\n",
       "    .dataframe tbody tr th {\n",
       "        vertical-align: top;\n",
       "    }\n",
       "\n",
       "    .dataframe thead th {\n",
       "        text-align: right;\n",
       "    }\n",
       "</style>\n",
       "<table border=\"1\" class=\"dataframe\">\n",
       "  <thead>\n",
       "    <tr style=\"text-align: right;\">\n",
       "      <th></th>\n",
       "      <th>country</th>\n",
       "      <th>year</th>\n",
       "      <th>sex</th>\n",
       "      <th>age</th>\n",
       "      <th>suicides_no</th>\n",
       "      <th>population</th>\n",
       "      <th>suicides/100k pop</th>\n",
       "      <th>country-year</th>\n",
       "      <th>HDI for year</th>\n",
       "      <th>gdp_for_year ($)</th>\n",
       "      <th>gdp_per_capita ($)</th>\n",
       "      <th>generation</th>\n",
       "    </tr>\n",
       "  </thead>\n",
       "  <tbody>\n",
       "    <tr>\n",
       "      <th>4044</th>\n",
       "      <td>Jamaica</td>\n",
       "      <td>1985</td>\n",
       "      <td>male</td>\n",
       "      <td>75+ years</td>\n",
       "      <td>1</td>\n",
       "      <td>29000</td>\n",
       "      <td>3.45</td>\n",
       "      <td>Jamaica1985</td>\n",
       "      <td>0.650</td>\n",
       "      <td>2,100,223,150</td>\n",
       "      <td>1032</td>\n",
       "      <td>G.I. Generation</td>\n",
       "    </tr>\n",
       "    <tr>\n",
       "      <th>4045</th>\n",
       "      <td>Jamaica</td>\n",
       "      <td>1985</td>\n",
       "      <td>female</td>\n",
       "      <td>75+ years</td>\n",
       "      <td>1</td>\n",
       "      <td>38000</td>\n",
       "      <td>2.63</td>\n",
       "      <td>Jamaica1985</td>\n",
       "      <td>0.650</td>\n",
       "      <td>2,100,223,150</td>\n",
       "      <td>1032</td>\n",
       "      <td>G.I. Generation</td>\n",
       "    </tr>\n",
       "    <tr>\n",
       "      <th>4046</th>\n",
       "      <td>Jamaica</td>\n",
       "      <td>1985</td>\n",
       "      <td>male</td>\n",
       "      <td>15-24 years</td>\n",
       "      <td>3</td>\n",
       "      <td>259000</td>\n",
       "      <td>1.16</td>\n",
       "      <td>Jamaica1985</td>\n",
       "      <td>0.650</td>\n",
       "      <td>2,100,223,150</td>\n",
       "      <td>1032</td>\n",
       "      <td>Generation X</td>\n",
       "    </tr>\n",
       "    <tr>\n",
       "      <th>4047</th>\n",
       "      <td>Jamaica</td>\n",
       "      <td>1985</td>\n",
       "      <td>male</td>\n",
       "      <td>25-34 years</td>\n",
       "      <td>1</td>\n",
       "      <td>156000</td>\n",
       "      <td>0.64</td>\n",
       "      <td>Jamaica1985</td>\n",
       "      <td>0.650</td>\n",
       "      <td>2,100,223,150</td>\n",
       "      <td>1032</td>\n",
       "      <td>Boomers</td>\n",
       "    </tr>\n",
       "    <tr>\n",
       "      <th>4048</th>\n",
       "      <td>Jamaica</td>\n",
       "      <td>1985</td>\n",
       "      <td>male</td>\n",
       "      <td>35-54 years</td>\n",
       "      <td>1</td>\n",
       "      <td>169000</td>\n",
       "      <td>0.59</td>\n",
       "      <td>Jamaica1985</td>\n",
       "      <td>0.650</td>\n",
       "      <td>2,100,223,150</td>\n",
       "      <td>1032</td>\n",
       "      <td>Silent</td>\n",
       "    </tr>\n",
       "    <tr>\n",
       "      <th>...</th>\n",
       "      <td>...</td>\n",
       "      <td>...</td>\n",
       "      <td>...</td>\n",
       "      <td>...</td>\n",
       "      <td>...</td>\n",
       "      <td>...</td>\n",
       "      <td>...</td>\n",
       "      <td>...</td>\n",
       "      <td>...</td>\n",
       "      <td>...</td>\n",
       "      <td>...</td>\n",
       "      <td>...</td>\n",
       "    </tr>\n",
       "    <tr>\n",
       "      <th>8167</th>\n",
       "      <td>United States</td>\n",
       "      <td>2014</td>\n",
       "      <td>female</td>\n",
       "      <td>25-34 years</td>\n",
       "      <td>1347</td>\n",
       "      <td>21250636</td>\n",
       "      <td>6.34</td>\n",
       "      <td>United States2014</td>\n",
       "      <td>0.915</td>\n",
       "      <td>17,427,609,000,000</td>\n",
       "      <td>58531</td>\n",
       "      <td>Millenials</td>\n",
       "    </tr>\n",
       "    <tr>\n",
       "      <th>8168</th>\n",
       "      <td>United States</td>\n",
       "      <td>2014</td>\n",
       "      <td>female</td>\n",
       "      <td>15-24 years</td>\n",
       "      <td>990</td>\n",
       "      <td>21691057</td>\n",
       "      <td>4.56</td>\n",
       "      <td>United States2014</td>\n",
       "      <td>0.915</td>\n",
       "      <td>17,427,609,000,000</td>\n",
       "      <td>58531</td>\n",
       "      <td>Millenials</td>\n",
       "    </tr>\n",
       "    <tr>\n",
       "      <th>8169</th>\n",
       "      <td>United States</td>\n",
       "      <td>2014</td>\n",
       "      <td>female</td>\n",
       "      <td>75+ years</td>\n",
       "      <td>477</td>\n",
       "      <td>11616299</td>\n",
       "      <td>4.11</td>\n",
       "      <td>United States2014</td>\n",
       "      <td>0.915</td>\n",
       "      <td>17,427,609,000,000</td>\n",
       "      <td>58531</td>\n",
       "      <td>Silent</td>\n",
       "    </tr>\n",
       "    <tr>\n",
       "      <th>8170</th>\n",
       "      <td>United States</td>\n",
       "      <td>2014</td>\n",
       "      <td>male</td>\n",
       "      <td>5-14 years</td>\n",
       "      <td>277</td>\n",
       "      <td>21264881</td>\n",
       "      <td>1.30</td>\n",
       "      <td>United States2014</td>\n",
       "      <td>0.915</td>\n",
       "      <td>17,427,609,000,000</td>\n",
       "      <td>58531</td>\n",
       "      <td>Generation Z</td>\n",
       "    </tr>\n",
       "    <tr>\n",
       "      <th>8171</th>\n",
       "      <td>United States</td>\n",
       "      <td>2014</td>\n",
       "      <td>female</td>\n",
       "      <td>5-14 years</td>\n",
       "      <td>151</td>\n",
       "      <td>20336916</td>\n",
       "      <td>0.74</td>\n",
       "      <td>United States2014</td>\n",
       "      <td>0.915</td>\n",
       "      <td>17,427,609,000,000</td>\n",
       "      <td>58531</td>\n",
       "      <td>Generation Z</td>\n",
       "    </tr>\n",
       "  </tbody>\n",
       "</table>\n",
       "<p>192 rows × 12 columns</p>\n",
       "</div>"
      ],
      "text/plain": [
       "            country  year     sex          age  suicides_no  population  \\\n",
       "4044        Jamaica  1985    male    75+ years            1       29000   \n",
       "4045        Jamaica  1985  female    75+ years            1       38000   \n",
       "4046        Jamaica  1985    male  15-24 years            3      259000   \n",
       "4047        Jamaica  1985    male  25-34 years            1      156000   \n",
       "4048        Jamaica  1985    male  35-54 years            1      169000   \n",
       "...             ...   ...     ...          ...          ...         ...   \n",
       "8167  United States  2014  female  25-34 years         1347    21250636   \n",
       "8168  United States  2014  female  15-24 years          990    21691057   \n",
       "8169  United States  2014  female    75+ years          477    11616299   \n",
       "8170  United States  2014    male   5-14 years          277    21264881   \n",
       "8171  United States  2014  female   5-14 years          151    20336916   \n",
       "\n",
       "      suicides/100k pop       country-year  HDI for year   gdp_for_year ($)   \\\n",
       "4044               3.45        Jamaica1985         0.650       2,100,223,150   \n",
       "4045               2.63        Jamaica1985         0.650       2,100,223,150   \n",
       "4046               1.16        Jamaica1985         0.650       2,100,223,150   \n",
       "4047               0.64        Jamaica1985         0.650       2,100,223,150   \n",
       "4048               0.59        Jamaica1985         0.650       2,100,223,150   \n",
       "...                 ...                ...           ...                 ...   \n",
       "8167               6.34  United States2014         0.915  17,427,609,000,000   \n",
       "8168               4.56  United States2014         0.915  17,427,609,000,000   \n",
       "8169               4.11  United States2014         0.915  17,427,609,000,000   \n",
       "8170               1.30  United States2014         0.915  17,427,609,000,000   \n",
       "8171               0.74  United States2014         0.915  17,427,609,000,000   \n",
       "\n",
       "      gdp_per_capita ($)       generation  \n",
       "4044                1032  G.I. Generation  \n",
       "4045                1032  G.I. Generation  \n",
       "4046                1032     Generation X  \n",
       "4047                1032          Boomers  \n",
       "4048                1032           Silent  \n",
       "...                  ...              ...  \n",
       "8167               58531       Millenials  \n",
       "8168               58531       Millenials  \n",
       "8169               58531           Silent  \n",
       "8170               58531     Generation Z  \n",
       "8171               58531     Generation Z  \n",
       "\n",
       "[192 rows x 12 columns]"
      ]
     },
     "execution_count": 44,
     "metadata": {},
     "output_type": "execute_result"
    }
   ],
   "source": [
    "# Week 2: Selecting and filtering the original DataFrame to create a new DataFrame \n",
    "# showing the a pair of third world countries (United States & Jamaica)\n",
    "# This time we are looking for a trend between first and third world countries\n",
    "third_world_df = df[(df['country'] =='United States') | (df['country'] == 'Jamaica')]\n",
    "third_world_df"
   ]
  },
  {
   "cell_type": "code",
   "execution_count": 45,
   "id": "2b4be54b",
   "metadata": {},
   "outputs": [],
   "source": [
    "# Week 2: Create X and y from the filtered df (US & Jamaica)\n",
    "# We are checking for a similar comparison but with a first world and a third wor\n",
    "X = third_world_df[[\"suicides_no\"]]\n",
    "\n",
    "# Create our target\n",
    "y = third_world_df[\"sex\"]"
   ]
  },
  {
   "cell_type": "code",
   "execution_count": 46,
   "id": "b6d1a43c",
   "metadata": {},
   "outputs": [
    {
     "data": {
      "text/plain": [
       "(144, 1)"
      ]
     },
     "execution_count": 46,
     "metadata": {},
     "output_type": "execute_result"
    }
   ],
   "source": [
    "# Week 2: We import train, test, split\n",
    "# random_state ad stritify are kepy the same to ensure equal rows are set to be trained and tested. \n",
    "X_train, X_test, y_train, y_test = train_test_split(X, y, random_state=1, stratify=y)\n",
    "X_train.shape"
   ]
  },
  {
   "cell_type": "markdown",
   "id": "c9448876",
   "metadata": {},
   "source": [
    "# Using RandomOverSampler (1st & 3rd World Countries)"
   ]
  },
  {
   "cell_type": "code",
   "execution_count": 47,
   "id": "bb6dbd67",
   "metadata": {},
   "outputs": [
    {
     "data": {
      "text/plain": [
       "Counter({'male': 72, 'female': 72})"
      ]
     },
     "execution_count": 47,
     "metadata": {},
     "output_type": "execute_result"
    }
   ],
   "source": [
    "# Using RandomOverSampler for updated DataFrame (US & Jamaica)\n",
    "from imblearn.over_sampling import RandomOverSampler\n",
    "ros_suicides = RandomOverSampler(random_state=1)\n",
    "X_resampled, y_resampled = ros_suicides.fit_resample(X_train, y_train)\n",
    "Counter(y_resampled)"
   ]
  },
  {
   "cell_type": "code",
   "execution_count": 48,
   "id": "92b204b3",
   "metadata": {},
   "outputs": [
    {
     "data": {
      "text/plain": [
       "LogisticRegression(random_state=1)"
      ]
     },
     "execution_count": 48,
     "metadata": {},
     "output_type": "execute_result"
    }
   ],
   "source": [
    "# Using the LogisticRegression method and fitting the data\n",
    "suicides_model = LogisticRegression(solver='lbfgs', random_state=1)\n",
    "suicides_model.fit(X_resampled, y_resampled)"
   ]
  },
  {
   "cell_type": "code",
   "execution_count": 49,
   "id": "4ae28650",
   "metadata": {},
   "outputs": [
    {
     "data": {
      "text/plain": [
       "0.7291666666666666"
      ]
     },
     "execution_count": 49,
     "metadata": {},
     "output_type": "execute_result"
    }
   ],
   "source": [
    "# Use the predict function and calculated the balanced accuracy score\n",
    "y_pred = suicides_model.predict(X_test)\n",
    "balanced_accuracy_score(y_test, y_pred)"
   ]
  },
  {
   "cell_type": "code",
   "execution_count": 50,
   "id": "0a5921dc",
   "metadata": {},
   "outputs": [
    {
     "data": {
      "text/plain": [
       "array([[22,  2],\n",
       "       [11, 13]])"
      ]
     },
     "execution_count": 50,
     "metadata": {},
     "output_type": "execute_result"
    }
   ],
   "source": [
    "# Display the confusion matrix\n",
    "confusion_matrix(y_test, y_pred)"
   ]
  },
  {
   "cell_type": "code",
   "execution_count": 51,
   "id": "3ab2307e",
   "metadata": {},
   "outputs": [
    {
     "name": "stdout",
     "output_type": "stream",
     "text": [
      "                   pre       rec       spe        f1       geo       iba       sup\n",
      "\n",
      "     female       0.67      0.92      0.54      0.77      0.70      0.52        24\n",
      "       male       0.87      0.54      0.92      0.67      0.70      0.48        24\n",
      "\n",
      "avg / total       0.77      0.73      0.73      0.72      0.70      0.50        48\n",
      "\n"
     ]
    }
   ],
   "source": [
    "# Print the imbalanced classification report\n",
    "print(classification_report_imbalanced(y_test, y_pred))"
   ]
  },
  {
   "cell_type": "markdown",
   "id": "f6e9ef34",
   "metadata": {},
   "source": [
    "# Using Balanced RandomForestClassifier (1st and 3rd World Countries)"
   ]
  },
  {
   "cell_type": "code",
   "execution_count": 52,
   "id": "7f6c9e64",
   "metadata": {},
   "outputs": [
    {
     "data": {
      "text/plain": [
       "BalancedRandomForestClassifier(random_state=1)"
      ]
     },
     "execution_count": 52,
     "metadata": {},
     "output_type": "execute_result"
    }
   ],
   "source": [
    "# Resample the training data with the BalancedRandomForestClassifier (US & Jamaica)\n",
    "from imblearn.ensemble import BalancedRandomForestClassifier\n",
    "suicides_model = BalancedRandomForestClassifier(n_estimators = 100, random_state=1)\n",
    "suicides_model"
   ]
  },
  {
   "cell_type": "code",
   "execution_count": 53,
   "id": "f7e12847",
   "metadata": {},
   "outputs": [],
   "source": [
    "# Fit the model\n",
    "suicides_model = suicides_model.fit(X_train, y_train)"
   ]
  },
  {
   "cell_type": "code",
   "execution_count": 54,
   "id": "40e458f4",
   "metadata": {},
   "outputs": [
    {
     "data": {
      "text/plain": [
       "0.8541666666666667"
      ]
     },
     "execution_count": 54,
     "metadata": {},
     "output_type": "execute_result"
    }
   ],
   "source": [
    "# We predict based on X_test and then calculate the balanced accuracy score\n",
    "y_pred = suicides_model.predict(X_test)\n",
    "balanced_accuracy_score(y_test, y_pred)"
   ]
  },
  {
   "cell_type": "code",
   "execution_count": 55,
   "id": "1725d176",
   "metadata": {},
   "outputs": [
    {
     "data": {
      "text/plain": [
       "array([[21,  3],\n",
       "       [ 4, 20]])"
      ]
     },
     "execution_count": 55,
     "metadata": {},
     "output_type": "execute_result"
    }
   ],
   "source": [
    "# Displayed the confusion matrix\n",
    "confusion_matrix(y_test, y_pred)"
   ]
  },
  {
   "cell_type": "code",
   "execution_count": 56,
   "id": "2d70103a",
   "metadata": {},
   "outputs": [
    {
     "name": "stdout",
     "output_type": "stream",
     "text": [
      "                   pre       rec       spe        f1       geo       iba       sup\n",
      "\n",
      "     female       0.84      0.88      0.83      0.86      0.85      0.73        24\n",
      "       male       0.87      0.83      0.88      0.85      0.85      0.73        24\n",
      "\n",
      "avg / total       0.85      0.85      0.85      0.85      0.85      0.73        48\n",
      "\n"
     ]
    }
   ],
   "source": [
    "# Printed the imbalanced classification report\n",
    "print(classification_report_imbalanced(y_test, y_pred))"
   ]
  },
  {
   "cell_type": "markdown",
   "id": "b3927319",
   "metadata": {},
   "source": [
    "# Using SMOTEEN (1st & 3rd World Countries)"
   ]
  },
  {
   "cell_type": "code",
   "execution_count": 57,
   "id": "2f832c78",
   "metadata": {},
   "outputs": [],
   "source": [
    "# Using SMOTEEN for the new DataFrame (US & Jamaica)\n",
    "smote_eenn = SMOTEENN(random_state=0)\n",
    "X_resampled, y_resampled = smote_eenn.fit_resample(X, y)"
   ]
  },
  {
   "cell_type": "code",
   "execution_count": 58,
   "id": "65dfb719",
   "metadata": {},
   "outputs": [
    {
     "data": {
      "text/plain": [
       "LogisticRegression(random_state=1)"
      ]
     },
     "execution_count": 58,
     "metadata": {},
     "output_type": "execute_result"
    }
   ],
   "source": [
    "# Like before, we use LogisticRegression and then fit the model\n",
    "suicides_model = LogisticRegression(solver='lbfgs', random_state=1)\n",
    "suicides_model.fit(X_resampled, y_resampled)"
   ]
  },
  {
   "cell_type": "code",
   "execution_count": 59,
   "id": "376629fd",
   "metadata": {},
   "outputs": [
    {
     "data": {
      "text/plain": [
       "0.7291666666666666"
      ]
     },
     "execution_count": 59,
     "metadata": {},
     "output_type": "execute_result"
    }
   ],
   "source": [
    "# We make predictions and then check the accuracy score\n",
    "y_pred = suicides_model.predict(X_test)\n",
    "balanced_accuracy_score(y_test, y_pred)"
   ]
  },
  {
   "cell_type": "code",
   "execution_count": 60,
   "id": "a5046629",
   "metadata": {},
   "outputs": [
    {
     "data": {
      "text/plain": [
       "array([[22,  2],\n",
       "       [11, 13]])"
      ]
     },
     "execution_count": 60,
     "metadata": {},
     "output_type": "execute_result"
    }
   ],
   "source": [
    "# Display the confusion matrix\n",
    "confusion_matrix(y_test, y_pred)"
   ]
  },
  {
   "cell_type": "code",
   "execution_count": 61,
   "id": "d4dbd870",
   "metadata": {},
   "outputs": [
    {
     "name": "stdout",
     "output_type": "stream",
     "text": [
      "                   pre       rec       spe        f1       geo       iba       sup\n",
      "\n",
      "     female       0.67      0.92      0.54      0.77      0.70      0.52        24\n",
      "       male       0.87      0.54      0.92      0.67      0.70      0.48        24\n",
      "\n",
      "avg / total       0.77      0.73      0.73      0.72      0.70      0.50        48\n",
      "\n"
     ]
    }
   ],
   "source": [
    "# Print the imbalanced classification report\n",
    "print(classification_report_imbalanced(y_test, y_pred))"
   ]
  },
  {
   "cell_type": "markdown",
   "id": "2d846e81",
   "metadata": {},
   "source": [
    "# Suicide Rates vs 1st and 3rd World Countries "
   ]
  },
  {
   "cell_type": "code",
   "execution_count": 62,
   "id": "f9326b71",
   "metadata": {},
   "outputs": [],
   "source": [
    "# Week 2: Create X and y from the filtered df (US & Jamaica)\n",
    "# We are checking for a comparison but with a first world and a third world country\n",
    "# What will be different this time, is that we will look at the suicides per 100k population\n",
    "# because we want the machine to predict which country can be more prone to suicide within\n",
    "# a \"smaller\" population.\n",
    "X = third_world_df[[\"suicides/100k pop\"]]\n",
    "\n",
    "# Create our target\n",
    "y = third_world_df[\"country\"]"
   ]
  },
  {
   "cell_type": "code",
   "execution_count": 63,
   "id": "47e232fc",
   "metadata": {},
   "outputs": [
    {
     "data": {
      "text/plain": [
       "(144, 1)"
      ]
     },
     "execution_count": 63,
     "metadata": {},
     "output_type": "execute_result"
    }
   ],
   "source": [
    "# Week 2: We import train, test, split\n",
    "# random_state ad stritify are kepy the same to ensure equal rows are set to be trained and tested. \n",
    "X_train, X_test, y_train, y_test = train_test_split(X, y, random_state=1, stratify=y)\n",
    "X_train.shape"
   ]
  },
  {
   "cell_type": "markdown",
   "id": "fe10923a",
   "metadata": {},
   "source": [
    "# Using RandomOversampler (US & Jamaica)"
   ]
  },
  {
   "cell_type": "code",
   "execution_count": 64,
   "id": "c7307ea6",
   "metadata": {},
   "outputs": [
    {
     "data": {
      "text/plain": [
       "Counter({'United States': 90, 'Jamaica': 90})"
      ]
     },
     "execution_count": 64,
     "metadata": {},
     "output_type": "execute_result"
    }
   ],
   "source": [
    "# Using RandomOverSampler for updated DataFrame (US & Jamaica)\n",
    "from imblearn.over_sampling import RandomOverSampler\n",
    "ros_suicides = RandomOverSampler(random_state=1)\n",
    "X_resampled, y_resampled = ros_suicides.fit_resample(X_train, y_train)\n",
    "Counter(y_resampled)"
   ]
  },
  {
   "cell_type": "code",
   "execution_count": 65,
   "id": "4e7494e3",
   "metadata": {},
   "outputs": [
    {
     "data": {
      "text/plain": [
       "LogisticRegression(random_state=1)"
      ]
     },
     "execution_count": 65,
     "metadata": {},
     "output_type": "execute_result"
    }
   ],
   "source": [
    "# Using the LogisticRegression method and fitting the data\n",
    "suicides_model = LogisticRegression(solver='lbfgs', random_state=1)\n",
    "suicides_model.fit(X_resampled, y_resampled)"
   ]
  },
  {
   "cell_type": "code",
   "execution_count": 66,
   "id": "06788a78",
   "metadata": {},
   "outputs": [
    {
     "data": {
      "text/plain": [
       "0.8277777777777777"
      ]
     },
     "execution_count": 66,
     "metadata": {},
     "output_type": "execute_result"
    }
   ],
   "source": [
    "# Use the predict function and calculated the balanced accuracy score\n",
    "y_pred = suicides_model.predict(X_test)\n",
    "balanced_accuracy_score(y_test, y_pred)"
   ]
  },
  {
   "cell_type": "code",
   "execution_count": 67,
   "id": "0e3b8493",
   "metadata": {},
   "outputs": [
    {
     "data": {
      "text/plain": [
       "array([[16,  2],\n",
       "       [ 7, 23]])"
      ]
     },
     "execution_count": 67,
     "metadata": {},
     "output_type": "execute_result"
    }
   ],
   "source": [
    "# Display the confusion matrix\n",
    "confusion_matrix(y_test, y_pred)"
   ]
  },
  {
   "cell_type": "code",
   "execution_count": 68,
   "id": "acdc2edd",
   "metadata": {},
   "outputs": [
    {
     "name": "stdout",
     "output_type": "stream",
     "text": [
      "                     pre       rec       spe        f1       geo       iba       sup\n",
      "\n",
      "      Jamaica       0.70      0.89      0.77      0.78      0.83      0.69        18\n",
      "United States       0.92      0.77      0.89      0.84      0.83      0.67        30\n",
      "\n",
      "  avg / total       0.84      0.81      0.84      0.82      0.83      0.68        48\n",
      "\n"
     ]
    }
   ],
   "source": [
    "# Print the imbalanced classification report\n",
    "print(classification_report_imbalanced(y_test, y_pred))"
   ]
  },
  {
   "cell_type": "markdown",
   "id": "c4101234",
   "metadata": {},
   "source": [
    "# Using BalancedRandomForestClassifier    (US & Jamaica)"
   ]
  },
  {
   "cell_type": "code",
   "execution_count": 69,
   "id": "feb889a8",
   "metadata": {},
   "outputs": [
    {
     "data": {
      "text/plain": [
       "BalancedRandomForestClassifier(random_state=1)"
      ]
     },
     "execution_count": 69,
     "metadata": {},
     "output_type": "execute_result"
    }
   ],
   "source": [
    "# Resample the training data with the BalancedRandomForestClassifier (US & Jamaica)\n",
    "from imblearn.ensemble import BalancedRandomForestClassifier\n",
    "suicides_model = BalancedRandomForestClassifier(n_estimators = 100, random_state=1)\n",
    "suicides_model"
   ]
  },
  {
   "cell_type": "code",
   "execution_count": 70,
   "id": "3b59b609",
   "metadata": {},
   "outputs": [],
   "source": [
    "# Fit the model\n",
    "suicides_model = suicides_model.fit(X_train, y_train)"
   ]
  },
  {
   "cell_type": "code",
   "execution_count": 71,
   "id": "7bf568e2",
   "metadata": {},
   "outputs": [
    {
     "data": {
      "text/plain": [
       "0.8444444444444444"
      ]
     },
     "execution_count": 71,
     "metadata": {},
     "output_type": "execute_result"
    }
   ],
   "source": [
    "# We predict based on X_test and then calculate the balanced accuracy score\n",
    "y_pred = suicides_model.predict(X_test)\n",
    "balanced_accuracy_score(y_test, y_pred)"
   ]
  },
  {
   "cell_type": "code",
   "execution_count": 72,
   "id": "142eac97",
   "metadata": {},
   "outputs": [
    {
     "data": {
      "text/plain": [
       "array([[16,  2],\n",
       "       [ 6, 24]])"
      ]
     },
     "execution_count": 72,
     "metadata": {},
     "output_type": "execute_result"
    }
   ],
   "source": [
    "# Display the confusion matrix\n",
    "confusion_matrix(y_test, y_pred)"
   ]
  },
  {
   "cell_type": "code",
   "execution_count": 73,
   "id": "8439952a",
   "metadata": {},
   "outputs": [
    {
     "name": "stdout",
     "output_type": "stream",
     "text": [
      "                     pre       rec       spe        f1       geo       iba       sup\n",
      "\n",
      "      Jamaica       0.73      0.89      0.80      0.80      0.84      0.72        18\n",
      "United States       0.92      0.80      0.89      0.86      0.84      0.70        30\n",
      "\n",
      "  avg / total       0.85      0.83      0.86      0.84      0.84      0.71        48\n",
      "\n"
     ]
    }
   ],
   "source": [
    "# Print the imbalanced classification report\n",
    "print(classification_report_imbalanced(y_test, y_pred))"
   ]
  },
  {
   "cell_type": "markdown",
   "id": "047c445c",
   "metadata": {},
   "source": [
    "# Using SMOTEEN (US & Jamaica)"
   ]
  },
  {
   "cell_type": "code",
   "execution_count": 74,
   "id": "00ec4446",
   "metadata": {},
   "outputs": [],
   "source": [
    "# Using SMOTEEN for the new DataFrame (US & Jamaica)\n",
    "smote_eenn = SMOTEENN(random_state=0)\n",
    "X_resampled, y_resampled = smote_eenn.fit_resample(X, y)"
   ]
  },
  {
   "cell_type": "code",
   "execution_count": 75,
   "id": "f7fb7d7d",
   "metadata": {},
   "outputs": [
    {
     "data": {
      "text/plain": [
       "LogisticRegression(random_state=1)"
      ]
     },
     "execution_count": 75,
     "metadata": {},
     "output_type": "execute_result"
    }
   ],
   "source": [
    "# Like before, we use LogisticRegression and then fit the model\n",
    "suicides_model = LogisticRegression(solver='lbfgs', random_state=1)\n",
    "suicides_model.fit(X_resampled, y_resampled)"
   ]
  },
  {
   "cell_type": "code",
   "execution_count": 76,
   "id": "a80aa179",
   "metadata": {},
   "outputs": [
    {
     "data": {
      "text/plain": [
       "0.8"
      ]
     },
     "execution_count": 76,
     "metadata": {},
     "output_type": "execute_result"
    }
   ],
   "source": [
    "# We make predictions and then check the accuracy score\n",
    "y_pred = suicides_model.predict(X_test)\n",
    "balanced_accuracy_score(y_test, y_pred)"
   ]
  },
  {
   "cell_type": "code",
   "execution_count": 77,
   "id": "877ba93c",
   "metadata": {},
   "outputs": [
    {
     "data": {
      "text/plain": [
       "array([[15,  3],\n",
       "       [ 7, 23]])"
      ]
     },
     "execution_count": 77,
     "metadata": {},
     "output_type": "execute_result"
    }
   ],
   "source": [
    "# Display the confusion matrix\n",
    "confusion_matrix(y_test, y_pred)"
   ]
  },
  {
   "cell_type": "code",
   "execution_count": 78,
   "id": "f77f2a21",
   "metadata": {},
   "outputs": [
    {
     "name": "stdout",
     "output_type": "stream",
     "text": [
      "                     pre       rec       spe        f1       geo       iba       sup\n",
      "\n",
      "      Jamaica       0.68      0.83      0.77      0.75      0.80      0.64        18\n",
      "United States       0.88      0.77      0.83      0.82      0.80      0.63        30\n",
      "\n",
      "  avg / total       0.81      0.79      0.81      0.79      0.80      0.64        48\n",
      "\n"
     ]
    }
   ],
   "source": [
    "# Print the imbalanced classification report\n",
    "print(classification_report_imbalanced(y_test, y_pred))"
   ]
  },
  {
   "cell_type": "markdown",
   "id": "06191f39",
   "metadata": {},
   "source": [
    "# \"Bloopers\" (Code with unusual accuracy)"
   ]
  },
  {
   "cell_type": "code",
   "execution_count": 79,
   "id": "f472a147",
   "metadata": {},
   "outputs": [],
   "source": [
    "# Despite the following code having low accuracy, \n",
    "# we believe it is important to understand \n",
    "# why some scores can be very low (or even very high) \n",
    "# so we can edit and make our code better."
   ]
  },
  {
   "cell_type": "markdown",
   "id": "727ea027",
   "metadata": {},
   "source": [
    "# Code with a low accuracy"
   ]
  },
  {
   "cell_type": "code",
   "execution_count": 80,
   "id": "6f7c6665",
   "metadata": {},
   "outputs": [],
   "source": [
    "# Here we are creating a new comparison between a first and third world country \n",
    "# regarding suicide numbers\n",
    "X = df[[\"suicides_no\"]]\n",
    "\n",
    "y = df[\"sex\"]"
   ]
  },
  {
   "cell_type": "code",
   "execution_count": 81,
   "id": "8ea5215a",
   "metadata": {},
   "outputs": [
    {
     "data": {
      "text/plain": [
       "(6273, 1)"
      ]
     },
     "execution_count": 81,
     "metadata": {},
     "output_type": "execute_result"
    }
   ],
   "source": [
    "# Import train, test, split for Preprocess like before\n",
    "X_train, X_test, y_train, y_test = train_test_split(X, y, random_state=1, stratify=y)\n",
    "X_train.shape"
   ]
  },
  {
   "cell_type": "code",
   "execution_count": 82,
   "id": "b738436a",
   "metadata": {},
   "outputs": [],
   "source": [
    "# Using SMOTEEN for the new DataFrame (US & Jamaica)\n",
    "smote_eenn = SMOTEENN(random_state=0)\n",
    "X_resampled, y_resampled = smote_eenn.fit_resample(X, y)"
   ]
  },
  {
   "cell_type": "code",
   "execution_count": 83,
   "id": "8c0d3105",
   "metadata": {},
   "outputs": [
    {
     "data": {
      "text/plain": [
       "LogisticRegression(random_state=1)"
      ]
     },
     "execution_count": 83,
     "metadata": {},
     "output_type": "execute_result"
    }
   ],
   "source": [
    "# Like before, we use LogisticRegression and then fit the model\n",
    "suicides_model = LogisticRegression(solver='lbfgs', random_state=1)\n",
    "suicides_model.fit(X_resampled, y_resampled)"
   ]
  },
  {
   "cell_type": "code",
   "execution_count": 84,
   "id": "f3ea1dfa",
   "metadata": {},
   "outputs": [
    {
     "data": {
      "text/plain": [
       "0.5921807386535172"
      ]
     },
     "execution_count": 84,
     "metadata": {},
     "output_type": "execute_result"
    }
   ],
   "source": [
    "# We make predictions and then check the accuracy score\n",
    "y_pred = suicides_model.predict(X_test)\n",
    "balanced_accuracy_score(y_test, y_pred)"
   ]
  },
  {
   "cell_type": "code",
   "execution_count": 85,
   "id": "45ae2604",
   "metadata": {},
   "outputs": [
    {
     "data": {
      "text/plain": [
       "array([[880, 165],\n",
       "       [688, 358]])"
      ]
     },
     "execution_count": 85,
     "metadata": {},
     "output_type": "execute_result"
    }
   ],
   "source": [
    "# Display the confusion matrix\n",
    "confusion_matrix(y_test, y_pred)"
   ]
  },
  {
   "cell_type": "code",
   "execution_count": 86,
   "id": "7c53ab89",
   "metadata": {},
   "outputs": [
    {
     "name": "stdout",
     "output_type": "stream",
     "text": [
      "                   pre       rec       spe        f1       geo       iba       sup\n",
      "\n",
      "     female       0.56      0.84      0.34      0.67      0.54      0.30      1045\n",
      "       male       0.68      0.34      0.84      0.46      0.54      0.27      1046\n",
      "\n",
      "avg / total       0.62      0.59      0.59      0.56      0.54      0.29      2091\n",
      "\n"
     ]
    }
   ],
   "source": [
    "# Print the imbalanced classification report\n",
    "print(classification_report_imbalanced(y_test, y_pred))"
   ]
  },
  {
   "cell_type": "code",
   "execution_count": 87,
   "id": "7f071d20",
   "metadata": {},
   "outputs": [],
   "source": [
    "# Looking at the results above we can see that the score achieved is very low (almost 60%) and this is because the \n",
    "# model is making predictions that come from too many factors which can skew the predictions to be more incorrect.\n",
    "# We believe this can be from other columns in the dataset making interfering with the predictions. \n",
    "# These other factors can make the model think an individual is one gender (for example, predicting someone  \n",
    "# is female) and the model ends up being incorrect (when it is actually male). When looking at the confusion \n",
    "# matrix, we can see that the majority of incorrect predictions were False Positives (with a minority of False\n",
    "# Negatives) which means the model incorrectly categorized an individual with the wrong gender.\n"
   ]
  },
  {
   "cell_type": "markdown",
   "id": "ccb91e42",
   "metadata": {},
   "source": [
    "# Code with high accuracy"
   ]
  },
  {
   "cell_type": "code",
   "execution_count": 88,
   "id": "9c1dcad8",
   "metadata": {},
   "outputs": [],
   "source": [
    "# Comparison between US & Jamaica between suicide rates\n",
    "X = third_world_df[[\"suicides_no\"]]\n",
    "\n",
    "# Create our target\n",
    "y = third_world_df[\"country\"]"
   ]
  },
  {
   "cell_type": "code",
   "execution_count": 89,
   "id": "47ee0733",
   "metadata": {},
   "outputs": [
    {
     "data": {
      "text/plain": [
       "(144, 1)"
      ]
     },
     "execution_count": 89,
     "metadata": {},
     "output_type": "execute_result"
    }
   ],
   "source": [
    "# Import train, test, split like before\n",
    "from sklearn.model_selection import train_test_split\n",
    "X_train, X_test, y_train, y_test = train_test_split(X, y, random_state=1, stratify=y)\n",
    "X_train.shape"
   ]
  },
  {
   "cell_type": "code",
   "execution_count": 90,
   "id": "c3b9358a",
   "metadata": {},
   "outputs": [
    {
     "data": {
      "text/plain": [
       "Counter({'United States': 90, 'Jamaica': 90})"
      ]
     },
     "execution_count": 90,
     "metadata": {},
     "output_type": "execute_result"
    }
   ],
   "source": [
    "# In this Blooper we will use RandomOverSampler\n",
    "from imblearn.over_sampling import RandomOverSampler\n",
    "from sklearn.linear_model import LogisticRegression\n",
    "ros_suicides = RandomOverSampler(random_state=1)\n",
    "X_resampled, y_resampled = ros_suicides.fit_resample(X_train, y_train)\n",
    "Counter(y_resampled)"
   ]
  },
  {
   "cell_type": "code",
   "execution_count": 91,
   "id": "58216e06",
   "metadata": {},
   "outputs": [
    {
     "data": {
      "text/plain": [
       "LogisticRegression(random_state=1)"
      ]
     },
     "execution_count": 91,
     "metadata": {},
     "output_type": "execute_result"
    }
   ],
   "source": [
    "# Fit the model\n",
    "suicides_model = LogisticRegression(solver='lbfgs', random_state=1)\n",
    "suicides_model.fit(X_resampled, y_resampled)"
   ]
  },
  {
   "cell_type": "code",
   "execution_count": 92,
   "id": "668ff8e6",
   "metadata": {},
   "outputs": [],
   "source": [
    "# Predict based on X_test\n",
    "y_pred = suicides_model.predict(X_test)"
   ]
  },
  {
   "cell_type": "code",
   "execution_count": 93,
   "id": "248ac529",
   "metadata": {},
   "outputs": [
    {
     "data": {
      "text/plain": [
       "1.0"
      ]
     },
     "execution_count": 93,
     "metadata": {},
     "output_type": "execute_result"
    }
   ],
   "source": [
    "# Check balanced accuracy score\n",
    "balanced_accuracy_score(y_test, y_pred)"
   ]
  },
  {
   "cell_type": "code",
   "execution_count": 94,
   "id": "75b17684",
   "metadata": {},
   "outputs": [
    {
     "data": {
      "text/plain": [
       "array([[18,  0],\n",
       "       [ 0, 30]])"
      ]
     },
     "execution_count": 94,
     "metadata": {},
     "output_type": "execute_result"
    }
   ],
   "source": [
    "# Display the confusion matrix\n",
    "confusion_matrix(y_test, y_pred)"
   ]
  },
  {
   "cell_type": "code",
   "execution_count": 95,
   "id": "16923ba6",
   "metadata": {},
   "outputs": [
    {
     "name": "stdout",
     "output_type": "stream",
     "text": [
      "                     pre       rec       spe        f1       geo       iba       sup\n",
      "\n",
      "      Jamaica       1.00      1.00      1.00      1.00      1.00      1.00        18\n",
      "United States       1.00      1.00      1.00      1.00      1.00      1.00        30\n",
      "\n",
      "  avg / total       1.00      1.00      1.00      1.00      1.00      1.00        48\n",
      "\n"
     ]
    }
   ],
   "source": [
    "# Print the imbalanced classification report\n",
    "print(classification_report_imbalanced(y_test, y_pred))"
   ]
  },
  {
   "cell_type": "code",
   "execution_count": 96,
   "id": "8c622752",
   "metadata": {},
   "outputs": [],
   "source": [
    "# For this peice of code, we can see that we got an abnormally high score of 1.0 (100% accuracy). \n",
    "# This score may seem perfect but a score that high is the result of overfitting. Overfitting \n",
    "# happens when the model catching inaccurate values that are in the dataset. These factors reduce efficiency\n",
    "# as well as the accuracy of the model. In this case the score was inflated upwards. This\n",
    "# causes high variance in which the model is trying to learn everything it can This overfitted model treats \n",
    "# the extra \"noise\" in the dataset as values it can incorporate in the prediction."
   ]
  },
  {
   "cell_type": "markdown",
   "id": "6193b2a5",
   "metadata": {},
   "source": [
    "# Benefits and Limitations of a Supervised Learning Model"
   ]
  },
  {
   "cell_type": "code",
   "execution_count": 97,
   "id": "7e6a42de",
   "metadata": {},
   "outputs": [],
   "source": [
    "# Benefits: When using a supervsed learning model, the process of using the algorithms was pretty strightforward. We\n",
    "# can see how the machine works in order to get the data and asnwers we need when it comes to classifying relationships \n",
    "# found in the dataset. Also, a lot of the algorithms used had they same type of flow when it comes to typing out the code which \n",
    "# makes it simple to get things such as the accuracy score as well as an imblaanced classification report.\n",
    "\n",
    "\n",
    "\n",
    "# Limitations: When working with thise code, there were some limitations to the model we used. One of the limitations\n",
    "# is that we are unable to make any sort of predictions for future algorithms with the code itself. This was\n",
    "# mainly because of the dataset itself in which it only goes up to 2016 (and we are currently in 2022). This limiation is also made very obvious when\n",
    "# we have to try our best to make future predictions based on the data from six years ago. Another limitation is that with\n",
    "# supervised learning, we need to use good examples that can provide a good enough relationship or else the accuracy\n",
    "# we get can be very low. This is made especially difficult when the amount of data being used is very large and \n",
    "# there are a lot of unique identifiers that can lower the score on its own. "
   ]
  },
  {
   "cell_type": "code",
   "execution_count": null,
   "id": "22403e55",
   "metadata": {},
   "outputs": [],
   "source": []
  }
 ],
 "metadata": {
  "kernelspec": {
   "display_name": "mlenv",
   "language": "python",
   "name": "mlenv"
  },
  "language_info": {
   "codemirror_mode": {
    "name": "ipython",
    "version": 3
   },
   "file_extension": ".py",
   "mimetype": "text/x-python",
   "name": "python",
   "nbconvert_exporter": "python",
   "pygments_lexer": "ipython3",
   "version": "3.7.13"
  }
 },
 "nbformat": 4,
 "nbformat_minor": 5
}
