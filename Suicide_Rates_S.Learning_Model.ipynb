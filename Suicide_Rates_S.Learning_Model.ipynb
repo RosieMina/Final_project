{
 "cells": [
  {
   "cell_type": "code",
   "execution_count": 1,
   "id": "cdaa7fe3",
   "metadata": {},
   "outputs": [],
   "source": [
    "import warnings\n",
    "warnings.filterwarnings('ignore')"
   ]
  },
  {
   "cell_type": "code",
   "execution_count": 2,
   "id": "056f1556",
   "metadata": {},
   "outputs": [],
   "source": [
    "# Import dependencies \n",
    "import numpy as np\n",
    "import pandas as pd\n",
    "from collections import Counter\n",
    "from sklearn.metrics import balanced_accuracy_score\n",
    "from sklearn.metrics import confusion_matrix\n",
    "from imblearn.metrics import classification_report_imbalanced"
   ]
  },
  {
   "cell_type": "markdown",
   "id": "de41d972",
   "metadata": {},
   "source": [
    "Read in CSV File"
   ]
  },
  {
   "cell_type": "code",
   "execution_count": 3,
   "id": "451fba3b",
   "metadata": {},
   "outputs": [],
   "source": [
    "# Source: https://www.kaggle.com/datasets/russellyates88/suicide-rates-overview-1985-to-2016?resource=download\n",
    "columns = [\n",
    "    \"country\",\"year\",\"sex\",\"age\",\"suicides_no\",\"population\",\"suicides/100k_pop\",\"country_year\",\n",
    "    \"HDI_four_year\",\"gdp_per_capita ($)\",\"generation\"\n",
    "]\n",
    "\n",
    "target = [\"year\"]"
   ]
  },
  {
   "cell_type": "code",
   "execution_count": 4,
   "id": "4ca3b049",
   "metadata": {
    "scrolled": false
   },
   "outputs": [
    {
     "data": {
      "text/html": [
       "<div>\n",
       "<style scoped>\n",
       "    .dataframe tbody tr th:only-of-type {\n",
       "        vertical-align: middle;\n",
       "    }\n",
       "\n",
       "    .dataframe tbody tr th {\n",
       "        vertical-align: top;\n",
       "    }\n",
       "\n",
       "    .dataframe thead th {\n",
       "        text-align: right;\n",
       "    }\n",
       "</style>\n",
       "<table border=\"1\" class=\"dataframe\">\n",
       "  <thead>\n",
       "    <tr style=\"text-align: right;\">\n",
       "      <th></th>\n",
       "      <th>country</th>\n",
       "      <th>year</th>\n",
       "      <th>sex</th>\n",
       "      <th>age</th>\n",
       "      <th>suicides_no</th>\n",
       "      <th>population</th>\n",
       "      <th>suicides/100k pop</th>\n",
       "      <th>country-year</th>\n",
       "      <th>HDI for year</th>\n",
       "      <th>gdp_for_year ($)</th>\n",
       "      <th>gdp_per_capita ($)</th>\n",
       "      <th>generation</th>\n",
       "    </tr>\n",
       "  </thead>\n",
       "  <tbody>\n",
       "    <tr>\n",
       "      <th>0</th>\n",
       "      <td>Albania</td>\n",
       "      <td>1995</td>\n",
       "      <td>male</td>\n",
       "      <td>25-34 years</td>\n",
       "      <td>13</td>\n",
       "      <td>232900</td>\n",
       "      <td>5.58</td>\n",
       "      <td>Albania1995</td>\n",
       "      <td>0.619</td>\n",
       "      <td>2,424,499,009</td>\n",
       "      <td>835</td>\n",
       "      <td>Generation X</td>\n",
       "    </tr>\n",
       "    <tr>\n",
       "      <th>1</th>\n",
       "      <td>Albania</td>\n",
       "      <td>1995</td>\n",
       "      <td>male</td>\n",
       "      <td>55-74 years</td>\n",
       "      <td>9</td>\n",
       "      <td>178000</td>\n",
       "      <td>5.06</td>\n",
       "      <td>Albania1995</td>\n",
       "      <td>0.619</td>\n",
       "      <td>2,424,499,009</td>\n",
       "      <td>835</td>\n",
       "      <td>Silent</td>\n",
       "    </tr>\n",
       "    <tr>\n",
       "      <th>2</th>\n",
       "      <td>Albania</td>\n",
       "      <td>1995</td>\n",
       "      <td>female</td>\n",
       "      <td>75+ years</td>\n",
       "      <td>2</td>\n",
       "      <td>40800</td>\n",
       "      <td>4.90</td>\n",
       "      <td>Albania1995</td>\n",
       "      <td>0.619</td>\n",
       "      <td>2,424,499,009</td>\n",
       "      <td>835</td>\n",
       "      <td>G.I. Generation</td>\n",
       "    </tr>\n",
       "    <tr>\n",
       "      <th>3</th>\n",
       "      <td>Albania</td>\n",
       "      <td>1995</td>\n",
       "      <td>female</td>\n",
       "      <td>15-24 years</td>\n",
       "      <td>13</td>\n",
       "      <td>283500</td>\n",
       "      <td>4.59</td>\n",
       "      <td>Albania1995</td>\n",
       "      <td>0.619</td>\n",
       "      <td>2,424,499,009</td>\n",
       "      <td>835</td>\n",
       "      <td>Generation X</td>\n",
       "    </tr>\n",
       "    <tr>\n",
       "      <th>4</th>\n",
       "      <td>Albania</td>\n",
       "      <td>1995</td>\n",
       "      <td>male</td>\n",
       "      <td>15-24 years</td>\n",
       "      <td>11</td>\n",
       "      <td>241200</td>\n",
       "      <td>4.56</td>\n",
       "      <td>Albania1995</td>\n",
       "      <td>0.619</td>\n",
       "      <td>2,424,499,009</td>\n",
       "      <td>835</td>\n",
       "      <td>Generation X</td>\n",
       "    </tr>\n",
       "    <tr>\n",
       "      <th>...</th>\n",
       "      <td>...</td>\n",
       "      <td>...</td>\n",
       "      <td>...</td>\n",
       "      <td>...</td>\n",
       "      <td>...</td>\n",
       "      <td>...</td>\n",
       "      <td>...</td>\n",
       "      <td>...</td>\n",
       "      <td>...</td>\n",
       "      <td>...</td>\n",
       "      <td>...</td>\n",
       "      <td>...</td>\n",
       "    </tr>\n",
       "    <tr>\n",
       "      <th>8359</th>\n",
       "      <td>Uzbekistan</td>\n",
       "      <td>2014</td>\n",
       "      <td>female</td>\n",
       "      <td>35-54 years</td>\n",
       "      <td>107</td>\n",
       "      <td>3620833</td>\n",
       "      <td>2.96</td>\n",
       "      <td>Uzbekistan2014</td>\n",
       "      <td>0.675</td>\n",
       "      <td>63,067,077,179</td>\n",
       "      <td>2309</td>\n",
       "      <td>Generation X</td>\n",
       "    </tr>\n",
       "    <tr>\n",
       "      <th>8360</th>\n",
       "      <td>Uzbekistan</td>\n",
       "      <td>2014</td>\n",
       "      <td>female</td>\n",
       "      <td>75+ years</td>\n",
       "      <td>9</td>\n",
       "      <td>348465</td>\n",
       "      <td>2.58</td>\n",
       "      <td>Uzbekistan2014</td>\n",
       "      <td>0.675</td>\n",
       "      <td>63,067,077,179</td>\n",
       "      <td>2309</td>\n",
       "      <td>Silent</td>\n",
       "    </tr>\n",
       "    <tr>\n",
       "      <th>8361</th>\n",
       "      <td>Uzbekistan</td>\n",
       "      <td>2014</td>\n",
       "      <td>male</td>\n",
       "      <td>5-14 years</td>\n",
       "      <td>60</td>\n",
       "      <td>2762158</td>\n",
       "      <td>2.17</td>\n",
       "      <td>Uzbekistan2014</td>\n",
       "      <td>0.675</td>\n",
       "      <td>63,067,077,179</td>\n",
       "      <td>2309</td>\n",
       "      <td>Generation Z</td>\n",
       "    </tr>\n",
       "    <tr>\n",
       "      <th>8362</th>\n",
       "      <td>Uzbekistan</td>\n",
       "      <td>2014</td>\n",
       "      <td>female</td>\n",
       "      <td>5-14 years</td>\n",
       "      <td>44</td>\n",
       "      <td>2631600</td>\n",
       "      <td>1.67</td>\n",
       "      <td>Uzbekistan2014</td>\n",
       "      <td>0.675</td>\n",
       "      <td>63,067,077,179</td>\n",
       "      <td>2309</td>\n",
       "      <td>Generation Z</td>\n",
       "    </tr>\n",
       "    <tr>\n",
       "      <th>8363</th>\n",
       "      <td>Uzbekistan</td>\n",
       "      <td>2014</td>\n",
       "      <td>female</td>\n",
       "      <td>55-74 years</td>\n",
       "      <td>21</td>\n",
       "      <td>1438935</td>\n",
       "      <td>1.46</td>\n",
       "      <td>Uzbekistan2014</td>\n",
       "      <td>0.675</td>\n",
       "      <td>63,067,077,179</td>\n",
       "      <td>2309</td>\n",
       "      <td>Boomers</td>\n",
       "    </tr>\n",
       "  </tbody>\n",
       "</table>\n",
       "<p>8364 rows × 12 columns</p>\n",
       "</div>"
      ],
      "text/plain": [
       "         country  year     sex          age  suicides_no  population  \\\n",
       "0        Albania  1995    male  25-34 years           13      232900   \n",
       "1        Albania  1995    male  55-74 years            9      178000   \n",
       "2        Albania  1995  female    75+ years            2       40800   \n",
       "3        Albania  1995  female  15-24 years           13      283500   \n",
       "4        Albania  1995    male  15-24 years           11      241200   \n",
       "...          ...   ...     ...          ...          ...         ...   \n",
       "8359  Uzbekistan  2014  female  35-54 years          107     3620833   \n",
       "8360  Uzbekistan  2014  female    75+ years            9      348465   \n",
       "8361  Uzbekistan  2014    male   5-14 years           60     2762158   \n",
       "8362  Uzbekistan  2014  female   5-14 years           44     2631600   \n",
       "8363  Uzbekistan  2014  female  55-74 years           21     1438935   \n",
       "\n",
       "      suicides/100k pop    country-year  HDI for year  gdp_for_year ($)   \\\n",
       "0                  5.58     Albania1995         0.619      2,424,499,009   \n",
       "1                  5.06     Albania1995         0.619      2,424,499,009   \n",
       "2                  4.90     Albania1995         0.619      2,424,499,009   \n",
       "3                  4.59     Albania1995         0.619      2,424,499,009   \n",
       "4                  4.56     Albania1995         0.619      2,424,499,009   \n",
       "...                 ...             ...           ...                ...   \n",
       "8359               2.96  Uzbekistan2014         0.675     63,067,077,179   \n",
       "8360               2.58  Uzbekistan2014         0.675     63,067,077,179   \n",
       "8361               2.17  Uzbekistan2014         0.675     63,067,077,179   \n",
       "8362               1.67  Uzbekistan2014         0.675     63,067,077,179   \n",
       "8363               1.46  Uzbekistan2014         0.675     63,067,077,179   \n",
       "\n",
       "      gdp_per_capita ($)       generation  \n",
       "0                    835     Generation X  \n",
       "1                    835           Silent  \n",
       "2                    835  G.I. Generation  \n",
       "3                    835     Generation X  \n",
       "4                    835     Generation X  \n",
       "...                  ...              ...  \n",
       "8359                2309     Generation X  \n",
       "8360                2309           Silent  \n",
       "8361                2309     Generation Z  \n",
       "8362                2309     Generation Z  \n",
       "8363                2309          Boomers  \n",
       "\n",
       "[8364 rows x 12 columns]"
      ]
     },
     "execution_count": 4,
     "metadata": {},
     "output_type": "execute_result"
    }
   ],
   "source": [
    "# Load the data\n",
    "file_path = ('master.csv')\n",
    "df = pd.read_csv(file_path)\n",
    "\n",
    "# Drop the null columns where all values are null\n",
    "df = df.dropna(axis='columns', how='all')\n",
    "\n",
    "# Drop the null rows\n",
    "df = df.dropna()\n",
    "\n",
    "df.reset_index(inplace=True, drop=True)\n",
    "\n",
    "df"
   ]
  },
  {
   "cell_type": "markdown",
   "id": "cce84113",
   "metadata": {},
   "source": [
    "Split the Data into Training and Testing"
   ]
  },
  {
   "cell_type": "code",
   "execution_count": 5,
   "id": "f059e82b",
   "metadata": {},
   "outputs": [
    {
     "name": "stdout",
     "output_type": "stream",
     "text": [
      "['country', 'year', 'sex', 'age', 'suicides_no', 'population', 'suicides/100k pop', 'country-year', 'HDI for year', ' gdp_for_year ($) ', 'gdp_per_capita ($)', 'generation']\n"
     ]
    }
   ],
   "source": [
    "print(df.columns.tolist())"
   ]
  },
  {
   "cell_type": "code",
   "execution_count": 7,
   "id": "c98aa262",
   "metadata": {},
   "outputs": [],
   "source": [
    "# Create our features\n",
    "X = df[[\"suicides_no\"]]\n",
    "\n",
    "# Create our target\n",
    "y = df[\"age\"]"
   ]
  },
  {
   "cell_type": "code",
   "execution_count": 8,
   "id": "4005fd89",
   "metadata": {},
   "outputs": [
    {
     "data": {
      "text/plain": [
       "(6273, 1)"
      ]
     },
     "execution_count": 8,
     "metadata": {},
     "output_type": "execute_result"
    }
   ],
   "source": [
    "from sklearn.model_selection import train_test_split\n",
    "X_train, X_test, y_train, y_test = train_test_split(X, y, random_state=1, stratify=y)\n",
    "X_train.shape"
   ]
  },
  {
   "cell_type": "markdown",
   "id": "88b8faa4",
   "metadata": {},
   "source": [
    "Using Easy Ensemble AdaBoost Classifier"
   ]
  },
  {
   "cell_type": "code",
   "execution_count": 9,
   "id": "5c54f7fe",
   "metadata": {},
   "outputs": [
    {
     "data": {
      "text/plain": [
       "EasyEnsembleClassifier(n_estimators=100, random_state=1)"
      ]
     },
     "execution_count": 9,
     "metadata": {},
     "output_type": "execute_result"
    }
   ],
   "source": [
    "# Resample the training data with the EasyEnsembleClassifier\n",
    "from imblearn.ensemble import EasyEnsembleClassifier\n",
    "suicides_model = EasyEnsembleClassifier(n_estimators = 100, random_state=1)\n",
    "suicides_model"
   ]
  },
  {
   "cell_type": "code",
   "execution_count": 10,
   "id": "725610bb",
   "metadata": {
    "scrolled": true
   },
   "outputs": [],
   "source": [
    "# Fit the model\n",
    "suicides_model = suicides_model.fit(X_train, y_train)\n",
    "y_pred = suicides_model.predict(X_test)"
   ]
  },
  {
   "cell_type": "code",
   "execution_count": 11,
   "id": "f8f90ba5",
   "metadata": {},
   "outputs": [
    {
     "data": {
      "text/plain": [
       "0.27052388323507776"
      ]
     },
     "execution_count": 11,
     "metadata": {},
     "output_type": "execute_result"
    }
   ],
   "source": [
    "# Check balanced accuracy score\n",
    "balanced_accuracy_score(y_test, y_pred)"
   ]
  },
  {
   "cell_type": "code",
   "execution_count": 12,
   "id": "fedde3f5",
   "metadata": {},
   "outputs": [
    {
     "data": {
      "text/plain": [
       "array([[138,   0,  66,  80,  65,   0],\n",
       "       [144,   0,  72,  75,  57,   0],\n",
       "       [113,   0,  63,  63, 109,   0],\n",
       "       [ 80,   0,   6, 262,   1,   0],\n",
       "       [101,   0,  58,  86, 103,   0],\n",
       "       [117,   0,  50, 132,  50,   0]])"
      ]
     },
     "execution_count": 12,
     "metadata": {},
     "output_type": "execute_result"
    }
   ],
   "source": [
    "# Display the confusion matrix\n",
    "confusion_matrix(y_test, y_pred)"
   ]
  },
  {
   "cell_type": "code",
   "execution_count": 13,
   "id": "79fe0c45",
   "metadata": {},
   "outputs": [
    {
     "name": "stdout",
     "output_type": "stream",
     "text": [
      "                   pre       rec       spe        f1       geo       iba       sup\n",
      "\n",
      "15-24 years       0.20      0.40      0.68      0.26      0.52      0.26       349\n",
      "25-34 years       0.00      0.00      1.00      0.00      0.00      0.00       348\n",
      "35-54 years       0.20      0.18      0.86      0.19      0.39      0.14       348\n",
      " 5-14 years       0.38      0.75      0.75      0.50      0.75      0.56       349\n",
      "55-74 years       0.27      0.30      0.84      0.28      0.50      0.23       348\n",
      "  75+ years       0.00      0.00      1.00      0.00      0.00      0.00       349\n",
      "\n",
      "avg / total       0.17      0.27      0.85      0.21      0.36      0.20      2091\n",
      "\n"
     ]
    }
   ],
   "source": [
    "# Print the imbalanced classification report\n",
    "print(classification_report_imbalanced(y_test, y_pred))"
   ]
  },
  {
   "cell_type": "markdown",
   "id": "a5d94391",
   "metadata": {},
   "source": [
    "Using BalancedRandomForestClassifier"
   ]
  },
  {
   "cell_type": "code",
   "execution_count": 14,
   "id": "3699014c",
   "metadata": {},
   "outputs": [
    {
     "data": {
      "text/plain": [
       "BalancedRandomForestClassifier(random_state=1)"
      ]
     },
     "execution_count": 14,
     "metadata": {},
     "output_type": "execute_result"
    }
   ],
   "source": [
    "# Resample the training data with the BalancedRandomForestClassifier\n",
    "from imblearn.ensemble import BalancedRandomForestClassifier\n",
    "suicides_model = BalancedRandomForestClassifier(n_estimators = 100, random_state=1)\n",
    "suicides_model"
   ]
  },
  {
   "cell_type": "code",
   "execution_count": 15,
   "id": "1c9dc76d",
   "metadata": {},
   "outputs": [],
   "source": [
    "# Fit the model\n",
    "suicides_model = suicides_model.fit(X_train, y_train)"
   ]
  },
  {
   "cell_type": "code",
   "execution_count": 16,
   "id": "d677b6d3",
   "metadata": {},
   "outputs": [
    {
     "data": {
      "text/plain": [
       "0.2767828716969118"
      ]
     },
     "execution_count": 16,
     "metadata": {},
     "output_type": "execute_result"
    }
   ],
   "source": [
    "# Calculated the balanced accuracy score\n",
    "y_pred = suicides_model.predict(X_test)\n",
    "balanced_accuracy_score(y_test, y_pred)"
   ]
  },
  {
   "cell_type": "code",
   "execution_count": 17,
   "id": "89f6aeae",
   "metadata": {},
   "outputs": [
    {
     "data": {
      "text/plain": [
       "array([[ 64,  82,  36,  92,  42,  33],\n",
       "       [ 60,  79,  43,  84,  51,  31],\n",
       "       [ 47,  86,  65,  70,  40,  40],\n",
       "       [ 21,  31,   7, 270,   9,  11],\n",
       "       [ 54,  54,  53,  95,  59,  33],\n",
       "       [ 43,  59,  42, 138,  25,  42]])"
      ]
     },
     "execution_count": 17,
     "metadata": {},
     "output_type": "execute_result"
    }
   ],
   "source": [
    "# Display the confusion matrix\n",
    "confusion_matrix(y_test, y_pred)"
   ]
  },
  {
   "cell_type": "code",
   "execution_count": 18,
   "id": "0cead497",
   "metadata": {},
   "outputs": [
    {
     "name": "stdout",
     "output_type": "stream",
     "text": [
      "                   pre       rec       spe        f1       geo       iba       sup\n",
      "\n",
      "15-24 years       0.22      0.18      0.87      0.20      0.40      0.15       349\n",
      "25-34 years       0.20      0.23      0.82      0.21      0.43      0.18       348\n",
      "35-54 years       0.26      0.19      0.90      0.22      0.41      0.16       348\n",
      " 5-14 years       0.36      0.77      0.73      0.49      0.75      0.56       349\n",
      "55-74 years       0.26      0.17      0.90      0.21      0.39      0.14       348\n",
      "  75+ years       0.22      0.12      0.92      0.16      0.33      0.10       349\n",
      "\n",
      "avg / total       0.26      0.28      0.86      0.25      0.45      0.21      2091\n",
      "\n"
     ]
    }
   ],
   "source": [
    "# Print the imbalanced classification report\n",
    "print(classification_report_imbalanced(y_test, y_pred))"
   ]
  },
  {
   "cell_type": "code",
   "execution_count": null,
   "id": "12925e4d",
   "metadata": {},
   "outputs": [],
   "source": []
  },
  {
   "cell_type": "code",
   "execution_count": null,
   "id": "bafcdc79",
   "metadata": {},
   "outputs": [],
   "source": []
  }
 ],
 "metadata": {
  "kernelspec": {
   "display_name": "mlenv",
   "language": "python",
   "name": "mlenv"
  },
  "language_info": {
   "codemirror_mode": {
    "name": "ipython",
    "version": 3
   },
   "file_extension": ".py",
   "mimetype": "text/x-python",
   "name": "python",
   "nbconvert_exporter": "python",
   "pygments_lexer": "ipython3",
   "version": "3.7.13"
  }
 },
 "nbformat": 4,
 "nbformat_minor": 5
}
