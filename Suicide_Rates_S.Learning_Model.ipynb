{
 "cells": [
  {
   "cell_type": "code",
   "execution_count": 1,
   "id": "cdaa7fe3",
   "metadata": {},
   "outputs": [],
   "source": [
    "import warnings\n",
    "warnings.filterwarnings('ignore')"
   ]
  },
  {
   "cell_type": "code",
   "execution_count": 2,
   "id": "056f1556",
   "metadata": {},
   "outputs": [],
   "source": [
    "# Import dependencies \n",
    "import numpy as np\n",
    "import pandas as pd\n",
    "from collections import Counter\n",
    "from sklearn.metrics import balanced_accuracy_score\n",
    "from sklearn.metrics import confusion_matrix\n",
    "from imblearn.metrics import classification_report_imbalanced"
   ]
  },
  {
   "cell_type": "markdown",
   "id": "de41d972",
   "metadata": {},
   "source": [
    "Read in CSV File"
   ]
  },
  {
   "cell_type": "code",
   "execution_count": 3,
   "id": "451fba3b",
   "metadata": {},
   "outputs": [],
   "source": [
    "# Source: https://www.kaggle.com/datasets/russellyates88/suicide-rates-overview-1985-to-2016?resource=download\n",
    "columns = [\n",
    "    \"country\",\"year\",\"sex\",\"age\",\"suicides_no\",\"population\",\"suicides/100k_pop\",\"country_year\",\n",
    "    \"HDI_four_year\",\"gdp_per_capita ($)\",\"generation\"\n",
    "]\n",
    "\n",
    "target = [\"year\"]"
   ]
  },
  {
   "cell_type": "code",
   "execution_count": 4,
   "id": "4ca3b049",
   "metadata": {
    "scrolled": false
   },
   "outputs": [
    {
     "data": {
      "text/html": [
       "<div>\n",
       "<style scoped>\n",
       "    .dataframe tbody tr th:only-of-type {\n",
       "        vertical-align: middle;\n",
       "    }\n",
       "\n",
       "    .dataframe tbody tr th {\n",
       "        vertical-align: top;\n",
       "    }\n",
       "\n",
       "    .dataframe thead th {\n",
       "        text-align: right;\n",
       "    }\n",
       "</style>\n",
       "<table border=\"1\" class=\"dataframe\">\n",
       "  <thead>\n",
       "    <tr style=\"text-align: right;\">\n",
       "      <th></th>\n",
       "      <th>country</th>\n",
       "      <th>year</th>\n",
       "      <th>sex</th>\n",
       "      <th>age</th>\n",
       "      <th>suicides_no</th>\n",
       "      <th>population</th>\n",
       "      <th>suicides/100k pop</th>\n",
       "      <th>country-year</th>\n",
       "      <th>HDI for year</th>\n",
       "      <th>gdp_for_year ($)</th>\n",
       "      <th>gdp_per_capita ($)</th>\n",
       "      <th>generation</th>\n",
       "    </tr>\n",
       "  </thead>\n",
       "  <tbody>\n",
       "    <tr>\n",
       "      <th>0</th>\n",
       "      <td>Albania</td>\n",
       "      <td>1995</td>\n",
       "      <td>male</td>\n",
       "      <td>25-34 years</td>\n",
       "      <td>13</td>\n",
       "      <td>232900</td>\n",
       "      <td>5.58</td>\n",
       "      <td>Albania1995</td>\n",
       "      <td>0.619</td>\n",
       "      <td>2,424,499,009</td>\n",
       "      <td>835</td>\n",
       "      <td>Generation X</td>\n",
       "    </tr>\n",
       "    <tr>\n",
       "      <th>1</th>\n",
       "      <td>Albania</td>\n",
       "      <td>1995</td>\n",
       "      <td>male</td>\n",
       "      <td>55-74 years</td>\n",
       "      <td>9</td>\n",
       "      <td>178000</td>\n",
       "      <td>5.06</td>\n",
       "      <td>Albania1995</td>\n",
       "      <td>0.619</td>\n",
       "      <td>2,424,499,009</td>\n",
       "      <td>835</td>\n",
       "      <td>Silent</td>\n",
       "    </tr>\n",
       "    <tr>\n",
       "      <th>2</th>\n",
       "      <td>Albania</td>\n",
       "      <td>1995</td>\n",
       "      <td>female</td>\n",
       "      <td>75+ years</td>\n",
       "      <td>2</td>\n",
       "      <td>40800</td>\n",
       "      <td>4.90</td>\n",
       "      <td>Albania1995</td>\n",
       "      <td>0.619</td>\n",
       "      <td>2,424,499,009</td>\n",
       "      <td>835</td>\n",
       "      <td>G.I. Generation</td>\n",
       "    </tr>\n",
       "    <tr>\n",
       "      <th>3</th>\n",
       "      <td>Albania</td>\n",
       "      <td>1995</td>\n",
       "      <td>female</td>\n",
       "      <td>15-24 years</td>\n",
       "      <td>13</td>\n",
       "      <td>283500</td>\n",
       "      <td>4.59</td>\n",
       "      <td>Albania1995</td>\n",
       "      <td>0.619</td>\n",
       "      <td>2,424,499,009</td>\n",
       "      <td>835</td>\n",
       "      <td>Generation X</td>\n",
       "    </tr>\n",
       "    <tr>\n",
       "      <th>4</th>\n",
       "      <td>Albania</td>\n",
       "      <td>1995</td>\n",
       "      <td>male</td>\n",
       "      <td>15-24 years</td>\n",
       "      <td>11</td>\n",
       "      <td>241200</td>\n",
       "      <td>4.56</td>\n",
       "      <td>Albania1995</td>\n",
       "      <td>0.619</td>\n",
       "      <td>2,424,499,009</td>\n",
       "      <td>835</td>\n",
       "      <td>Generation X</td>\n",
       "    </tr>\n",
       "    <tr>\n",
       "      <th>...</th>\n",
       "      <td>...</td>\n",
       "      <td>...</td>\n",
       "      <td>...</td>\n",
       "      <td>...</td>\n",
       "      <td>...</td>\n",
       "      <td>...</td>\n",
       "      <td>...</td>\n",
       "      <td>...</td>\n",
       "      <td>...</td>\n",
       "      <td>...</td>\n",
       "      <td>...</td>\n",
       "      <td>...</td>\n",
       "    </tr>\n",
       "    <tr>\n",
       "      <th>8359</th>\n",
       "      <td>Uzbekistan</td>\n",
       "      <td>2014</td>\n",
       "      <td>female</td>\n",
       "      <td>35-54 years</td>\n",
       "      <td>107</td>\n",
       "      <td>3620833</td>\n",
       "      <td>2.96</td>\n",
       "      <td>Uzbekistan2014</td>\n",
       "      <td>0.675</td>\n",
       "      <td>63,067,077,179</td>\n",
       "      <td>2309</td>\n",
       "      <td>Generation X</td>\n",
       "    </tr>\n",
       "    <tr>\n",
       "      <th>8360</th>\n",
       "      <td>Uzbekistan</td>\n",
       "      <td>2014</td>\n",
       "      <td>female</td>\n",
       "      <td>75+ years</td>\n",
       "      <td>9</td>\n",
       "      <td>348465</td>\n",
       "      <td>2.58</td>\n",
       "      <td>Uzbekistan2014</td>\n",
       "      <td>0.675</td>\n",
       "      <td>63,067,077,179</td>\n",
       "      <td>2309</td>\n",
       "      <td>Silent</td>\n",
       "    </tr>\n",
       "    <tr>\n",
       "      <th>8361</th>\n",
       "      <td>Uzbekistan</td>\n",
       "      <td>2014</td>\n",
       "      <td>male</td>\n",
       "      <td>5-14 years</td>\n",
       "      <td>60</td>\n",
       "      <td>2762158</td>\n",
       "      <td>2.17</td>\n",
       "      <td>Uzbekistan2014</td>\n",
       "      <td>0.675</td>\n",
       "      <td>63,067,077,179</td>\n",
       "      <td>2309</td>\n",
       "      <td>Generation Z</td>\n",
       "    </tr>\n",
       "    <tr>\n",
       "      <th>8362</th>\n",
       "      <td>Uzbekistan</td>\n",
       "      <td>2014</td>\n",
       "      <td>female</td>\n",
       "      <td>5-14 years</td>\n",
       "      <td>44</td>\n",
       "      <td>2631600</td>\n",
       "      <td>1.67</td>\n",
       "      <td>Uzbekistan2014</td>\n",
       "      <td>0.675</td>\n",
       "      <td>63,067,077,179</td>\n",
       "      <td>2309</td>\n",
       "      <td>Generation Z</td>\n",
       "    </tr>\n",
       "    <tr>\n",
       "      <th>8363</th>\n",
       "      <td>Uzbekistan</td>\n",
       "      <td>2014</td>\n",
       "      <td>female</td>\n",
       "      <td>55-74 years</td>\n",
       "      <td>21</td>\n",
       "      <td>1438935</td>\n",
       "      <td>1.46</td>\n",
       "      <td>Uzbekistan2014</td>\n",
       "      <td>0.675</td>\n",
       "      <td>63,067,077,179</td>\n",
       "      <td>2309</td>\n",
       "      <td>Boomers</td>\n",
       "    </tr>\n",
       "  </tbody>\n",
       "</table>\n",
       "<p>8364 rows × 12 columns</p>\n",
       "</div>"
      ],
      "text/plain": [
       "         country  year     sex          age  suicides_no  population  \\\n",
       "0        Albania  1995    male  25-34 years           13      232900   \n",
       "1        Albania  1995    male  55-74 years            9      178000   \n",
       "2        Albania  1995  female    75+ years            2       40800   \n",
       "3        Albania  1995  female  15-24 years           13      283500   \n",
       "4        Albania  1995    male  15-24 years           11      241200   \n",
       "...          ...   ...     ...          ...          ...         ...   \n",
       "8359  Uzbekistan  2014  female  35-54 years          107     3620833   \n",
       "8360  Uzbekistan  2014  female    75+ years            9      348465   \n",
       "8361  Uzbekistan  2014    male   5-14 years           60     2762158   \n",
       "8362  Uzbekistan  2014  female   5-14 years           44     2631600   \n",
       "8363  Uzbekistan  2014  female  55-74 years           21     1438935   \n",
       "\n",
       "      suicides/100k pop    country-year  HDI for year  gdp_for_year ($)   \\\n",
       "0                  5.58     Albania1995         0.619      2,424,499,009   \n",
       "1                  5.06     Albania1995         0.619      2,424,499,009   \n",
       "2                  4.90     Albania1995         0.619      2,424,499,009   \n",
       "3                  4.59     Albania1995         0.619      2,424,499,009   \n",
       "4                  4.56     Albania1995         0.619      2,424,499,009   \n",
       "...                 ...             ...           ...                ...   \n",
       "8359               2.96  Uzbekistan2014         0.675     63,067,077,179   \n",
       "8360               2.58  Uzbekistan2014         0.675     63,067,077,179   \n",
       "8361               2.17  Uzbekistan2014         0.675     63,067,077,179   \n",
       "8362               1.67  Uzbekistan2014         0.675     63,067,077,179   \n",
       "8363               1.46  Uzbekistan2014         0.675     63,067,077,179   \n",
       "\n",
       "      gdp_per_capita ($)       generation  \n",
       "0                    835     Generation X  \n",
       "1                    835           Silent  \n",
       "2                    835  G.I. Generation  \n",
       "3                    835     Generation X  \n",
       "4                    835     Generation X  \n",
       "...                  ...              ...  \n",
       "8359                2309     Generation X  \n",
       "8360                2309           Silent  \n",
       "8361                2309     Generation Z  \n",
       "8362                2309     Generation Z  \n",
       "8363                2309          Boomers  \n",
       "\n",
       "[8364 rows x 12 columns]"
      ]
     },
     "execution_count": 4,
     "metadata": {},
     "output_type": "execute_result"
    }
   ],
   "source": [
    "# Load the data\n",
    "file_path = ('master.csv')\n",
    "df = pd.read_csv(file_path)\n",
    "\n",
    "# Drop the null columns where all values are null\n",
    "df = df.dropna(axis='columns', how='all')\n",
    "\n",
    "# Drop the null rows\n",
    "df = df.dropna()\n",
    "\n",
    "df.reset_index(inplace=True, drop=True)\n",
    "\n",
    "df"
   ]
  },
  {
   "cell_type": "markdown",
   "id": "73c5be29",
   "metadata": {},
   "source": [
    "Week 2 Changes: Filtering DataFrame to get Specific Countries"
   ]
  },
  {
   "cell_type": "code",
   "execution_count": 5,
   "id": "bb435504",
   "metadata": {},
   "outputs": [
    {
     "data": {
      "text/html": [
       "<div>\n",
       "<style scoped>\n",
       "    .dataframe tbody tr th:only-of-type {\n",
       "        vertical-align: middle;\n",
       "    }\n",
       "\n",
       "    .dataframe tbody tr th {\n",
       "        vertical-align: top;\n",
       "    }\n",
       "\n",
       "    .dataframe thead th {\n",
       "        text-align: right;\n",
       "    }\n",
       "</style>\n",
       "<table border=\"1\" class=\"dataframe\">\n",
       "  <thead>\n",
       "    <tr style=\"text-align: right;\">\n",
       "      <th></th>\n",
       "      <th>country</th>\n",
       "      <th>year</th>\n",
       "      <th>sex</th>\n",
       "      <th>age</th>\n",
       "      <th>suicides_no</th>\n",
       "      <th>population</th>\n",
       "      <th>suicides/100k pop</th>\n",
       "      <th>country-year</th>\n",
       "      <th>HDI for year</th>\n",
       "      <th>gdp_for_year ($)</th>\n",
       "      <th>gdp_per_capita ($)</th>\n",
       "      <th>generation</th>\n",
       "    </tr>\n",
       "  </thead>\n",
       "  <tbody>\n",
       "    <tr>\n",
       "      <th>7932</th>\n",
       "      <td>United Kingdom</td>\n",
       "      <td>1985</td>\n",
       "      <td>male</td>\n",
       "      <td>75+ years</td>\n",
       "      <td>264</td>\n",
       "      <td>1202838</td>\n",
       "      <td>21.95</td>\n",
       "      <td>United Kingdom1985</td>\n",
       "      <td>0.753</td>\n",
       "      <td>489,285,164,271</td>\n",
       "      <td>9231</td>\n",
       "      <td>G.I. Generation</td>\n",
       "    </tr>\n",
       "    <tr>\n",
       "      <th>7933</th>\n",
       "      <td>United Kingdom</td>\n",
       "      <td>1985</td>\n",
       "      <td>male</td>\n",
       "      <td>55-74 years</td>\n",
       "      <td>915</td>\n",
       "      <td>5170113</td>\n",
       "      <td>17.70</td>\n",
       "      <td>United Kingdom1985</td>\n",
       "      <td>0.753</td>\n",
       "      <td>489,285,164,271</td>\n",
       "      <td>9231</td>\n",
       "      <td>G.I. Generation</td>\n",
       "    </tr>\n",
       "    <tr>\n",
       "      <th>7934</th>\n",
       "      <td>United Kingdom</td>\n",
       "      <td>1985</td>\n",
       "      <td>male</td>\n",
       "      <td>35-54 years</td>\n",
       "      <td>1208</td>\n",
       "      <td>6899879</td>\n",
       "      <td>17.51</td>\n",
       "      <td>United Kingdom1985</td>\n",
       "      <td>0.753</td>\n",
       "      <td>489,285,164,271</td>\n",
       "      <td>9231</td>\n",
       "      <td>Silent</td>\n",
       "    </tr>\n",
       "    <tr>\n",
       "      <th>7935</th>\n",
       "      <td>United Kingdom</td>\n",
       "      <td>1985</td>\n",
       "      <td>male</td>\n",
       "      <td>25-34 years</td>\n",
       "      <td>620</td>\n",
       "      <td>3969689</td>\n",
       "      <td>15.62</td>\n",
       "      <td>United Kingdom1985</td>\n",
       "      <td>0.753</td>\n",
       "      <td>489,285,164,271</td>\n",
       "      <td>9231</td>\n",
       "      <td>Boomers</td>\n",
       "    </tr>\n",
       "    <tr>\n",
       "      <th>7936</th>\n",
       "      <td>United Kingdom</td>\n",
       "      <td>1985</td>\n",
       "      <td>female</td>\n",
       "      <td>55-74 years</td>\n",
       "      <td>678</td>\n",
       "      <td>6002096</td>\n",
       "      <td>11.30</td>\n",
       "      <td>United Kingdom1985</td>\n",
       "      <td>0.753</td>\n",
       "      <td>489,285,164,271</td>\n",
       "      <td>9231</td>\n",
       "      <td>G.I. Generation</td>\n",
       "    </tr>\n",
       "    <tr>\n",
       "      <th>...</th>\n",
       "      <td>...</td>\n",
       "      <td>...</td>\n",
       "      <td>...</td>\n",
       "      <td>...</td>\n",
       "      <td>...</td>\n",
       "      <td>...</td>\n",
       "      <td>...</td>\n",
       "      <td>...</td>\n",
       "      <td>...</td>\n",
       "      <td>...</td>\n",
       "      <td>...</td>\n",
       "      <td>...</td>\n",
       "    </tr>\n",
       "    <tr>\n",
       "      <th>8167</th>\n",
       "      <td>United States</td>\n",
       "      <td>2014</td>\n",
       "      <td>female</td>\n",
       "      <td>25-34 years</td>\n",
       "      <td>1347</td>\n",
       "      <td>21250636</td>\n",
       "      <td>6.34</td>\n",
       "      <td>United States2014</td>\n",
       "      <td>0.915</td>\n",
       "      <td>17,427,609,000,000</td>\n",
       "      <td>58531</td>\n",
       "      <td>Millenials</td>\n",
       "    </tr>\n",
       "    <tr>\n",
       "      <th>8168</th>\n",
       "      <td>United States</td>\n",
       "      <td>2014</td>\n",
       "      <td>female</td>\n",
       "      <td>15-24 years</td>\n",
       "      <td>990</td>\n",
       "      <td>21691057</td>\n",
       "      <td>4.56</td>\n",
       "      <td>United States2014</td>\n",
       "      <td>0.915</td>\n",
       "      <td>17,427,609,000,000</td>\n",
       "      <td>58531</td>\n",
       "      <td>Millenials</td>\n",
       "    </tr>\n",
       "    <tr>\n",
       "      <th>8169</th>\n",
       "      <td>United States</td>\n",
       "      <td>2014</td>\n",
       "      <td>female</td>\n",
       "      <td>75+ years</td>\n",
       "      <td>477</td>\n",
       "      <td>11616299</td>\n",
       "      <td>4.11</td>\n",
       "      <td>United States2014</td>\n",
       "      <td>0.915</td>\n",
       "      <td>17,427,609,000,000</td>\n",
       "      <td>58531</td>\n",
       "      <td>Silent</td>\n",
       "    </tr>\n",
       "    <tr>\n",
       "      <th>8170</th>\n",
       "      <td>United States</td>\n",
       "      <td>2014</td>\n",
       "      <td>male</td>\n",
       "      <td>5-14 years</td>\n",
       "      <td>277</td>\n",
       "      <td>21264881</td>\n",
       "      <td>1.30</td>\n",
       "      <td>United States2014</td>\n",
       "      <td>0.915</td>\n",
       "      <td>17,427,609,000,000</td>\n",
       "      <td>58531</td>\n",
       "      <td>Generation Z</td>\n",
       "    </tr>\n",
       "    <tr>\n",
       "      <th>8171</th>\n",
       "      <td>United States</td>\n",
       "      <td>2014</td>\n",
       "      <td>female</td>\n",
       "      <td>5-14 years</td>\n",
       "      <td>151</td>\n",
       "      <td>20336916</td>\n",
       "      <td>0.74</td>\n",
       "      <td>United States2014</td>\n",
       "      <td>0.915</td>\n",
       "      <td>17,427,609,000,000</td>\n",
       "      <td>58531</td>\n",
       "      <td>Generation Z</td>\n",
       "    </tr>\n",
       "  </tbody>\n",
       "</table>\n",
       "<p>240 rows × 12 columns</p>\n",
       "</div>"
      ],
      "text/plain": [
       "             country  year     sex          age  suicides_no  population  \\\n",
       "7932  United Kingdom  1985    male    75+ years          264     1202838   \n",
       "7933  United Kingdom  1985    male  55-74 years          915     5170113   \n",
       "7934  United Kingdom  1985    male  35-54 years         1208     6899879   \n",
       "7935  United Kingdom  1985    male  25-34 years          620     3969689   \n",
       "7936  United Kingdom  1985  female  55-74 years          678     6002096   \n",
       "...              ...   ...     ...          ...          ...         ...   \n",
       "8167   United States  2014  female  25-34 years         1347    21250636   \n",
       "8168   United States  2014  female  15-24 years          990    21691057   \n",
       "8169   United States  2014  female    75+ years          477    11616299   \n",
       "8170   United States  2014    male   5-14 years          277    21264881   \n",
       "8171   United States  2014  female   5-14 years          151    20336916   \n",
       "\n",
       "      suicides/100k pop        country-year  HDI for year   gdp_for_year ($)   \\\n",
       "7932              21.95  United Kingdom1985         0.753     489,285,164,271   \n",
       "7933              17.70  United Kingdom1985         0.753     489,285,164,271   \n",
       "7934              17.51  United Kingdom1985         0.753     489,285,164,271   \n",
       "7935              15.62  United Kingdom1985         0.753     489,285,164,271   \n",
       "7936              11.30  United Kingdom1985         0.753     489,285,164,271   \n",
       "...                 ...                 ...           ...                 ...   \n",
       "8167               6.34   United States2014         0.915  17,427,609,000,000   \n",
       "8168               4.56   United States2014         0.915  17,427,609,000,000   \n",
       "8169               4.11   United States2014         0.915  17,427,609,000,000   \n",
       "8170               1.30   United States2014         0.915  17,427,609,000,000   \n",
       "8171               0.74   United States2014         0.915  17,427,609,000,000   \n",
       "\n",
       "      gdp_per_capita ($)       generation  \n",
       "7932                9231  G.I. Generation  \n",
       "7933                9231  G.I. Generation  \n",
       "7934                9231           Silent  \n",
       "7935                9231          Boomers  \n",
       "7936                9231  G.I. Generation  \n",
       "...                  ...              ...  \n",
       "8167               58531       Millenials  \n",
       "8168               58531       Millenials  \n",
       "8169               58531           Silent  \n",
       "8170               58531     Generation Z  \n",
       "8171               58531     Generation Z  \n",
       "\n",
       "[240 rows x 12 columns]"
      ]
     },
     "execution_count": 5,
     "metadata": {},
     "output_type": "execute_result"
    }
   ],
   "source": [
    "# Week 2: Filter DataFrame to show first world countries \n",
    "first_world_countries = ['United States', 'United Kingdom']\n",
    "df[df[\"country\"].isin(first_world_countries)]"
   ]
  },
  {
   "cell_type": "markdown",
   "id": "cce84113",
   "metadata": {},
   "source": [
    "Split the Data into Training and Testing"
   ]
  },
  {
   "cell_type": "code",
   "execution_count": 6,
   "id": "b2e08ebc",
   "metadata": {},
   "outputs": [
    {
     "data": {
      "text/plain": [
       "country                object\n",
       "year                    int64\n",
       "sex                    object\n",
       "age                    object\n",
       "suicides_no             int64\n",
       "population              int64\n",
       "suicides/100k pop     float64\n",
       "country-year           object\n",
       "HDI for year          float64\n",
       " gdp_for_year ($)      object\n",
       "gdp_per_capita ($)      int64\n",
       "generation             object\n",
       "dtype: object"
      ]
     },
     "execution_count": 6,
     "metadata": {},
     "output_type": "execute_result"
    }
   ],
   "source": [
    "df.dtypes"
   ]
  },
  {
   "cell_type": "code",
   "execution_count": 7,
   "id": "c8890be7",
   "metadata": {},
   "outputs": [
    {
     "name": "stdout",
     "output_type": "stream",
     "text": [
      "['country', 'year', 'sex', 'age', 'suicides_no', 'population', 'suicides/100k pop', 'country-year', 'HDI for year', ' gdp_for_year ($) ', 'gdp_per_capita ($)', 'generation']\n"
     ]
    }
   ],
   "source": [
    "print(df.columns.tolist())"
   ]
  },
  {
   "cell_type": "code",
   "execution_count": 8,
   "id": "c98aa262",
   "metadata": {},
   "outputs": [],
   "source": [
    "# Create our features\n",
    "# Week 2: Create X and y from the filtered df\n",
    "X = df[[\"suicides_no\"]]\n",
    "\n",
    "# Create our target\n",
    "y = df[\"age\"]"
   ]
  },
  {
   "cell_type": "code",
   "execution_count": 9,
   "id": "4005fd89",
   "metadata": {},
   "outputs": [
    {
     "data": {
      "text/plain": [
       "(6273, 1)"
      ]
     },
     "execution_count": 9,
     "metadata": {},
     "output_type": "execute_result"
    }
   ],
   "source": [
    "from sklearn.model_selection import train_test_split\n",
    "X_train, X_test, y_train, y_test = train_test_split(X, y, random_state=1, stratify=y)\n",
    "X_train.shape"
   ]
  },
  {
   "cell_type": "markdown",
   "id": "799ae5e4",
   "metadata": {},
   "source": [
    "Attempt Using Easy Ensemble AdaBoost Classifier"
   ]
  },
  {
   "cell_type": "code",
   "execution_count": 10,
   "id": "5c54f7fe",
   "metadata": {},
   "outputs": [
    {
     "data": {
      "text/plain": [
       "EasyEnsembleClassifier(n_estimators=100, random_state=1)"
      ]
     },
     "execution_count": 10,
     "metadata": {},
     "output_type": "execute_result"
    }
   ],
   "source": [
    "# Resample the training data with the EasyEnsembleClassifier\n",
    "from imblearn.ensemble import EasyEnsembleClassifier\n",
    "suicides_model = EasyEnsembleClassifier(n_estimators = 100, random_state=1)\n",
    "suicides_model"
   ]
  },
  {
   "cell_type": "code",
   "execution_count": 11,
   "id": "725610bb",
   "metadata": {
    "scrolled": true
   },
   "outputs": [],
   "source": [
    "# Fit the model\n",
    "suicides_model = suicides_model.fit(X_train, y_train)\n",
    "y_pred = suicides_model.predict(X_test)"
   ]
  },
  {
   "cell_type": "code",
   "execution_count": 12,
   "id": "f8f90ba5",
   "metadata": {},
   "outputs": [
    {
     "data": {
      "text/plain": [
       "0.27052388323507776"
      ]
     },
     "execution_count": 12,
     "metadata": {},
     "output_type": "execute_result"
    }
   ],
   "source": [
    "# Check balanced accuracy score\n",
    "balanced_accuracy_score(y_test, y_pred)"
   ]
  },
  {
   "cell_type": "code",
   "execution_count": 13,
   "id": "fedde3f5",
   "metadata": {},
   "outputs": [
    {
     "data": {
      "text/plain": [
       "array([[138,   0,  66,  80,  65,   0],\n",
       "       [144,   0,  72,  75,  57,   0],\n",
       "       [113,   0,  63,  63, 109,   0],\n",
       "       [ 80,   0,   6, 262,   1,   0],\n",
       "       [101,   0,  58,  86, 103,   0],\n",
       "       [117,   0,  50, 132,  50,   0]])"
      ]
     },
     "execution_count": 13,
     "metadata": {},
     "output_type": "execute_result"
    }
   ],
   "source": [
    "# Display the confusion matrix\n",
    "confusion_matrix(y_test, y_pred)"
   ]
  },
  {
   "cell_type": "code",
   "execution_count": 14,
   "id": "79fe0c45",
   "metadata": {},
   "outputs": [
    {
     "name": "stdout",
     "output_type": "stream",
     "text": [
      "                   pre       rec       spe        f1       geo       iba       sup\n",
      "\n",
      "15-24 years       0.20      0.40      0.68      0.26      0.52      0.26       349\n",
      "25-34 years       0.00      0.00      1.00      0.00      0.00      0.00       348\n",
      "35-54 years       0.20      0.18      0.86      0.19      0.39      0.14       348\n",
      " 5-14 years       0.38      0.75      0.75      0.50      0.75      0.56       349\n",
      "55-74 years       0.27      0.30      0.84      0.28      0.50      0.23       348\n",
      "  75+ years       0.00      0.00      1.00      0.00      0.00      0.00       349\n",
      "\n",
      "avg / total       0.17      0.27      0.85      0.21      0.36      0.20      2091\n",
      "\n"
     ]
    }
   ],
   "source": [
    "# Print the imbalanced classification report\n",
    "print(classification_report_imbalanced(y_test, y_pred))"
   ]
  },
  {
   "cell_type": "markdown",
   "id": "d803643e",
   "metadata": {},
   "source": [
    "Attempt using BalancedRandomForestClassifier"
   ]
  },
  {
   "cell_type": "code",
   "execution_count": 15,
   "id": "3699014c",
   "metadata": {},
   "outputs": [
    {
     "data": {
      "text/plain": [
       "BalancedRandomForestClassifier(random_state=1)"
      ]
     },
     "execution_count": 15,
     "metadata": {},
     "output_type": "execute_result"
    }
   ],
   "source": [
    "# Resample the training data with the BalancedRandomForestClassifier\n",
    "from imblearn.ensemble import BalancedRandomForestClassifier\n",
    "suicides_model = BalancedRandomForestClassifier(n_estimators = 100, random_state=1)\n",
    "suicides_model"
   ]
  },
  {
   "cell_type": "code",
   "execution_count": 16,
   "id": "1c9dc76d",
   "metadata": {},
   "outputs": [],
   "source": [
    "# Fit the model\n",
    "suicides_model = suicides_model.fit(X_train, y_train)"
   ]
  },
  {
   "cell_type": "code",
   "execution_count": 17,
   "id": "d677b6d3",
   "metadata": {},
   "outputs": [
    {
     "data": {
      "text/plain": [
       "0.2767828716969118"
      ]
     },
     "execution_count": 17,
     "metadata": {},
     "output_type": "execute_result"
    }
   ],
   "source": [
    "# Calculated the balanced accuracy score\n",
    "y_pred = suicides_model.predict(X_test)\n",
    "balanced_accuracy_score(y_test, y_pred)"
   ]
  },
  {
   "cell_type": "code",
   "execution_count": 18,
   "id": "89f6aeae",
   "metadata": {},
   "outputs": [
    {
     "data": {
      "text/plain": [
       "array([[ 64,  82,  36,  92,  42,  33],\n",
       "       [ 60,  79,  43,  84,  51,  31],\n",
       "       [ 47,  86,  65,  70,  40,  40],\n",
       "       [ 21,  31,   7, 270,   9,  11],\n",
       "       [ 54,  54,  53,  95,  59,  33],\n",
       "       [ 43,  59,  42, 138,  25,  42]])"
      ]
     },
     "execution_count": 18,
     "metadata": {},
     "output_type": "execute_result"
    }
   ],
   "source": [
    "# Display the confusion matrix\n",
    "confusion_matrix(y_test, y_pred)"
   ]
  },
  {
   "cell_type": "code",
   "execution_count": 19,
   "id": "0cead497",
   "metadata": {},
   "outputs": [
    {
     "name": "stdout",
     "output_type": "stream",
     "text": [
      "                   pre       rec       spe        f1       geo       iba       sup\n",
      "\n",
      "15-24 years       0.22      0.18      0.87      0.20      0.40      0.15       349\n",
      "25-34 years       0.20      0.23      0.82      0.21      0.43      0.18       348\n",
      "35-54 years       0.26      0.19      0.90      0.22      0.41      0.16       348\n",
      " 5-14 years       0.36      0.77      0.73      0.49      0.75      0.56       349\n",
      "55-74 years       0.26      0.17      0.90      0.21      0.39      0.14       348\n",
      "  75+ years       0.22      0.12      0.92      0.16      0.33      0.10       349\n",
      "\n",
      "avg / total       0.26      0.28      0.86      0.25      0.45      0.21      2091\n",
      "\n"
     ]
    }
   ],
   "source": [
    "# Print the imbalanced classification report\n",
    "print(classification_report_imbalanced(y_test, y_pred))"
   ]
  },
  {
   "cell_type": "markdown",
   "id": "972d5de8",
   "metadata": {},
   "source": [
    "Attempting Combination of Over and UnderSampling the Data using SMOTEEN"
   ]
  },
  {
   "cell_type": "code",
   "execution_count": 20,
   "id": "9bdee901",
   "metadata": {},
   "outputs": [],
   "source": [
    "# Using SMOTEEN\n",
    "from imblearn.combine import SMOTEENN\n",
    "from sklearn.linear_model import LogisticRegression\n",
    "smote_eenn = SMOTEENN(random_state=0)\n",
    "X_resampled, y_resampled = smote_eenn.fit_resample(X, y)"
   ]
  },
  {
   "cell_type": "code",
   "execution_count": 21,
   "id": "503c0c15",
   "metadata": {},
   "outputs": [
    {
     "data": {
      "text/plain": [
       "LogisticRegression(random_state=1)"
      ]
     },
     "execution_count": 21,
     "metadata": {},
     "output_type": "execute_result"
    }
   ],
   "source": [
    "suicides_model = LogisticRegression(solver='lbfgs', random_state=1)\n",
    "suicides_model.fit(X_resampled, y_resampled)"
   ]
  },
  {
   "cell_type": "code",
   "execution_count": 22,
   "id": "8e6bf389",
   "metadata": {},
   "outputs": [
    {
     "data": {
      "text/plain": [
       "0.19319566577742645"
      ]
     },
     "execution_count": 22,
     "metadata": {},
     "output_type": "execute_result"
    }
   ],
   "source": [
    "y_pred = suicides_model.predict(X_test)\n",
    "balanced_accuracy_score(y_test, y_pred)"
   ]
  },
  {
   "cell_type": "code",
   "execution_count": 23,
   "id": "00fea382",
   "metadata": {},
   "outputs": [
    {
     "data": {
      "text/plain": [
       "array([[  0,   0, 158,   0,   0, 191],\n",
       "       [  0,   0, 170,   0,   0, 178],\n",
       "       [  0,   0, 192,   0,   0, 156],\n",
       "       [  0,   0,  16,   0,   0, 333],\n",
       "       [  0,   0, 182,   0,   0, 166],\n",
       "       [  0,   0, 137,   0,   0, 212]])"
      ]
     },
     "execution_count": 23,
     "metadata": {},
     "output_type": "execute_result"
    }
   ],
   "source": [
    "# Confusion matrix\n",
    "confusion_matrix(y_test, y_pred)"
   ]
  },
  {
   "cell_type": "code",
   "execution_count": 24,
   "id": "43e694fd",
   "metadata": {},
   "outputs": [
    {
     "name": "stdout",
     "output_type": "stream",
     "text": [
      "                   pre       rec       spe        f1       geo       iba       sup\n",
      "\n",
      "15-24 years       0.00      0.00      1.00      0.00      0.00      0.00       349\n",
      "25-34 years       0.00      0.00      1.00      0.00      0.00      0.00       348\n",
      "35-54 years       0.22      0.55      0.62      0.32      0.58      0.34       348\n",
      " 5-14 years       0.00      0.00      1.00      0.00      0.00      0.00       349\n",
      "55-74 years       0.00      0.00      1.00      0.00      0.00      0.00       348\n",
      "  75+ years       0.17      0.61      0.41      0.27      0.50      0.26       349\n",
      "\n",
      "avg / total       0.07      0.19      0.84      0.10      0.18      0.10      2091\n",
      "\n"
     ]
    }
   ],
   "source": [
    "# Classification Report \n",
    "print(classification_report_imbalanced(y_test, y_pred))"
   ]
  },
  {
   "cell_type": "markdown",
   "id": "5386adec",
   "metadata": {},
   "source": [
    "Attempt OverSampling with RandomOverSampler"
   ]
  },
  {
   "cell_type": "code",
   "execution_count": 25,
   "id": "2caf0364",
   "metadata": {},
   "outputs": [
    {
     "data": {
      "text/plain": [
       "Counter({'5-14 years': 1046,\n",
       "         '35-54 years': 1046,\n",
       "         '25-34 years': 1046,\n",
       "         '15-24 years': 1046,\n",
       "         '75+ years': 1046,\n",
       "         '55-74 years': 1046})"
      ]
     },
     "execution_count": 25,
     "metadata": {},
     "output_type": "execute_result"
    }
   ],
   "source": [
    "# Using RandomOverSampler\n",
    "from imblearn.over_sampling import RandomOverSampler\n",
    "ros_suicides = RandomOverSampler(random_state=1)\n",
    "X_resampled, y_resampled = ros_suicides.fit_resample(X_train, y_train)\n",
    "Counter(y_resampled)"
   ]
  },
  {
   "cell_type": "code",
   "execution_count": 26,
   "id": "b4b94b1a",
   "metadata": {},
   "outputs": [
    {
     "data": {
      "text/plain": [
       "LogisticRegression(random_state=1)"
      ]
     },
     "execution_count": 26,
     "metadata": {},
     "output_type": "execute_result"
    }
   ],
   "source": [
    "# Train the Logistic Regression model using the resampled data\n",
    "suicides_model = LogisticRegression(solver='lbfgs', random_state=1)\n",
    "suicides_model.fit(X_resampled, y_resampled)"
   ]
  },
  {
   "cell_type": "code",
   "execution_count": 27,
   "id": "911b63bd",
   "metadata": {},
   "outputs": [
    {
     "data": {
      "text/plain": [
       "0.2637873398544281"
      ]
     },
     "execution_count": 27,
     "metadata": {},
     "output_type": "execute_result"
    }
   ],
   "source": [
    "# Calculated the balanced accuracy score\n",
    "y_pred = suicides_model.predict(X_test)\n",
    "balanced_accuracy_score(y_test, y_pred)"
   ]
  },
  {
   "cell_type": "code",
   "execution_count": 28,
   "id": "5201fc8b",
   "metadata": {},
   "outputs": [
    {
     "data": {
      "text/plain": [
       "array([[ 12,  15,  49, 153,  12, 108],\n",
       "       [ 15,  17,  41, 135,  13, 127],\n",
       "       [ 20,  23,  83, 119,  19,  84],\n",
       "       [  0,   1,   0, 314,   1,  33],\n",
       "       [ 12,  29,  60, 133,  29,  85],\n",
       "       [  9,  17,  31, 183,  12,  97]])"
      ]
     },
     "execution_count": 28,
     "metadata": {},
     "output_type": "execute_result"
    }
   ],
   "source": [
    "# Display the confusion matrix\n",
    "confusion_matrix(y_test, y_pred)"
   ]
  },
  {
   "cell_type": "code",
   "execution_count": 29,
   "id": "8ddf9da0",
   "metadata": {},
   "outputs": [
    {
     "name": "stdout",
     "output_type": "stream",
     "text": [
      "                   pre       rec       spe        f1       geo       iba       sup\n",
      "\n",
      "15-24 years       0.18      0.03      0.97      0.06      0.18      0.03       349\n",
      "25-34 years       0.17      0.05      0.95      0.08      0.22      0.04       348\n",
      "35-54 years       0.31      0.24      0.90      0.27      0.46      0.20       348\n",
      " 5-14 years       0.30      0.90      0.58      0.45      0.73      0.54       349\n",
      "55-74 years       0.34      0.08      0.97      0.13      0.28      0.07       348\n",
      "  75+ years       0.18      0.28      0.75      0.22      0.46      0.20       349\n",
      "\n",
      "avg / total       0.25      0.26      0.85      0.20      0.39      0.18      2091\n",
      "\n"
     ]
    }
   ],
   "source": [
    "# Print the imbalanced classification report\n",
    "print(classification_report_imbalanced(y_test, y_pred))"
   ]
  },
  {
   "cell_type": "code",
   "execution_count": null,
   "id": "bd11fdb6",
   "metadata": {},
   "outputs": [],
   "source": []
  }
 ],
 "metadata": {
  "kernelspec": {
   "display_name": "mlenv",
   "language": "python",
   "name": "mlenv"
  },
  "language_info": {
   "codemirror_mode": {
    "name": "ipython",
    "version": 3
   },
   "file_extension": ".py",
   "mimetype": "text/x-python",
   "name": "python",
   "nbconvert_exporter": "python",
   "pygments_lexer": "ipython3",
   "version": "3.7.13"
  }
 },
 "nbformat": 4,
 "nbformat_minor": 5
}
